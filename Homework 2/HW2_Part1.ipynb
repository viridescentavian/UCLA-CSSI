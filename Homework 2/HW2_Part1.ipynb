{
  "nbformat": 4,
  "nbformat_minor": 0,
  "metadata": {
    "colab": {
      "name": "Homework2 Part 1 Code.ipHynb",
      "provenance": []
    },
    "kernelspec": {
      "name": "python3",
      "display_name": "Python 3"
    },
    "language_info": {
      "name": "python"
    }
  },
  "cells": [
    {
      "cell_type": "markdown",
      "metadata": {
        "id": "7XqRvBwudEXU"
      },
      "source": [
        "**2.1.2 Estimating parameters using training dataset**\n",
        "\n",
        "Calculating MSE for each line in Table 2.1"
      ]
    },
    {
      "cell_type": "code",
      "metadata": {
        "colab": {
          "base_uri": "https://localhost:8080/"
        },
        "id": "UuylEw1oc_rc",
        "outputId": "f23611d7-9a38-429b-d840-ec3bbf1fb0df"
      },
      "source": [
        "from sklearn.metrics import mean_squared_error\n",
        "\n",
        "actual = [5,7,6,5.5]\n",
        "predicted1 = [-46,-61,-55,-49]\n",
        "predicted2 = [-27,-35,-32,-28.5]\n",
        "\n",
        "print(f'MSE for line 1: {mean_squared_error(actual,predicted1)}')\n",
        "print(f'MSE for line 2: {mean_squared_error(actual,predicted2)}')"
      ],
      "execution_count": null,
      "outputs": [
        {
          "output_type": "stream",
          "text": [
            "MSE for line 1: 3479.0625\n",
            "MSE for line 2: 1347.0\n"
          ],
          "name": "stdout"
        }
      ]
    },
    {
      "cell_type": "markdown",
      "metadata": {
        "id": "rGx2QLW5l50J"
      },
      "source": [
        "Calculating best-fit line for the house price dataset"
      ]
    },
    {
      "cell_type": "code",
      "metadata": {
        "colab": {
          "base_uri": "https://localhost:8080/"
        },
        "id": "vGJV6MqjmF8Z",
        "outputId": "4cdc48e4-4575-4856-d0f5-a36e5fd78773"
      },
      "source": [
        "import numpy as np\n",
        "from sklearn.metrics import mean_squared_error\n",
        "\n",
        "def simple_linear_regression_fit(x_train: np.ndarray, y_train: np.ndarray) -> np.ndarray:\n",
        "\n",
        "    # check size\n",
        "    if len(x_train.shape) < 2:\n",
        "        x_train = x_train.reshape(x_train.shape[0], 1)\n",
        "\n",
        "    if len(y_train.shape) < 2:\n",
        "        y_train = y_train.reshape(y_train.shape[0], 1)\n",
        "\n",
        "    # compute means\n",
        "    y_bar = np.mean(y_train)\n",
        "    x_bar = np.mean(x_train)\n",
        "\n",
        "    # build the two terms\n",
        "    numerator = np.sum( (x_train - x_bar)*(y_train - y_bar) )\n",
        "    denominator = np.sum((x_train - x_bar)**2)\n",
        "    \n",
        "    #slope beta1\n",
        "    beta_1 = numerator/denominator\n",
        "\n",
        "    #intercept beta0\n",
        "    beta_0 = y_bar - beta_1*x_bar\n",
        "\n",
        "    return np.array([beta_0,beta_1])\n",
        "\n",
        "# input values\n",
        "x_train = np.array([15,20,18,16])\n",
        "y_train = np.array([5,7,6,5.5])\n",
        "\n",
        "betas = simple_linear_regression_fit(x_train, y_train)\n",
        "\n",
        "beta_0 = betas[0]\n",
        "beta_1 = betas[1]\n",
        "\n",
        "print(\"The best-fit line is {0:8.6f} + {1:8.6f} * x\".format(beta_0, beta_1))\n",
        "\n",
        "actual = [5,7,6,5.5]\n",
        "predicted = []\n",
        "\n",
        "for val in x_train:\n",
        "  predicted.append(beta_0 + beta_1 * val)\n",
        "\n",
        "print(f'MSE: {mean_squared_error(actual,predicted)}')\n"
      ],
      "execution_count": null,
      "outputs": [
        {
          "output_type": "stream",
          "text": [
            "The best-fit line is -0.703390 + 0.381356 * x\n",
            "MSE: 0.010593220338983047\n"
          ],
          "name": "stdout"
        }
      ]
    },
    {
      "cell_type": "markdown",
      "metadata": {
        "id": "jC0gkRQwSo5C"
      },
      "source": [
        "**2.1.3 Model Evaluation**\n",
        "\n",
        "Evaluate model using MSE with new table"
      ]
    },
    {
      "cell_type": "code",
      "metadata": {
        "colab": {
          "base_uri": "https://localhost:8080/"
        },
        "id": "9GHeENrtS14z",
        "outputId": "efe55c91-143a-450c-91b6-40c40c86fbc6"
      },
      "source": [
        "x_test = [25,12]\n",
        "actual = [8,4]\n",
        "predicted = []\n",
        "\n",
        "for val in x_test:\n",
        "  predicted.append(beta_0 + beta_1 * val)\n",
        "\n",
        "print(f'Predicted prices: {predicted}')\n",
        "print(f'MSE: {mean_squared_error(actual,predicted)}')"
      ],
      "execution_count": null,
      "outputs": [
        {
          "output_type": "stream",
          "text": [
            "Predicted prices: [8.830508474576272, 3.872881355932204]\n",
            "MSE: 0.3529517380063203\n"
          ],
          "name": "stdout"
        }
      ]
    }
  ]
}