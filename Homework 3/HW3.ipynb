{
  "nbformat": 4,
  "nbformat_minor": 0,
  "metadata": {
    "kernelspec": {
      "display_name": "Python 3",
      "language": "python",
      "name": "python3"
    },
    "language_info": {
      "codemirror_mode": {
        "name": "ipython",
        "version": 3
      },
      "file_extension": ".py",
      "mimetype": "text/x-python",
      "name": "python",
      "nbconvert_exporter": "python",
      "pygments_lexer": "ipython3",
      "version": "3.8.8"
    },
    "colab": {
      "name": "HW3",
      "provenance": [],
      "collapsed_sections": []
    }
  },
  "cells": [
    {
      "cell_type": "markdown",
      "metadata": {
        "id": "upobLF-7XNHo"
      },
      "source": [
        "# CS97 HW3 - Binary Classification Comparative Methods"
      ]
    },
    {
      "cell_type": "markdown",
      "metadata": {
        "id": "bpZ2eJ6AXNHp"
      },
      "source": [
        "For this project we're going to attempt a binary classification of a dataset using multiple methods and compare results. \n",
        "\n",
        "Our goals for this project will be to introduce you to several of the most common classification techniques, how to perform them and tweek parameters to optimize outcomes, how to produce and interpret results, and compare performance. You will be asked to analyze your findings and provide explanations for observed performance. \n",
        "\n",
        "Specifically you will be asked to classify whether a <b>patient is suffering from heart disease</b> based on a host of potential medical factors.\n",
        "\n",
        "<b><u>DEFINITIONS</b></u>\n",
        "\n",
        "\n",
        "<b> Binary Classification:</b>\n",
        "In this case a complex dataset has an added 'target' label with one of two options. Your learning algorithm will try to assign one of these labels to the data.\n",
        "\n",
        "<b> Supervised Learning:</b>\n",
        "This data is fully supervised, which means it's been fully labeled and we can trust the veracity of the labeling."
      ]
    },
    {
      "cell_type": "markdown",
      "metadata": {
        "id": "CImOo6xKXNHq"
      },
      "source": [
        "## 0.1. Background: The Dataset "
      ]
    },
    {
      "cell_type": "markdown",
      "metadata": {
        "id": "TrWZoTnkXNHr"
      },
      "source": [
        "For this exercise we will be using a subset of the UCI Heart Disease dataset, leveraging the fourteen most commonly used attributes. All identifying information about the patient has been scrubbed. \n",
        "\n",
        "The dataset includes 14 columns. The information provided by each column is as follows:\n",
        "<ul>\n",
        "    <li><b>age:</b> Age in years</li>\n",
        "    <li><b>sex:</b> (1 = male; 0 = female)</li>\n",
        "    <li><b>cp:</b> Chest pain type (0 = asymptomatic; 1 = atypical angina; 2 = non-anginal pain; 3 = typical angina)</li>\n",
        "    <li><b>trestbps:</b> Resting blood pressure (in mm Hg on admission to the hospital)</li>\n",
        "    <li><b>cholserum:</b> Cholestoral in mg/dl</li>\n",
        "    <li><b>fbs</b> Fasting blood sugar > 120 mg/dl (1 = true; 0 = false)</li>\n",
        "    <li><b>restecg:</b> Resting electrocardiographic results (0= showing probable or definite left ventricular hypertrophy by Estes' criteria; 1 = normal; 2 = having ST-T wave abnormality (T wave inversions and/or ST elevation or depression of > 0.05 mV))</li>\n",
        "    <li><b>thalach:</b> Maximum heart rate achieved</li>\n",
        "    <li><b>exang:</b> Exercise induced angina (1 = yes; 0 = no)</li>\n",
        "    <li><b>oldpeakST:</b> Depression induced by exercise relative to rest</li>\n",
        "    <li><b>slope:</b> The slope of the peak exercise ST segment (0 = downsloping; 1 = flat; 2 = upsloping)</li>\n",
        "    <li><b>ca:</b> Number of major vessels (0-3) colored by flourosopy</li>\n",
        "    <li><b>thal:</b> 1 = normal; 2 = fixed defect; 7 = reversable defect</li>\n",
        "    <li><b><u>Sick:</u></b> Indicates the presence of Heart disease (True = Disease; False = No disease)</li>\n",
        "</ul>\n",
        "    \n"
      ]
    },
    {
      "cell_type": "markdown",
      "metadata": {
        "id": "pNbi-JouXNHs"
      },
      "source": [
        "## 0.2. Loading Essentials and Helper Functions "
      ]
    },
    {
      "cell_type": "code",
      "metadata": {
        "id": "TC3VZ8Z5XNHs"
      },
      "source": [
        "#Here are a set of libraries we imported to complete this assignment. \n",
        "#Feel free to use these or equivalent libraries for your implementation\n",
        "import numpy as np # linear algebra\n",
        "import pandas as pd # data processing, CSV file I/O (e.g. pd.read_csv)\n",
        "import matplotlib.pyplot as plt # this is used for the plot the graph \n",
        "import os\n",
        "import seaborn as sns # used for plot interactive graph.\n",
        "from sklearn.model_selection import train_test_split, cross_val_score, GridSearchCV\n",
        "from sklearn import metrics\n",
        "from sklearn.svm import SVC  \n",
        "from sklearn.linear_model import LogisticRegression\n",
        "from sklearn.neighbors import KNeighborsClassifier\n",
        "from sklearn.tree import DecisionTreeClassifier\n",
        "from sklearn.cluster import KMeans\n",
        "from sklearn.metrics import confusion_matrix\n",
        "import sklearn.metrics.cluster as smc\n",
        "from sklearn.model_selection import KFold\n",
        "\n",
        "from matplotlib import pyplot\n",
        "import itertools\n",
        "\n",
        "%matplotlib inline\n",
        "\n",
        "import random \n",
        "  \n",
        "random.seed(42) "
      ],
      "execution_count": null,
      "outputs": []
    },
    {
      "cell_type": "code",
      "metadata": {
        "id": "XvJNZ0fzXNHt"
      },
      "source": [
        "# Helper function allowing you to export a graph\n",
        "def save_fig(fig_id, tight_layout=True, fig_extension=\"png\", resolution=300):\n",
        "    path = os.path.join(fig_id + \".\" + fig_extension)\n",
        "    print(\"Saving figure\", fig_id)\n",
        "    if tight_layout:\n",
        "        plt.tight_layout()\n",
        "    plt.savefig(path, format=fig_extension, dpi=resolution)"
      ],
      "execution_count": null,
      "outputs": []
    },
    {
      "cell_type": "code",
      "metadata": {
        "id": "qqtIPRdzXNHt"
      },
      "source": [
        "# Helper function that allows you to draw nicely formatted confusion matrices\n",
        "def draw_confusion_matrix(y, yhat, classes):\n",
        "    '''\n",
        "        Draws a confusion matrix for the given target and predictions\n",
        "        Adapted from scikit-learn and discussion example.\n",
        "    '''\n",
        "    plt.cla()\n",
        "    plt.clf()\n",
        "    matrix = confusion_matrix(y, yhat)\n",
        "    plt.imshow(matrix, interpolation='nearest', cmap=plt.cm.Blues)\n",
        "    plt.title(\"Confusion Matrix\")\n",
        "    plt.colorbar()\n",
        "    num_classes = len(classes)\n",
        "    plt.xticks(np.arange(num_classes), classes, rotation=90)\n",
        "    plt.yticks(np.arange(num_classes), classes)\n",
        "    \n",
        "    fmt = 'd'\n",
        "    thresh = matrix.max() / 2.\n",
        "    for i, j in itertools.product(range(matrix.shape[0]), range(matrix.shape[1])):\n",
        "        plt.text(j, i, format(matrix[i, j], fmt),\n",
        "                 horizontalalignment=\"center\",\n",
        "                 color=\"white\" if matrix[i, j] > thresh else \"black\")\n",
        "\n",
        "    plt.ylabel('True label')\n",
        "    plt.xlabel('Predicted label')\n",
        "    plt.tight_layout()\n",
        "    plt.show()"
      ],
      "execution_count": null,
      "outputs": []
    },
    {
      "cell_type": "markdown",
      "metadata": {
        "id": "MIdoNvYlXNHv"
      },
      "source": [
        "## [20pt] Part 1.  Load the Data and Analyze"
      ]
    },
    {
      "cell_type": "markdown",
      "metadata": {
        "id": "wh-zKMpIXNHv"
      },
      "source": [
        "### 1.1. Let's first load our dataset (heartdisease.csv) so we'll be able to work with it. (correct the relative path if your notebook is in a different directory than the csv file.)"
      ]
    },
    {
      "cell_type": "code",
      "metadata": {
        "id": "5220iz66XNHw",
        "colab": {
          "base_uri": "https://localhost:8080/"
        },
        "outputId": "f2e15c16-207f-48fd-98b3-0a0c2f802622"
      },
      "source": [
        "'''NOTE FROM TA's'''\n",
        "'''Please use this website https://htmtopdf.herokuapp.com/ipynbviewer/\n",
        "  to convert ipynb file of this colab (File -> download as ipynb) to pdf, \n",
        "  instead of ctrl+p this page because it will not format beutifully\n",
        "  and it'll be difficult for us to grade'''\n",
        "\n",
        "''' your code goes below here'''\n",
        "\n",
        "import os\n",
        "import tarfile\n",
        "import urllib\n",
        "\n",
        "from google.colab import drive\n",
        "drive.mount('/content/drive')\n",
        "\n",
        "import pandas as pd\n",
        "\n",
        "DATASET_PATH = \"/content/drive/MyDrive/Computer Science/UCLA CSSI/HW3\"\n",
        "\n",
        "def load_data(data_path):\n",
        "    csv_path = os.path.join(DATASET_PATH, \"heartdisease.csv\")\n",
        "    return pd.read_csv(csv_path)\n",
        "\n",
        "heartdisease = load_data(DATASET_PATH)"
      ],
      "execution_count": null,
      "outputs": [
        {
          "output_type": "stream",
          "text": [
            "Drive already mounted at /content/drive; to attempt to forcibly remount, call drive.mount(\"/content/drive\", force_remount=True).\n"
          ],
          "name": "stdout"
        }
      ]
    },
    {
      "cell_type": "markdown",
      "metadata": {
        "id": "h_USIcXSXNHw"
      },
      "source": [
        "### 1.2. Now that our data is loaded, let's take a closer look at the dataset we're working with. Use the head method and the describe method to display some of the rows and undertand the summary of statistics."
      ]
    },
    {
      "cell_type": "code",
      "metadata": {
        "id": "16IWwsPNXNHx",
        "colab": {
          "base_uri": "https://localhost:8080/",
          "height": 204
        },
        "outputId": "182a55e7-8202-4539-f0b8-c40495501172"
      },
      "source": [
        "#use head() here to show top 5 rows\n",
        "heartdisease.head()"
      ],
      "execution_count": null,
      "outputs": [
        {
          "output_type": "execute_result",
          "data": {
            "text/html": [
              "<div>\n",
              "<style scoped>\n",
              "    .dataframe tbody tr th:only-of-type {\n",
              "        vertical-align: middle;\n",
              "    }\n",
              "\n",
              "    .dataframe tbody tr th {\n",
              "        vertical-align: top;\n",
              "    }\n",
              "\n",
              "    .dataframe thead th {\n",
              "        text-align: right;\n",
              "    }\n",
              "</style>\n",
              "<table border=\"1\" class=\"dataframe\">\n",
              "  <thead>\n",
              "    <tr style=\"text-align: right;\">\n",
              "      <th></th>\n",
              "      <th>age</th>\n",
              "      <th>sex</th>\n",
              "      <th>cp</th>\n",
              "      <th>trestbps</th>\n",
              "      <th>chol</th>\n",
              "      <th>fbs</th>\n",
              "      <th>restecg</th>\n",
              "      <th>thalach</th>\n",
              "      <th>exang</th>\n",
              "      <th>oldpeak</th>\n",
              "      <th>slope</th>\n",
              "      <th>ca</th>\n",
              "      <th>thal</th>\n",
              "      <th>sick</th>\n",
              "    </tr>\n",
              "  </thead>\n",
              "  <tbody>\n",
              "    <tr>\n",
              "      <th>0</th>\n",
              "      <td>63</td>\n",
              "      <td>1</td>\n",
              "      <td>3</td>\n",
              "      <td>145</td>\n",
              "      <td>233</td>\n",
              "      <td>1</td>\n",
              "      <td>0</td>\n",
              "      <td>150</td>\n",
              "      <td>0</td>\n",
              "      <td>2.3</td>\n",
              "      <td>0</td>\n",
              "      <td>0</td>\n",
              "      <td>1</td>\n",
              "      <td>False</td>\n",
              "    </tr>\n",
              "    <tr>\n",
              "      <th>1</th>\n",
              "      <td>37</td>\n",
              "      <td>1</td>\n",
              "      <td>2</td>\n",
              "      <td>130</td>\n",
              "      <td>250</td>\n",
              "      <td>0</td>\n",
              "      <td>1</td>\n",
              "      <td>187</td>\n",
              "      <td>0</td>\n",
              "      <td>3.5</td>\n",
              "      <td>0</td>\n",
              "      <td>0</td>\n",
              "      <td>2</td>\n",
              "      <td>False</td>\n",
              "    </tr>\n",
              "    <tr>\n",
              "      <th>2</th>\n",
              "      <td>41</td>\n",
              "      <td>0</td>\n",
              "      <td>1</td>\n",
              "      <td>130</td>\n",
              "      <td>204</td>\n",
              "      <td>0</td>\n",
              "      <td>0</td>\n",
              "      <td>172</td>\n",
              "      <td>0</td>\n",
              "      <td>1.4</td>\n",
              "      <td>2</td>\n",
              "      <td>0</td>\n",
              "      <td>2</td>\n",
              "      <td>False</td>\n",
              "    </tr>\n",
              "    <tr>\n",
              "      <th>3</th>\n",
              "      <td>56</td>\n",
              "      <td>1</td>\n",
              "      <td>1</td>\n",
              "      <td>120</td>\n",
              "      <td>236</td>\n",
              "      <td>0</td>\n",
              "      <td>1</td>\n",
              "      <td>178</td>\n",
              "      <td>0</td>\n",
              "      <td>0.8</td>\n",
              "      <td>2</td>\n",
              "      <td>0</td>\n",
              "      <td>2</td>\n",
              "      <td>False</td>\n",
              "    </tr>\n",
              "    <tr>\n",
              "      <th>4</th>\n",
              "      <td>57</td>\n",
              "      <td>0</td>\n",
              "      <td>0</td>\n",
              "      <td>120</td>\n",
              "      <td>354</td>\n",
              "      <td>0</td>\n",
              "      <td>1</td>\n",
              "      <td>163</td>\n",
              "      <td>1</td>\n",
              "      <td>0.6</td>\n",
              "      <td>2</td>\n",
              "      <td>0</td>\n",
              "      <td>2</td>\n",
              "      <td>False</td>\n",
              "    </tr>\n",
              "  </tbody>\n",
              "</table>\n",
              "</div>"
            ],
            "text/plain": [
              "   age  sex  cp  trestbps  chol  fbs  ...  exang  oldpeak  slope  ca  thal   sick\n",
              "0   63    1   3       145   233    1  ...      0      2.3      0   0     1  False\n",
              "1   37    1   2       130   250    0  ...      0      3.5      0   0     2  False\n",
              "2   41    0   1       130   204    0  ...      0      1.4      2   0     2  False\n",
              "3   56    1   1       120   236    0  ...      0      0.8      2   0     2  False\n",
              "4   57    0   0       120   354    0  ...      1      0.6      2   0     2  False\n",
              "\n",
              "[5 rows x 14 columns]"
            ]
          },
          "metadata": {
            "tags": []
          },
          "execution_count": 47
        }
      ]
    },
    {
      "cell_type": "code",
      "metadata": {
        "id": "KhmoqRF-XNHx",
        "colab": {
          "base_uri": "https://localhost:8080/",
          "height": 297
        },
        "outputId": "c43126c9-05b1-4129-d383-91c4a844d317"
      },
      "source": [
        "#use describe() here to see the statsitics of each feature\n",
        "heartdisease.describe()"
      ],
      "execution_count": null,
      "outputs": [
        {
          "output_type": "execute_result",
          "data": {
            "text/html": [
              "<div>\n",
              "<style scoped>\n",
              "    .dataframe tbody tr th:only-of-type {\n",
              "        vertical-align: middle;\n",
              "    }\n",
              "\n",
              "    .dataframe tbody tr th {\n",
              "        vertical-align: top;\n",
              "    }\n",
              "\n",
              "    .dataframe thead th {\n",
              "        text-align: right;\n",
              "    }\n",
              "</style>\n",
              "<table border=\"1\" class=\"dataframe\">\n",
              "  <thead>\n",
              "    <tr style=\"text-align: right;\">\n",
              "      <th></th>\n",
              "      <th>age</th>\n",
              "      <th>sex</th>\n",
              "      <th>cp</th>\n",
              "      <th>trestbps</th>\n",
              "      <th>chol</th>\n",
              "      <th>fbs</th>\n",
              "      <th>restecg</th>\n",
              "      <th>thalach</th>\n",
              "      <th>exang</th>\n",
              "      <th>oldpeak</th>\n",
              "      <th>slope</th>\n",
              "      <th>ca</th>\n",
              "      <th>thal</th>\n",
              "    </tr>\n",
              "  </thead>\n",
              "  <tbody>\n",
              "    <tr>\n",
              "      <th>count</th>\n",
              "      <td>303.000000</td>\n",
              "      <td>303.000000</td>\n",
              "      <td>303.000000</td>\n",
              "      <td>303.000000</td>\n",
              "      <td>303.000000</td>\n",
              "      <td>303.000000</td>\n",
              "      <td>303.000000</td>\n",
              "      <td>303.000000</td>\n",
              "      <td>303.000000</td>\n",
              "      <td>303.000000</td>\n",
              "      <td>303.000000</td>\n",
              "      <td>303.000000</td>\n",
              "      <td>303.000000</td>\n",
              "    </tr>\n",
              "    <tr>\n",
              "      <th>mean</th>\n",
              "      <td>54.366337</td>\n",
              "      <td>0.683168</td>\n",
              "      <td>0.966997</td>\n",
              "      <td>131.623762</td>\n",
              "      <td>246.264026</td>\n",
              "      <td>0.148515</td>\n",
              "      <td>0.528053</td>\n",
              "      <td>149.646865</td>\n",
              "      <td>0.326733</td>\n",
              "      <td>1.039604</td>\n",
              "      <td>1.399340</td>\n",
              "      <td>0.729373</td>\n",
              "      <td>2.313531</td>\n",
              "    </tr>\n",
              "    <tr>\n",
              "      <th>std</th>\n",
              "      <td>9.082101</td>\n",
              "      <td>0.466011</td>\n",
              "      <td>1.032052</td>\n",
              "      <td>17.538143</td>\n",
              "      <td>51.830751</td>\n",
              "      <td>0.356198</td>\n",
              "      <td>0.525860</td>\n",
              "      <td>22.905161</td>\n",
              "      <td>0.469794</td>\n",
              "      <td>1.161075</td>\n",
              "      <td>0.616226</td>\n",
              "      <td>1.022606</td>\n",
              "      <td>0.612277</td>\n",
              "    </tr>\n",
              "    <tr>\n",
              "      <th>min</th>\n",
              "      <td>29.000000</td>\n",
              "      <td>0.000000</td>\n",
              "      <td>0.000000</td>\n",
              "      <td>94.000000</td>\n",
              "      <td>126.000000</td>\n",
              "      <td>0.000000</td>\n",
              "      <td>0.000000</td>\n",
              "      <td>71.000000</td>\n",
              "      <td>0.000000</td>\n",
              "      <td>0.000000</td>\n",
              "      <td>0.000000</td>\n",
              "      <td>0.000000</td>\n",
              "      <td>0.000000</td>\n",
              "    </tr>\n",
              "    <tr>\n",
              "      <th>25%</th>\n",
              "      <td>47.500000</td>\n",
              "      <td>0.000000</td>\n",
              "      <td>0.000000</td>\n",
              "      <td>120.000000</td>\n",
              "      <td>211.000000</td>\n",
              "      <td>0.000000</td>\n",
              "      <td>0.000000</td>\n",
              "      <td>133.500000</td>\n",
              "      <td>0.000000</td>\n",
              "      <td>0.000000</td>\n",
              "      <td>1.000000</td>\n",
              "      <td>0.000000</td>\n",
              "      <td>2.000000</td>\n",
              "    </tr>\n",
              "    <tr>\n",
              "      <th>50%</th>\n",
              "      <td>55.000000</td>\n",
              "      <td>1.000000</td>\n",
              "      <td>1.000000</td>\n",
              "      <td>130.000000</td>\n",
              "      <td>240.000000</td>\n",
              "      <td>0.000000</td>\n",
              "      <td>1.000000</td>\n",
              "      <td>153.000000</td>\n",
              "      <td>0.000000</td>\n",
              "      <td>0.800000</td>\n",
              "      <td>1.000000</td>\n",
              "      <td>0.000000</td>\n",
              "      <td>2.000000</td>\n",
              "    </tr>\n",
              "    <tr>\n",
              "      <th>75%</th>\n",
              "      <td>61.000000</td>\n",
              "      <td>1.000000</td>\n",
              "      <td>2.000000</td>\n",
              "      <td>140.000000</td>\n",
              "      <td>274.500000</td>\n",
              "      <td>0.000000</td>\n",
              "      <td>1.000000</td>\n",
              "      <td>166.000000</td>\n",
              "      <td>1.000000</td>\n",
              "      <td>1.600000</td>\n",
              "      <td>2.000000</td>\n",
              "      <td>1.000000</td>\n",
              "      <td>3.000000</td>\n",
              "    </tr>\n",
              "    <tr>\n",
              "      <th>max</th>\n",
              "      <td>77.000000</td>\n",
              "      <td>1.000000</td>\n",
              "      <td>3.000000</td>\n",
              "      <td>200.000000</td>\n",
              "      <td>564.000000</td>\n",
              "      <td>1.000000</td>\n",
              "      <td>2.000000</td>\n",
              "      <td>202.000000</td>\n",
              "      <td>1.000000</td>\n",
              "      <td>6.200000</td>\n",
              "      <td>2.000000</td>\n",
              "      <td>4.000000</td>\n",
              "      <td>3.000000</td>\n",
              "    </tr>\n",
              "  </tbody>\n",
              "</table>\n",
              "</div>"
            ],
            "text/plain": [
              "              age         sex          cp  ...       slope          ca        thal\n",
              "count  303.000000  303.000000  303.000000  ...  303.000000  303.000000  303.000000\n",
              "mean    54.366337    0.683168    0.966997  ...    1.399340    0.729373    2.313531\n",
              "std      9.082101    0.466011    1.032052  ...    0.616226    1.022606    0.612277\n",
              "min     29.000000    0.000000    0.000000  ...    0.000000    0.000000    0.000000\n",
              "25%     47.500000    0.000000    0.000000  ...    1.000000    0.000000    2.000000\n",
              "50%     55.000000    1.000000    1.000000  ...    1.000000    0.000000    2.000000\n",
              "75%     61.000000    1.000000    2.000000  ...    2.000000    1.000000    3.000000\n",
              "max     77.000000    1.000000    3.000000  ...    2.000000    4.000000    3.000000\n",
              "\n",
              "[8 rows x 13 columns]"
            ]
          },
          "metadata": {
            "tags": []
          },
          "execution_count": 48
        }
      ]
    },
    {
      "cell_type": "markdown",
      "metadata": {
        "id": "PyWv4-1MXNHx"
      },
      "source": [
        "### 1.3. Sometimes data will be stored in different formats (e.g., string, date, boolean), but many learning methods work strictly on numeric inputs. Call the info method to determine the datafield type for each column. Are there any that are problemmatic and why?"
      ]
    },
    {
      "cell_type": "code",
      "metadata": {
        "id": "Iq-5BOGwXNHy",
        "colab": {
          "base_uri": "https://localhost:8080/"
        },
        "outputId": "232ec1a5-6447-4f75-b7f1-69097ae31a5a"
      },
      "source": [
        "# use info() to show the data type\n",
        "heartdisease.info()"
      ],
      "execution_count": null,
      "outputs": [
        {
          "output_type": "stream",
          "text": [
            "<class 'pandas.core.frame.DataFrame'>\n",
            "RangeIndex: 303 entries, 0 to 302\n",
            "Data columns (total 14 columns):\n",
            " #   Column    Non-Null Count  Dtype  \n",
            "---  ------    --------------  -----  \n",
            " 0   age       303 non-null    int64  \n",
            " 1   sex       303 non-null    int64  \n",
            " 2   cp        303 non-null    int64  \n",
            " 3   trestbps  303 non-null    int64  \n",
            " 4   chol      303 non-null    int64  \n",
            " 5   fbs       303 non-null    int64  \n",
            " 6   restecg   303 non-null    int64  \n",
            " 7   thalach   303 non-null    int64  \n",
            " 8   exang     303 non-null    int64  \n",
            " 9   oldpeak   303 non-null    float64\n",
            " 10  slope     303 non-null    int64  \n",
            " 11  ca        303 non-null    int64  \n",
            " 12  thal      303 non-null    int64  \n",
            " 13  sick      303 non-null    bool   \n",
            "dtypes: bool(1), float64(1), int64(12)\n",
            "memory usage: 31.2 KB\n"
          ],
          "name": "stdout"
        }
      ]
    },
    {
      "cell_type": "markdown",
      "metadata": {
        "id": "cX4ZzNgBXNHy"
      },
      "source": [
        "[Use this area to describe any fields you believe will be problemmatic and why? Hint: we can handle numeric variables, such as int and float.] E.g., All the columns in our dataframe are numeric (either int or float), however our target variable 'sick' is a boolean and may need to be modified."
      ]
    },
    {
      "cell_type": "markdown",
      "metadata": {
        "id": "PFrIlNZiXNHy"
      },
      "source": [
        "### 1.4. Determine if we're dealing with any null values. If so, report on which columns? "
      ]
    },
    {
      "cell_type": "code",
      "metadata": {
        "id": "JDWVKylnXNHy",
        "colab": {
          "base_uri": "https://localhost:8080/",
          "height": 49
        },
        "outputId": "7e8fe4bd-74b8-4327-9a2e-36ded794eb90"
      },
      "source": [
        "# hint isnull() (HW1)\n",
        "null_rows = heartdisease[heartdisease.isnull().any(axis=1)]\n",
        "null_rows"
      ],
      "execution_count": null,
      "outputs": [
        {
          "output_type": "execute_result",
          "data": {
            "text/html": [
              "<div>\n",
              "<style scoped>\n",
              "    .dataframe tbody tr th:only-of-type {\n",
              "        vertical-align: middle;\n",
              "    }\n",
              "\n",
              "    .dataframe tbody tr th {\n",
              "        vertical-align: top;\n",
              "    }\n",
              "\n",
              "    .dataframe thead th {\n",
              "        text-align: right;\n",
              "    }\n",
              "</style>\n",
              "<table border=\"1\" class=\"dataframe\">\n",
              "  <thead>\n",
              "    <tr style=\"text-align: right;\">\n",
              "      <th></th>\n",
              "      <th>age</th>\n",
              "      <th>sex</th>\n",
              "      <th>cp</th>\n",
              "      <th>trestbps</th>\n",
              "      <th>chol</th>\n",
              "      <th>fbs</th>\n",
              "      <th>restecg</th>\n",
              "      <th>thalach</th>\n",
              "      <th>exang</th>\n",
              "      <th>oldpeak</th>\n",
              "      <th>slope</th>\n",
              "      <th>ca</th>\n",
              "      <th>thal</th>\n",
              "      <th>sick</th>\n",
              "    </tr>\n",
              "  </thead>\n",
              "  <tbody>\n",
              "  </tbody>\n",
              "</table>\n",
              "</div>"
            ],
            "text/plain": [
              "Empty DataFrame\n",
              "Columns: [age, sex, cp, trestbps, chol, fbs, restecg, thalach, exang, oldpeak, slope, ca, thal, sick]\n",
              "Index: []"
            ]
          },
          "metadata": {
            "tags": []
          },
          "execution_count": 50
        }
      ]
    },
    {
      "cell_type": "markdown",
      "metadata": {
        "id": "-B1auWy4XNHz"
      },
      "source": [
        "[Discuss here]\n",
        "\n",
        "**Answer:**\n",
        "\n",
        "The use of `isnull()` only returned the names of each column, which shows that the dataset does not contain any null values in any row. If null values, did exist, they would show as `NaN` as similar to the example in HW1.\n",
        "\n",
        "However, the `sick` column is notable. It contains boolean values of true and false, which will need to be converted into binary numbers before it is able to be used."
      ]
    },
    {
      "cell_type": "markdown",
      "metadata": {
        "id": "YuaEfczwXNHz"
      },
      "source": [
        "### 1.5. Before we begin our analysis we need to fix the field(s) that will be problematic. Specifically convert our boolean 'sick' variable into a binary numeric target variable (values of either '0' or '1'), name it as 'target', and then drop the original 'sick' datafield from the dataframe. (hint: try label encoder or .astype()"
      ]
    },
    {
      "cell_type": "code",
      "metadata": {
        "id": "l7M85tmEXNH0"
      },
      "source": [
        "heartdisease['target'] = (heartdisease['sick']).astype(int)\n",
        "del heartdisease['sick']"
      ],
      "execution_count": null,
      "outputs": []
    },
    {
      "cell_type": "code",
      "metadata": {
        "id": "66b2CViNXNH0",
        "colab": {
          "base_uri": "https://localhost:8080/",
          "height": 204
        },
        "outputId": "e9fedde5-b3b1-46de-d26e-b050fc07bacb"
      },
      "source": [
        "heartdisease.head()"
      ],
      "execution_count": null,
      "outputs": [
        {
          "output_type": "execute_result",
          "data": {
            "text/html": [
              "<div>\n",
              "<style scoped>\n",
              "    .dataframe tbody tr th:only-of-type {\n",
              "        vertical-align: middle;\n",
              "    }\n",
              "\n",
              "    .dataframe tbody tr th {\n",
              "        vertical-align: top;\n",
              "    }\n",
              "\n",
              "    .dataframe thead th {\n",
              "        text-align: right;\n",
              "    }\n",
              "</style>\n",
              "<table border=\"1\" class=\"dataframe\">\n",
              "  <thead>\n",
              "    <tr style=\"text-align: right;\">\n",
              "      <th></th>\n",
              "      <th>age</th>\n",
              "      <th>sex</th>\n",
              "      <th>cp</th>\n",
              "      <th>trestbps</th>\n",
              "      <th>chol</th>\n",
              "      <th>fbs</th>\n",
              "      <th>restecg</th>\n",
              "      <th>thalach</th>\n",
              "      <th>exang</th>\n",
              "      <th>oldpeak</th>\n",
              "      <th>slope</th>\n",
              "      <th>ca</th>\n",
              "      <th>thal</th>\n",
              "      <th>target</th>\n",
              "    </tr>\n",
              "  </thead>\n",
              "  <tbody>\n",
              "    <tr>\n",
              "      <th>0</th>\n",
              "      <td>63</td>\n",
              "      <td>1</td>\n",
              "      <td>3</td>\n",
              "      <td>145</td>\n",
              "      <td>233</td>\n",
              "      <td>1</td>\n",
              "      <td>0</td>\n",
              "      <td>150</td>\n",
              "      <td>0</td>\n",
              "      <td>2.3</td>\n",
              "      <td>0</td>\n",
              "      <td>0</td>\n",
              "      <td>1</td>\n",
              "      <td>0</td>\n",
              "    </tr>\n",
              "    <tr>\n",
              "      <th>1</th>\n",
              "      <td>37</td>\n",
              "      <td>1</td>\n",
              "      <td>2</td>\n",
              "      <td>130</td>\n",
              "      <td>250</td>\n",
              "      <td>0</td>\n",
              "      <td>1</td>\n",
              "      <td>187</td>\n",
              "      <td>0</td>\n",
              "      <td>3.5</td>\n",
              "      <td>0</td>\n",
              "      <td>0</td>\n",
              "      <td>2</td>\n",
              "      <td>0</td>\n",
              "    </tr>\n",
              "    <tr>\n",
              "      <th>2</th>\n",
              "      <td>41</td>\n",
              "      <td>0</td>\n",
              "      <td>1</td>\n",
              "      <td>130</td>\n",
              "      <td>204</td>\n",
              "      <td>0</td>\n",
              "      <td>0</td>\n",
              "      <td>172</td>\n",
              "      <td>0</td>\n",
              "      <td>1.4</td>\n",
              "      <td>2</td>\n",
              "      <td>0</td>\n",
              "      <td>2</td>\n",
              "      <td>0</td>\n",
              "    </tr>\n",
              "    <tr>\n",
              "      <th>3</th>\n",
              "      <td>56</td>\n",
              "      <td>1</td>\n",
              "      <td>1</td>\n",
              "      <td>120</td>\n",
              "      <td>236</td>\n",
              "      <td>0</td>\n",
              "      <td>1</td>\n",
              "      <td>178</td>\n",
              "      <td>0</td>\n",
              "      <td>0.8</td>\n",
              "      <td>2</td>\n",
              "      <td>0</td>\n",
              "      <td>2</td>\n",
              "      <td>0</td>\n",
              "    </tr>\n",
              "    <tr>\n",
              "      <th>4</th>\n",
              "      <td>57</td>\n",
              "      <td>0</td>\n",
              "      <td>0</td>\n",
              "      <td>120</td>\n",
              "      <td>354</td>\n",
              "      <td>0</td>\n",
              "      <td>1</td>\n",
              "      <td>163</td>\n",
              "      <td>1</td>\n",
              "      <td>0.6</td>\n",
              "      <td>2</td>\n",
              "      <td>0</td>\n",
              "      <td>2</td>\n",
              "      <td>0</td>\n",
              "    </tr>\n",
              "  </tbody>\n",
              "</table>\n",
              "</div>"
            ],
            "text/plain": [
              "   age  sex  cp  trestbps  chol  fbs  ...  exang  oldpeak  slope  ca  thal  target\n",
              "0   63    1   3       145   233    1  ...      0      2.3      0   0     1       0\n",
              "1   37    1   2       130   250    0  ...      0      3.5      0   0     2       0\n",
              "2   41    0   1       130   204    0  ...      0      1.4      2   0     2       0\n",
              "3   56    1   1       120   236    0  ...      0      0.8      2   0     2       0\n",
              "4   57    0   0       120   354    0  ...      1      0.6      2   0     2       0\n",
              "\n",
              "[5 rows x 14 columns]"
            ]
          },
          "metadata": {
            "tags": []
          },
          "execution_count": 52
        }
      ]
    },
    {
      "cell_type": "markdown",
      "metadata": {
        "id": "1bqyyc48XNH0"
      },
      "source": [
        "### 1.6. Now that we have a feel for the data-types for each of the variables, plot histograms of each field and attempt to ascertain how each variable performs (is it a binary, or limited selection, or does it follow a gradient? "
      ]
    },
    {
      "cell_type": "code",
      "metadata": {
        "id": "fPpuVM9CXNH1",
        "colab": {
          "base_uri": "https://localhost:8080/",
          "height": 879
        },
        "outputId": "b1eeb97d-34e7-4396-bc50-85bb7e3a10c6"
      },
      "source": [
        "# hint data.hist() check HW1\n",
        "heartdisease.hist(bins=50, figsize=(20,15))\n",
        "plt.show()"
      ],
      "execution_count": null,
      "outputs": [
        {
          "output_type": "display_data",
          "data": {
            "image/png": "[encoded data removed]",
            "text/plain": [
              "<Figure size 1440x1080 with 16 Axes>"
            ]
          },
          "metadata": {
            "tags": [],
            "needs_background": "light"
          }
        }
      ]
    },
    {
      "cell_type": "markdown",
      "metadata": {
        "id": "fsHt0eh5XNH1"
      },
      "source": [
        "### 1.7. We also want to make sure we are dealing with a balanced dataset. In this case, we want to confirm whether or not we have an equitable number of  sick and healthy individuals to ensure that our classifier will have a sufficiently balanced dataset to adequately classify the two. Plot a histogram specifically of the sick target, and conduct a count of the number of sick and healthy individuals and report on the results: "
      ]
    },
    {
      "cell_type": "code",
      "metadata": {
        "id": "3ZGEJO7NXNH1",
        "colab": {
          "base_uri": "https://localhost:8080/",
          "height": 371
        },
        "outputId": "9fdcfb8b-01b4-44da-83fb-0d3bac6d1ac5"
      },
      "source": [
        "#data['target'].hist\n",
        "#data['target'].value_counts()\n",
        "heartdisease['target'].hist(bins = 3, figsize=(5,5))\n",
        "heartdisease['target'].value_counts()"
      ],
      "execution_count": null,
      "outputs": [
        {
          "output_type": "execute_result",
          "data": {
            "text/plain": [
              "0    165\n",
              "1    138\n",
              "Name: target, dtype: int64"
            ]
          },
          "metadata": {
            "tags": []
          },
          "execution_count": 54
        },
        {
          "output_type": "display_data",
          "data": {
            "image/png": "[encoded data removed]",
            "text/plain": [
              "<Figure size 360x360 with 1 Axes>"
            ]
          },
          "metadata": {
            "tags": [],
            "needs_background": "light"
          }
        }
      ]
    },
    {
      "cell_type": "markdown",
      "metadata": {
        "id": "CsVUEWxHXNH1"
      },
      "source": [
        "[Include description of findings here]\n",
        "\n",
        "**Answer:**\n",
        "\n",
        "Firstly, the `sick` column was converted from boolean values to binary values. Since this is also my target variable, the values from `sick` were converted into a column named `target`, and the original `sick` column was dropped from the dataframe.\n",
        "\n",
        "Secondly, the histograms provided further insight into the data. The clearest histograms are `age`, `trestbps`, `chol`, `thalach`, and `oldpeak`. The `age` histogram depicts an even distribution, with highest values in the high 50s and low 60s. The histograms of `trestbps` and `chol` showed distributions with skewness to the right, whereas the histogram of `thalach` was skewed to the left. The histogram of `oldpeak` demonstrates that values of relative depression in comparison to the rest were mostly 0. The values for the other histograms were either binary or one-hot encoded, which shows the basic outline of the data but not clear trends.\n",
        "\n",
        "Finally, the comparison of healthy and sick individuals demonstrated that the dataset is fairly balanced, with 165 healthy individuals and 138 sick individuals."
      ]
    },
    {
      "cell_type": "markdown",
      "metadata": {
        "id": "zhn7Ji2xXNH2"
      },
      "source": [
        "### 1.8. What if the labels are not balanced? Can you name one possible solution to address it?"
      ]
    },
    {
      "cell_type": "markdown",
      "metadata": {
        "id": "oJF7vDomXNH2"
      },
      "source": [
        "[Discuss prompt here] \n",
        "\n",
        "**Answer:**\n",
        "\n",
        "If the labels are unbalanced, the data used for the model would be biased, and therefore bias would also be induced into the results. In order to address this problem, a possible solution would be to increase the sample size and include more of the data of individuals in the label that is lacking. "
      ]
    },
    {
      "cell_type": "markdown",
      "metadata": {
        "id": "b2O11gYjXNH2"
      },
      "source": [
        "### 1.9. Now that we have our dataframe prepared let's start analyzing our data. For this next question let's look at the correlations of our variables to our target value.  (hint: one possible approach you can use is corr() method from HW1)"
      ]
    },
    {
      "cell_type": "code",
      "metadata": {
        "id": "V17nzhW-XNH2",
        "colab": {
          "base_uri": "https://localhost:8080/",
          "height": 483
        },
        "outputId": "fffc879e-ae6e-44c6-bc98-45b35e81f92a"
      },
      "source": [
        "#get the corr_matrx usign corr()\n",
        "corr_matrix = heartdisease.corr()\n",
        "corr_matrix"
      ],
      "execution_count": null,
      "outputs": [
        {
          "output_type": "execute_result",
          "data": {
            "text/html": [
              "<div>\n",
              "<style scoped>\n",
              "    .dataframe tbody tr th:only-of-type {\n",
              "        vertical-align: middle;\n",
              "    }\n",
              "\n",
              "    .dataframe tbody tr th {\n",
              "        vertical-align: top;\n",
              "    }\n",
              "\n",
              "    .dataframe thead th {\n",
              "        text-align: right;\n",
              "    }\n",
              "</style>\n",
              "<table border=\"1\" class=\"dataframe\">\n",
              "  <thead>\n",
              "    <tr style=\"text-align: right;\">\n",
              "      <th></th>\n",
              "      <th>age</th>\n",
              "      <th>sex</th>\n",
              "      <th>cp</th>\n",
              "      <th>trestbps</th>\n",
              "      <th>chol</th>\n",
              "      <th>fbs</th>\n",
              "      <th>restecg</th>\n",
              "      <th>thalach</th>\n",
              "      <th>exang</th>\n",
              "      <th>oldpeak</th>\n",
              "      <th>slope</th>\n",
              "      <th>ca</th>\n",
              "      <th>thal</th>\n",
              "      <th>target</th>\n",
              "    </tr>\n",
              "  </thead>\n",
              "  <tbody>\n",
              "    <tr>\n",
              "      <th>age</th>\n",
              "      <td>1.000000</td>\n",
              "      <td>-0.098447</td>\n",
              "      <td>-0.068653</td>\n",
              "      <td>0.279351</td>\n",
              "      <td>0.213678</td>\n",
              "      <td>0.121308</td>\n",
              "      <td>-0.116211</td>\n",
              "      <td>-0.398522</td>\n",
              "      <td>0.096801</td>\n",
              "      <td>0.210013</td>\n",
              "      <td>-0.168814</td>\n",
              "      <td>0.276326</td>\n",
              "      <td>0.068001</td>\n",
              "      <td>0.225439</td>\n",
              "    </tr>\n",
              "    <tr>\n",
              "      <th>sex</th>\n",
              "      <td>-0.098447</td>\n",
              "      <td>1.000000</td>\n",
              "      <td>-0.049353</td>\n",
              "      <td>-0.056769</td>\n",
              "      <td>-0.197912</td>\n",
              "      <td>0.045032</td>\n",
              "      <td>-0.058196</td>\n",
              "      <td>-0.044020</td>\n",
              "      <td>0.141664</td>\n",
              "      <td>0.096093</td>\n",
              "      <td>-0.030711</td>\n",
              "      <td>0.118261</td>\n",
              "      <td>0.210041</td>\n",
              "      <td>0.280937</td>\n",
              "    </tr>\n",
              "    <tr>\n",
              "      <th>cp</th>\n",
              "      <td>-0.068653</td>\n",
              "      <td>-0.049353</td>\n",
              "      <td>1.000000</td>\n",
              "      <td>0.047608</td>\n",
              "      <td>-0.076904</td>\n",
              "      <td>0.094444</td>\n",
              "      <td>0.044421</td>\n",
              "      <td>0.295762</td>\n",
              "      <td>-0.394280</td>\n",
              "      <td>-0.149230</td>\n",
              "      <td>0.119717</td>\n",
              "      <td>-0.181053</td>\n",
              "      <td>-0.161736</td>\n",
              "      <td>-0.433798</td>\n",
              "    </tr>\n",
              "    <tr>\n",
              "      <th>trestbps</th>\n",
              "      <td>0.279351</td>\n",
              "      <td>-0.056769</td>\n",
              "      <td>0.047608</td>\n",
              "      <td>1.000000</td>\n",
              "      <td>0.123174</td>\n",
              "      <td>0.177531</td>\n",
              "      <td>-0.114103</td>\n",
              "      <td>-0.046698</td>\n",
              "      <td>0.067616</td>\n",
              "      <td>0.193216</td>\n",
              "      <td>-0.121475</td>\n",
              "      <td>0.101389</td>\n",
              "      <td>0.062210</td>\n",
              "      <td>0.144931</td>\n",
              "    </tr>\n",
              "    <tr>\n",
              "      <th>chol</th>\n",
              "      <td>0.213678</td>\n",
              "      <td>-0.197912</td>\n",
              "      <td>-0.076904</td>\n",
              "      <td>0.123174</td>\n",
              "      <td>1.000000</td>\n",
              "      <td>0.013294</td>\n",
              "      <td>-0.151040</td>\n",
              "      <td>-0.009940</td>\n",
              "      <td>0.067023</td>\n",
              "      <td>0.053952</td>\n",
              "      <td>-0.004038</td>\n",
              "      <td>0.070511</td>\n",
              "      <td>0.098803</td>\n",
              "      <td>0.085239</td>\n",
              "    </tr>\n",
              "    <tr>\n",
              "      <th>fbs</th>\n",
              "      <td>0.121308</td>\n",
              "      <td>0.045032</td>\n",
              "      <td>0.094444</td>\n",
              "      <td>0.177531</td>\n",
              "      <td>0.013294</td>\n",
              "      <td>1.000000</td>\n",
              "      <td>-0.084189</td>\n",
              "      <td>-0.008567</td>\n",
              "      <td>0.025665</td>\n",
              "      <td>0.005747</td>\n",
              "      <td>-0.059894</td>\n",
              "      <td>0.137979</td>\n",
              "      <td>-0.032019</td>\n",
              "      <td>0.028046</td>\n",
              "    </tr>\n",
              "    <tr>\n",
              "      <th>restecg</th>\n",
              "      <td>-0.116211</td>\n",
              "      <td>-0.058196</td>\n",
              "      <td>0.044421</td>\n",
              "      <td>-0.114103</td>\n",
              "      <td>-0.151040</td>\n",
              "      <td>-0.084189</td>\n",
              "      <td>1.000000</td>\n",
              "      <td>0.044123</td>\n",
              "      <td>-0.070733</td>\n",
              "      <td>-0.058770</td>\n",
              "      <td>0.093045</td>\n",
              "      <td>-0.072042</td>\n",
              "      <td>-0.011981</td>\n",
              "      <td>-0.137230</td>\n",
              "    </tr>\n",
              "    <tr>\n",
              "      <th>thalach</th>\n",
              "      <td>-0.398522</td>\n",
              "      <td>-0.044020</td>\n",
              "      <td>0.295762</td>\n",
              "      <td>-0.046698</td>\n",
              "      <td>-0.009940</td>\n",
              "      <td>-0.008567</td>\n",
              "      <td>0.044123</td>\n",
              "      <td>1.000000</td>\n",
              "      <td>-0.378812</td>\n",
              "      <td>-0.344187</td>\n",
              "      <td>0.386784</td>\n",
              "      <td>-0.213177</td>\n",
              "      <td>-0.096439</td>\n",
              "      <td>-0.421741</td>\n",
              "    </tr>\n",
              "    <tr>\n",
              "      <th>exang</th>\n",
              "      <td>0.096801</td>\n",
              "      <td>0.141664</td>\n",
              "      <td>-0.394280</td>\n",
              "      <td>0.067616</td>\n",
              "      <td>0.067023</td>\n",
              "      <td>0.025665</td>\n",
              "      <td>-0.070733</td>\n",
              "      <td>-0.378812</td>\n",
              "      <td>1.000000</td>\n",
              "      <td>0.288223</td>\n",
              "      <td>-0.257748</td>\n",
              "      <td>0.115739</td>\n",
              "      <td>0.206754</td>\n",
              "      <td>0.436757</td>\n",
              "    </tr>\n",
              "    <tr>\n",
              "      <th>oldpeak</th>\n",
              "      <td>0.210013</td>\n",
              "      <td>0.096093</td>\n",
              "      <td>-0.149230</td>\n",
              "      <td>0.193216</td>\n",
              "      <td>0.053952</td>\n",
              "      <td>0.005747</td>\n",
              "      <td>-0.058770</td>\n",
              "      <td>-0.344187</td>\n",
              "      <td>0.288223</td>\n",
              "      <td>1.000000</td>\n",
              "      <td>-0.577537</td>\n",
              "      <td>0.222682</td>\n",
              "      <td>0.210244</td>\n",
              "      <td>0.430696</td>\n",
              "    </tr>\n",
              "    <tr>\n",
              "      <th>slope</th>\n",
              "      <td>-0.168814</td>\n",
              "      <td>-0.030711</td>\n",
              "      <td>0.119717</td>\n",
              "      <td>-0.121475</td>\n",
              "      <td>-0.004038</td>\n",
              "      <td>-0.059894</td>\n",
              "      <td>0.093045</td>\n",
              "      <td>0.386784</td>\n",
              "      <td>-0.257748</td>\n",
              "      <td>-0.577537</td>\n",
              "      <td>1.000000</td>\n",
              "      <td>-0.080155</td>\n",
              "      <td>-0.104764</td>\n",
              "      <td>-0.345877</td>\n",
              "    </tr>\n",
              "    <tr>\n",
              "      <th>ca</th>\n",
              "      <td>0.276326</td>\n",
              "      <td>0.118261</td>\n",
              "      <td>-0.181053</td>\n",
              "      <td>0.101389</td>\n",
              "      <td>0.070511</td>\n",
              "      <td>0.137979</td>\n",
              "      <td>-0.072042</td>\n",
              "      <td>-0.213177</td>\n",
              "      <td>0.115739</td>\n",
              "      <td>0.222682</td>\n",
              "      <td>-0.080155</td>\n",
              "      <td>1.000000</td>\n",
              "      <td>0.151832</td>\n",
              "      <td>0.391724</td>\n",
              "    </tr>\n",
              "    <tr>\n",
              "      <th>thal</th>\n",
              "      <td>0.068001</td>\n",
              "      <td>0.210041</td>\n",
              "      <td>-0.161736</td>\n",
              "      <td>0.062210</td>\n",
              "      <td>0.098803</td>\n",
              "      <td>-0.032019</td>\n",
              "      <td>-0.011981</td>\n",
              "      <td>-0.096439</td>\n",
              "      <td>0.206754</td>\n",
              "      <td>0.210244</td>\n",
              "      <td>-0.104764</td>\n",
              "      <td>0.151832</td>\n",
              "      <td>1.000000</td>\n",
              "      <td>0.344029</td>\n",
              "    </tr>\n",
              "    <tr>\n",
              "      <th>target</th>\n",
              "      <td>0.225439</td>\n",
              "      <td>0.280937</td>\n",
              "      <td>-0.433798</td>\n",
              "      <td>0.144931</td>\n",
              "      <td>0.085239</td>\n",
              "      <td>0.028046</td>\n",
              "      <td>-0.137230</td>\n",
              "      <td>-0.421741</td>\n",
              "      <td>0.436757</td>\n",
              "      <td>0.430696</td>\n",
              "      <td>-0.345877</td>\n",
              "      <td>0.391724</td>\n",
              "      <td>0.344029</td>\n",
              "      <td>1.000000</td>\n",
              "    </tr>\n",
              "  </tbody>\n",
              "</table>\n",
              "</div>"
            ],
            "text/plain": [
              "               age       sex        cp  ...        ca      thal    target\n",
              "age       1.000000 -0.098447 -0.068653  ...  0.276326  0.068001  0.225439\n",
              "sex      -0.098447  1.000000 -0.049353  ...  0.118261  0.210041  0.280937\n",
              "cp       -0.068653 -0.049353  1.000000  ... -0.181053 -0.161736 -0.433798\n",
              "trestbps  0.279351 -0.056769  0.047608  ...  0.101389  0.062210  0.144931\n",
              "chol      0.213678 -0.197912 -0.076904  ...  0.070511  0.098803  0.085239\n",
              "fbs       0.121308  0.045032  0.094444  ...  0.137979 -0.032019  0.028046\n",
              "restecg  -0.116211 -0.058196  0.044421  ... -0.072042 -0.011981 -0.137230\n",
              "thalach  -0.398522 -0.044020  0.295762  ... -0.213177 -0.096439 -0.421741\n",
              "exang     0.096801  0.141664 -0.394280  ...  0.115739  0.206754  0.436757\n",
              "oldpeak   0.210013  0.096093 -0.149230  ...  0.222682  0.210244  0.430696\n",
              "slope    -0.168814 -0.030711  0.119717  ... -0.080155 -0.104764 -0.345877\n",
              "ca        0.276326  0.118261 -0.181053  ...  1.000000  0.151832  0.391724\n",
              "thal      0.068001  0.210041 -0.161736  ...  0.151832  1.000000  0.344029\n",
              "target    0.225439  0.280937 -0.433798  ...  0.391724  0.344029  1.000000\n",
              "\n",
              "[14 rows x 14 columns]"
            ]
          },
          "metadata": {
            "tags": []
          },
          "execution_count": 55
        }
      ]
    },
    {
      "cell_type": "code",
      "metadata": {
        "id": "uPTPr45GXNH3",
        "colab": {
          "base_uri": "https://localhost:8080/"
        },
        "outputId": "77c90a9f-bb87-4e66-983f-3bed266f0a20"
      },
      "source": [
        "# get the correlations specific to target and sort them in descending order\n",
        "corr_matrix['target'].sort_values(ascending = False)"
      ],
      "execution_count": null,
      "outputs": [
        {
          "output_type": "execute_result",
          "data": {
            "text/plain": [
              "target      1.000000\n",
              "exang       0.436757\n",
              "oldpeak     0.430696\n",
              "ca          0.391724\n",
              "thal        0.344029\n",
              "sex         0.280937\n",
              "age         0.225439\n",
              "trestbps    0.144931\n",
              "chol        0.085239\n",
              "fbs         0.028046\n",
              "restecg    -0.137230\n",
              "slope      -0.345877\n",
              "thalach    -0.421741\n",
              "cp         -0.433798\n",
              "Name: target, dtype: float64"
            ]
          },
          "metadata": {
            "tags": []
          },
          "execution_count": 56
        }
      ]
    },
    {
      "cell_type": "markdown",
      "metadata": {
        "id": "xFAeaSGPXNH3"
      },
      "source": [
        "[Discuss correlations here] \n",
        "\n",
        "**Answer:**\n",
        "\n",
        "Out of the columns in the dataframe, `exang` and `oldpeak` are the columns with the highest positive correlation to the target. This shows that excercised-induced angina and relative exercise-induced depression are both indicators that an individual is sick. \n",
        "\n",
        "The columns `thalach` and `cp` demonstrate negative correlation to the target. This means that the lower the maximum heartrate achieved and the lack of chest pain are indicators that an individual is sick. Interestingly, more chest pain is actually the expected symptom of sick individuals, which shows that most individuals in this dataset are asymptomatic. "
      ]
    },
    {
      "cell_type": "markdown",
      "metadata": {
        "id": "uXj-rYO2XNH3"
      },
      "source": [
        "## [25pt] Part 2. Prepare the Data and run a KNN Model"
      ]
    },
    {
      "cell_type": "markdown",
      "metadata": {
        "id": "M9M2_3ZaXNH3"
      },
      "source": [
        "Before running our various learning methods, we need to do some additional prep to finalize our data. Specifically you'll have to cut the classification target from the data that will be used to classify, and then you'll have to divide the dataset into training and testing cohorts.\n",
        "\n",
        "Specifically, we're going to ask you to prepare 2 batches of data: 1. Will simply be the raw numeric data that hasn't gone through any additional pre-processing. The other, will be data that you pipeline using your own selected methods. We will then feed both of these datasets into a classifier to showcase just how important this step can be!"
      ]
    },
    {
      "cell_type": "markdown",
      "metadata": {
        "id": "Nn4GrfrEXNH4"
      },
      "source": [
        "### 2.1. Save the label column as a separate array (let's name it as data_target) and then drop it from the dataframe. "
      ]
    },
    {
      "cell_type": "code",
      "metadata": {
        "id": "UboQCizJXNH4"
      },
      "source": [
        "target_name = 'target'\n",
        "heart_target = heartdisease[target_name]\n",
        "heartdisease = heartdisease.drop([target_name], axis = 1)"
      ],
      "execution_count": null,
      "outputs": []
    },
    {
      "cell_type": "markdown",
      "metadata": {
        "id": "aOhmb1QAXNH4"
      },
      "source": [
        "### 2.2. First Create your 'Raw' unprocessed training data by dividing your dataframe into training and testing cohorts, with your training cohort consisting of 80% of your total dataframe (hint: use the train_test_split method) "
      ]
    },
    {
      "cell_type": "code",
      "metadata": {
        "id": "H34h6dkFXNH5"
      },
      "source": [
        "train_raw, test_raw, target_raw, target_raw_test = train_test_split(heartdisease, heart_target, test_size = 0.2, random_state = 30)"
      ],
      "execution_count": null,
      "outputs": []
    },
    {
      "cell_type": "markdown",
      "metadata": {
        "id": "KIC_923dXNH5"
      },
      "source": [
        "### 2.3. Output the resulting shapes of your training and testing samples to confirm that your split was successful."
      ]
    },
    {
      "cell_type": "code",
      "metadata": {
        "id": "1eKCeZWdXNH5",
        "colab": {
          "base_uri": "https://localhost:8080/"
        },
        "outputId": "818c009d-4464-4477-9f53-87ea2d7b7eee"
      },
      "source": [
        "print(train_raw.shape, target_raw.shape)\n",
        "print(test_raw.shape, target_raw_test.shape)"
      ],
      "execution_count": null,
      "outputs": [
        {
          "output_type": "stream",
          "text": [
            "(242, 13) (242,)\n",
            "(61, 13) (61,)\n"
          ],
          "name": "stdout"
        }
      ]
    },
    {
      "cell_type": "markdown",
      "metadata": {
        "id": "aZQ0cdJVXNH5"
      },
      "source": [
        "### 2.4. In lecture we learned about K-Nearest Neighbor. One thing we noted was because KNN's rely on Euclidean distance, they are highly sensitive to the relative magnitude of different features. Let's see that in action! Implement a K-Nearest Neighbor algorithm on our data and report the results. For this initial implementation simply use the default settings (K=5). Refer to the [KNN Documentation](https://scikit-learn.org/stable/modules/generated/sklearn.neighbors.KNeighborsClassifier.html) for details on implementation. Report on the accuracy of the resulting model."
      ]
    },
    {
      "cell_type": "code",
      "metadata": {
        "id": "RKxhsC3YXNH6"
      },
      "source": [
        "# KNN algorithm KNeighborsClassifier()\n",
        "'''\n",
        "1.) create KNeighborsClassifier() object\n",
        "2.) fit data\n",
        "3.) predict the test data, and assign to variable \"raw_predicted\" since we provide the template in below cell\n",
        "'''\n",
        "''' your code goes below here'''\n",
        "\n",
        "knn = KNeighborsClassifier()\n",
        "knn.fit(train_raw, target_raw)\n",
        "raw_predicted = knn.predict(test_raw)\n"
      ],
      "execution_count": null,
      "outputs": []
    },
    {
      "cell_type": "markdown",
      "metadata": {
        "id": "57cM958DXNH6"
      },
      "source": [
        "### 2.5. Report on the accuracy of the resulting model."
      ]
    },
    {
      "cell_type": "code",
      "metadata": {
        "id": "zfp_xVmuXNH6",
        "colab": {
          "base_uri": "https://localhost:8080/"
        },
        "outputId": "823216f2-c00d-4ab7-b8f6-65caf439a4ad"
      },
      "source": [
        "# use metrics.accuracy_score()\n",
        "'''uncomment this below line to print accuracy'''\n",
        "print('Accuracy:', metrics.accuracy_score(target_raw_test,raw_predicted))"
      ],
      "execution_count": null,
      "outputs": [
        {
          "output_type": "stream",
          "text": [
            "Accuracy: 0.6065573770491803\n"
          ],
          "name": "stdout"
        }
      ]
    },
    {
      "cell_type": "markdown",
      "metadata": {
        "id": "ghLaWkVgXNH6"
      },
      "source": [
        "#### report other metrics and draw confusion matrix using the helper function defined in the beginning"
      ]
    },
    {
      "cell_type": "code",
      "metadata": {
        "id": "9wMqVY0kXNH7",
        "colab": {
          "base_uri": "https://localhost:8080/",
          "height": 382
        },
        "outputId": "0614db72-651e-453a-f014-23d7f1c7b3f8"
      },
      "source": [
        "''' Uncomment these to print scores and draw confusion matrix'''\n",
        "\n",
        "print(\"%-12s %f\" % ('Precision:', metrics.precision_score(target_raw_test, raw_predicted,labels=None, pos_label=1, average='binary', sample_weight=None)))\n",
        "print(\"%-12s %f\" % ('Recall:', metrics.recall_score(target_raw_test, raw_predicted,labels=None, pos_label=1, average='binary', sample_weight=None)))\n",
        "print(\"%-12s %f\" % ('F1 Score:', metrics.f1_score(target_raw_test, raw_predicted,labels=None, pos_label=1, average='binary', sample_weight=None)))\n",
        "\n",
        "print(\"Confusion Matrix: \\n\")\n",
        "draw_confusion_matrix(target_raw_test, raw_predicted, ['Healthy', 'Sick'])\n"
      ],
      "execution_count": null,
      "outputs": [
        {
          "output_type": "stream",
          "text": [
            "Precision:   0.500000\n",
            "Recall:      0.791667\n",
            "F1 Score:    0.612903\n",
            "Confusion Matrix: \n",
            "\n"
          ],
          "name": "stdout"
        },
        {
          "output_type": "display_data",
          "data": {
            "image/png": "[encoded data removed]",
            "text/plain": [
              "<Figure size 432x288 with 2 Axes>"
            ]
          },
          "metadata": {
            "tags": [],
            "needs_background": "light"
          }
        }
      ]
    },
    {
      "cell_type": "markdown",
      "metadata": {
        "id": "euhRpTfGXNH7"
      },
      "source": [
        "### 2.6. Now implement a pipeline of your choice. You can opt to handle categoricals however you wish, however please scale your numeric features using standard scaler. Please refer to HW1 (note you don't have to do data augmentation here)."
      ]
    },
    {
      "cell_type": "markdown",
      "metadata": {
        "id": "5fJ9CtNMXNH7"
      },
      "source": [
        "#### Pipeline:"
      ]
    },
    {
      "cell_type": "code",
      "metadata": {
        "id": "KoL3Lg0AXNH7"
      },
      "source": [
        "''' don't forget to drop binary data when doing scaling(i.e. sex, since it is 0 and 1) '''\n",
        "''' your code goes below here'''\n",
        "\n",
        "from sklearn.impute import SimpleImputer\n",
        "from sklearn.compose import ColumnTransformer\n",
        "\n",
        "from sklearn.pipeline import Pipeline\n",
        "from sklearn.preprocessing import StandardScaler\n",
        "from sklearn.preprocessing import OneHotEncoder\n",
        "\n",
        "from sklearn.base import BaseEstimator, TransformerMixin\n",
        "\n",
        "unlabel = ['sex','fbs','exang']\n",
        "categorical_features = ['sex','fbs','exang']\n",
        "heartdisease_num = heartdisease.dropna()\n",
        "heartdisease_num = heartdisease_num.drop(unlabel, axis=1)\n",
        "\n",
        "num_pipeline = Pipeline([\n",
        "        ('imputer', SimpleImputer(strategy=\"median\")),\n",
        "        ('std_scaler', StandardScaler()),\n",
        "    ])\n",
        "\n",
        "heartdisease_num_tr = num_pipeline.fit_transform(heartdisease_num.values)\n",
        "numerical_features = list(heartdisease_num)\n",
        "\n",
        "full_pipeline = ColumnTransformer([\n",
        "        (\"num\", num_pipeline, numerical_features),\n",
        "        (\"cat\", OneHotEncoder(), categorical_features)\n",
        "    ])\n",
        "\n",
        "heart_prepared = full_pipeline.fit_transform(heartdisease.dropna())\n"
      ],
      "execution_count": null,
      "outputs": []
    },
    {
      "cell_type": "markdown",
      "metadata": {
        "id": "K8DEZBqkXNH7"
      },
      "source": [
        "#### take a look at your prepared data"
      ]
    },
    {
      "cell_type": "code",
      "metadata": {
        "id": "VT_rt86CXNH8",
        "colab": {
          "base_uri": "https://localhost:8080/"
        },
        "outputId": "ea09f8e5-8cd2-4147-9660-7c5760dd418a"
      },
      "source": [
        "heart_prepared"
      ],
      "execution_count": null,
      "outputs": [
        {
          "output_type": "execute_result",
          "data": {
            "text/plain": [
              "array([[ 0.9521966 ,  1.97312292,  0.76395577, ...,  1.        ,\n",
              "         1.        ,  0.        ],\n",
              "       [-1.91531289,  1.00257707, -0.09273778, ...,  0.        ,\n",
              "         1.        ,  0.        ],\n",
              "       [-1.47415758,  0.03203122, -0.09273778, ...,  0.        ,\n",
              "         1.        ,  0.        ],\n",
              "       ...,\n",
              "       [ 1.50364073, -0.93851463,  0.70684287, ...,  1.        ,\n",
              "         1.        ,  0.        ],\n",
              "       [ 0.29046364, -0.93851463, -0.09273778, ...,  0.        ,\n",
              "         0.        ,  1.        ],\n",
              "       [ 0.29046364,  0.03203122, -0.09273778, ...,  0.        ,\n",
              "         1.        ,  0.        ]])"
            ]
          },
          "metadata": {
            "tags": []
          },
          "execution_count": 64
        }
      ]
    },
    {
      "cell_type": "markdown",
      "metadata": {
        "id": "FE8IPNcOXNH8"
      },
      "source": [
        "### 2.7. Now split your pipelined data into an 80/20 split and again run the same KNN, and report out on it's accuracy. Discuss the implications of the different results you are obtaining."
      ]
    },
    {
      "cell_type": "markdown",
      "metadata": {
        "id": "NOpjIgPyXNH8"
      },
      "source": [
        "#### split your data"
      ]
    },
    {
      "cell_type": "code",
      "metadata": {
        "id": "Jh_pUWvgXNH8",
        "colab": {
          "base_uri": "https://localhost:8080/"
        },
        "outputId": "d6a7ec96-c140-43e6-f78a-51126008f316"
      },
      "source": [
        "train, test, target, target_test = train_test_split(heart_prepared, heart_target, test_size = 0.2, random_state = 30)\n",
        "print(train.shape, target.shape)\n",
        "print(test.shape, target_test.shape)"
      ],
      "execution_count": null,
      "outputs": [
        {
          "output_type": "stream",
          "text": [
            "(242, 16) (242,)\n",
            "(61, 16) (61,)\n"
          ],
          "name": "stdout"
        }
      ]
    },
    {
      "cell_type": "markdown",
      "metadata": {
        "id": "qL3GcREcXNH8"
      },
      "source": [
        "####  run KNN and report accuracy, precision, recall, and confusion matrix."
      ]
    },
    {
      "cell_type": "code",
      "metadata": {
        "id": "2I8r-Uf_XNH9"
      },
      "source": [
        "# KNN algorithm KNeighborsClassifier()\n",
        "'''\n",
        "1.) create KNeighborsClassifier() object\n",
        "2.) fit data\n",
        "3.) predict the test data, and assign to variable \"predicted\" since we provide the template in below cell\n",
        "'''\n",
        "''' your code goes below here'''\n",
        "\n",
        "knn = KNeighborsClassifier()\n",
        "knn.fit(train, target)\n",
        "predicted = knn.predict(test)\n"
      ],
      "execution_count": null,
      "outputs": []
    },
    {
      "cell_type": "code",
      "metadata": {
        "id": "yHl1nid0ahcV",
        "colab": {
          "base_uri": "https://localhost:8080/"
        },
        "outputId": "a0a41ae1-8f65-4a0a-af22-4604c1d0f67b"
      },
      "source": [
        "#feel free to use this helper function to print accuracy, precision, recall, F1\n",
        "def print_4_metrics(target_test, predicted):\n",
        "  print(\"%-12s %f\" % ('Accuracy:', metrics.accuracy_score(target_test,predicted)))\n",
        "  print(\"%-12s %f\" % ('Precision:', metrics.precision_score(target_test, predicted,labels=None, pos_label=1, average='binary', sample_weight=None)))\n",
        "  print(\"%-12s %f\" % ('Recall:', metrics.recall_score(target_test, predicted,labels=None, pos_label=1, average='binary', sample_weight=None)))\n",
        "  print(\"%-12s %f\" % ('F1 Score:', metrics.f1_score(target_test, predicted,labels=None, pos_label=1, average='binary', sample_weight=None)))\n",
        "\n",
        "print_4_metrics(target_test, predicted)"
      ],
      "execution_count": null,
      "outputs": [
        {
          "output_type": "stream",
          "text": [
            "Accuracy:    0.819672\n",
            "Precision:   0.740741\n",
            "Recall:      0.833333\n",
            "F1 Score:    0.784314\n"
          ],
          "name": "stdout"
        }
      ]
    },
    {
      "cell_type": "code",
      "metadata": {
        "id": "8248VJV6XNH9",
        "colab": {
          "base_uri": "https://localhost:8080/",
          "height": 314
        },
        "outputId": "5155ffe4-3fc3-46bf-98ce-e21005a437b6"
      },
      "source": [
        "#use sklearn metrics to display metrics values-> metrics.accuracy_score()\n",
        "'''print out metrics here'''\n",
        "print(f'accuracy: {metrics.accuracy_score(target_test, predicted)}')\n",
        "'''end printing out metrics'''\n",
        "draw_confusion_matrix(target_test, predicted, ['Healthy', 'Sick'])\n"
      ],
      "execution_count": null,
      "outputs": [
        {
          "output_type": "stream",
          "text": [
            "accuracy: 0.819672131147541\n"
          ],
          "name": "stdout"
        },
        {
          "output_type": "display_data",
          "data": {
            "image/png": "[encoded data removed]",
            "text/plain": [
              "<Figure size 432x288 with 2 Axes>"
            ]
          },
          "metadata": {
            "tags": [],
            "needs_background": "light"
          }
        }
      ]
    },
    {
      "cell_type": "markdown",
      "metadata": {
        "id": "HXrtGXCrXNH9"
      },
      "source": [
        "[Discuss Results here]\n",
        "\n",
        "**Answer:**\n",
        "\n",
        "This model is an implementation of the K-Nearest Neighbor algorithm with default settings, and its numerical features are scaled with standard scaler. The resultant metrics as as follows: Accuracy - 0.819672, Precision - 0.740741, Recall - 0.833333, F1 Score - 0.784314. According to the confusion matrix, no healthy individual was incorrectly predicted as sick. However, in the sick individuals, almost half were incorrectly predicted as healthy. This indicates that the model has much room for improvement."
      ]
    },
    {
      "cell_type": "markdown",
      "metadata": {
        "id": "uBt8ToBSXNH-"
      },
      "source": [
        "### 2.8. Model Selection on K.  As discussed in class, the KNN Algorithm includes an n_neighbors (k) attribute that specifies how many neighbors to use when developing the cluster. (The default value is 5, which is what your previous model used.) Lets now try n_neighbors (k) values of: 1, 2, 3, 5, 7, 9, 10, 20, and 200. Run your model for each value and report the accuracy for each. (HINT leverage python's ability to loop to run through the array and generate results without needing to manually code each iteration)."
      ]
    },
    {
      "cell_type": "code",
      "metadata": {
        "id": "xFJPujbdXNH-",
        "colab": {
          "base_uri": "https://localhost:8080/"
        },
        "outputId": "ce3f6271-891a-4880-ca28-984b03af8db5"
      },
      "source": [
        "k_values = [1,2,3,5,7,9,10,20,200]\n",
        "\n",
        "for k in k_values:\n",
        "    # run knn here:\n",
        "    # note: when create KNN object, assign parameter \"n_neighbors\" to k\n",
        "    # referece: https://scikit-learn.org/stable/modules/generated/sklearn.neighbors.KNeighborsClassifier.html\n",
        "    '''your code goes below here'''\n",
        "    knn = KNeighborsClassifier(n_neighbors=k)\n",
        "    knn.fit(train, target)\n",
        "    predicted = knn.predict(test)\n",
        "\n",
        "    # report the accuracy here:\n",
        "    # note: print out k value and use metrics.accuracy_score() do show accuracy\n",
        "    '''your code goes below here'''\n",
        "    print(f'k value: {k}')\n",
        "    print(f'accuracy: {metrics.accuracy_score(target_test, predicted)}')"
      ],
      "execution_count": null,
      "outputs": [
        {
          "output_type": "stream",
          "text": [
            "k value: 1\n",
            "accuracy: 0.7049180327868853\n",
            "k value: 2\n",
            "accuracy: 0.7704918032786885\n",
            "k value: 3\n",
            "accuracy: 0.8032786885245902\n",
            "k value: 5\n",
            "accuracy: 0.819672131147541\n",
            "k value: 7\n",
            "accuracy: 0.8688524590163934\n",
            "k value: 9\n",
            "accuracy: 0.8524590163934426\n",
            "k value: 10\n",
            "accuracy: 0.819672131147541\n",
            "k value: 20\n",
            "accuracy: 0.819672131147541\n",
            "k value: 200\n",
            "accuracy: 0.819672131147541\n"
          ],
          "name": "stdout"
        }
      ]
    },
    {
      "cell_type": "markdown",
      "metadata": {
        "id": "_7iqIU64XNH-"
      },
      "source": [
        "## Part 3. Additional Learning Methods "
      ]
    },
    {
      "cell_type": "markdown",
      "metadata": {
        "id": "DWvtbg9HXNH-"
      },
      "source": [
        "So we have a model that seems to work well. But let's see if we can do better! To do so we'll employ multiple learning methods and compare result."
      ]
    },
    {
      "cell_type": "markdown",
      "metadata": {
        "id": "3MK0yuhhXNH_"
      },
      "source": [
        "## 3. Linear Decision Boundary Methods "
      ]
    },
    {
      "cell_type": "markdown",
      "metadata": {
        "id": "vvJdjHa_XNH_"
      },
      "source": [
        "### [25pt] 3.1. Logistic Regression"
      ]
    },
    {
      "cell_type": "markdown",
      "metadata": {
        "id": "P-B2oidUXNH_"
      },
      "source": [
        "Let's now try another classifier, we introduced in lecture, one that's well known for handling linear models: Logistic Regression. Logistic regression is a statistical model that in its basic form uses a logistic function to model a binary dependent variable."
      ]
    },
    {
      "cell_type": "markdown",
      "metadata": {
        "id": "Brk8-ivaXNIA"
      },
      "source": [
        "### 3.1.1. Implement a Logistical Regression Classifier. Review the [Logistical Regression Documentation](https://scikit-learn.org/stable/modules/generated/sklearn.linear_model.LogisticRegression.html) for how to implement the model. Report accuracy, precision, Recall, F1 score, plot the resulting ROC curve, and report area under ROC curve."
      ]
    },
    {
      "cell_type": "code",
      "metadata": {
        "id": "_fw7xKryXNIA"
      },
      "source": [
        "# run logistic regression here\n",
        "'''\n",
        "1.) create LogisticRegression() object\n",
        "2.) fit your train data\n",
        "3.) predict the test data, and assign to variable \"log_predicted\" \n",
        "  since we will use it in below cell\n",
        "4.) use log_reg.predict_proba(test)[:,1] and assign to variable \"log_score\"\n",
        "  NOTE: predict_proba() will return \n",
        "  [probability of data belongs to class 0, probability of data belongs to class 1]\n",
        "  and we want to get probability of data belongs to class 1. That's why we slice\n",
        "  the array by only getting the column 1\n",
        "  NOTE: predict() returns 0 or 1, while predict_proba() returns float between 0 and 1\n",
        "'''\n",
        "'''your code below here'''\n",
        "\n",
        "#log_reg = LogisticRegression()\n",
        "from sklearn.linear_model import LogisticRegression\n",
        "\n",
        "log_reg = LogisticRegression()\n",
        "log_reg.fit(train, target)\n",
        "\n",
        "log_predicted = log_reg.predict(test)\n",
        "\n",
        "log_score = log_reg.predict_proba(test)[:,1]\n"
      ],
      "execution_count": null,
      "outputs": []
    },
    {
      "cell_type": "code",
      "metadata": {
        "id": "A2DvZNp7XNIA",
        "colab": {
          "base_uri": "https://localhost:8080/"
        },
        "outputId": "d478a59c-30bd-4bf3-828d-05597b39ae05"
      },
      "source": [
        "# report accuracy, precision, Recall, and F1 score\n",
        "print_4_metrics(target_test, log_predicted)"
      ],
      "execution_count": null,
      "outputs": [
        {
          "output_type": "stream",
          "text": [
            "Accuracy:    0.868852\n",
            "Precision:   0.785714\n",
            "Recall:      0.916667\n",
            "F1 Score:    0.846154\n"
          ],
          "name": "stdout"
        }
      ]
    },
    {
      "cell_type": "code",
      "metadata": {
        "id": "NIM0qoO3XNIB",
        "colab": {
          "base_uri": "https://localhost:8080/",
          "height": 346
        },
        "outputId": "e026f9ed-deeb-444e-c1a1-69296dc64a35"
      },
      "source": [
        "# Plot ROC curve and report area under ROC\n",
        "# use metrics.roc_curve(your y_test, predicted probabilities for y_test)\n",
        "\n",
        "fpr_log_reg, tpr_log_reg, thresholds = metrics.roc_curve(target_test,log_score)\n",
        "print(\"Logistic Model Performance Results:\\n\")\n",
        "pyplot.figure(1)\n",
        "pyplot.plot(fpr_log_reg, tpr_log_reg, color='orange', lw=1)\n",
        "pyplot.title(\"ROC curve with Logistic Regression\")\n",
        "pyplot.xlabel('FPR')\n",
        "pyplot.ylabel('TPR')\n",
        "\n",
        "# report auc \n",
        "# use metrics.auc(fpr, tpr)\n",
        "aucroc = metrics.auc(fpr_log_reg, tpr_log_reg)\n",
        "print('AUC of ROC: ', aucroc)\n"
      ],
      "execution_count": null,
      "outputs": [
        {
          "output_type": "stream",
          "text": [
            "Logistic Model Performance Results:\n",
            "\n",
            "AUC of ROC:  0.9268018018018017\n"
          ],
          "name": "stdout"
        },
        {
          "output_type": "display_data",
          "data": {
            "image/png": "[encoded data removed]",
            "text/plain": [
              "<Figure size 432x288 with 1 Axes>"
            ]
          },
          "metadata": {
            "tags": [],
            "needs_background": "light"
          }
        }
      ]
    },
    {
      "cell_type": "code",
      "metadata": {
        "id": "gMJXG02QXNIB",
        "colab": {
          "base_uri": "https://localhost:8080/",
          "height": 331
        },
        "outputId": "2d45d2db-6a74-4cec-ba66-af798f13feff"
      },
      "source": [
        "print(\"Confusion Matrix: \\n\")\n",
        "draw_confusion_matrix(target_test, log_predicted, ['Healthy', 'Sick'])"
      ],
      "execution_count": null,
      "outputs": [
        {
          "output_type": "stream",
          "text": [
            "Confusion Matrix: \n",
            "\n"
          ],
          "name": "stdout"
        },
        {
          "output_type": "display_data",
          "data": {
            "image/png": "[encoded data removed]",
            "text/plain": [
              "<Figure size 432x288 with 2 Axes>"
            ]
          },
          "metadata": {
            "tags": [],
            "needs_background": "light"
          }
        }
      ]
    },
    {
      "cell_type": "markdown",
      "metadata": {
        "id": "98zo095zXNIB"
      },
      "source": [
        "### 3.1.3. Let's tweak a few settings. First let's set penalty = 'none' and rerun your model. Let's see how your results change!"
      ]
    },
    {
      "cell_type": "code",
      "metadata": {
        "id": "2IGnInZOXNIC"
      },
      "source": [
        "# run logistic regression here \n",
        "'''\n",
        "1.) create LogisticRegression() object, while specify its parameter \"penalty\" to \"none\"\n",
        "2.) fit your train data\n",
        "3.) predict the test data, and assign to variable \"log_predicted\" \n",
        "  since we will use it in below cell\n",
        "4.) use log_reg.predict_proba(test)[:,1] and assign to variable \"log_score\"\n",
        "'''\n",
        "'''your code goes here'''\n",
        "\n",
        "#log_reg = LogisticRegression(penalty = 'none')\n",
        "from sklearn.linear_model import LogisticRegression\n",
        "\n",
        "log_reg = LogisticRegression(penalty = 'none')\n",
        "log_reg.fit(train, target)\n",
        "\n",
        "log_predicted = log_reg.predict(test)\n",
        "\n",
        "log_score = log_reg.predict_proba(test)[:,1]\n"
      ],
      "execution_count": null,
      "outputs": []
    },
    {
      "cell_type": "code",
      "metadata": {
        "id": "iZ3DNvaYXNIC",
        "colab": {
          "base_uri": "https://localhost:8080/"
        },
        "outputId": "803fc5a1-2270-40e3-faac-c8c2f61ee1cb"
      },
      "source": [
        "# report accuracy and F1 score\n",
        "print_4_metrics(target_test, log_predicted)"
      ],
      "execution_count": null,
      "outputs": [
        {
          "output_type": "stream",
          "text": [
            "Accuracy:    0.852459\n",
            "Precision:   0.758621\n",
            "Recall:      0.916667\n",
            "F1 Score:    0.830189\n"
          ],
          "name": "stdout"
        }
      ]
    },
    {
      "cell_type": "code",
      "metadata": {
        "id": "DojefdaJXNIC",
        "colab": {
          "base_uri": "https://localhost:8080/",
          "height": 346
        },
        "outputId": "a76644b3-442a-4793-9227-06640b8539bc"
      },
      "source": [
        "# Plot ROC curve and report area under ROC\n",
        "# use metrics.roc_curve(your y_test, predicted probabilities for y_test)\n",
        "# feel free to use the same code from 3.1.1\n",
        "'''plotting code goes here'''\n",
        "\n",
        "fpr_log_reg, tpr_log_reg, thresholds = metrics.roc_curve(target_test,log_score)\n",
        "print(\"Logistic Model Performance Results:\\n\")\n",
        "pyplot.figure(1)\n",
        "pyplot.plot(fpr_log_reg, tpr_log_reg, color='orange', lw=1)\n",
        "pyplot.title(\"ROC curve with Logistic Regression\")\n",
        "pyplot.xlabel('FPR')\n",
        "pyplot.ylabel('TPR')\n",
        "\n",
        "'''end plotting code'''\n",
        "# report auc \n",
        "# use metrics.auc(fpr, tpr)\n",
        "aucroc = metrics.auc(fpr_log_reg, tpr_log_reg)\n",
        "print('AUC of ROC: ', aucroc)\n"
      ],
      "execution_count": null,
      "outputs": [
        {
          "output_type": "stream",
          "text": [
            "Logistic Model Performance Results:\n",
            "\n",
            "AUC of ROC:  0.9279279279279279\n"
          ],
          "name": "stdout"
        },
        {
          "output_type": "display_data",
          "data": {
            "image/png": "[encoded data removed]",
            "text/plain": [
              "<Figure size 432x288 with 1 Axes>"
            ]
          },
          "metadata": {
            "tags": [],
            "needs_background": "light"
          }
        }
      ]
    },
    {
      "cell_type": "markdown",
      "metadata": {
        "id": "_-sbzd6eXNIC"
      },
      "source": [
        "### 3.1.4 Rerun your logistic classifier, but modify the penalty = 'l1', solver = 'liblinear', and again report the results."
      ]
    },
    {
      "cell_type": "code",
      "metadata": {
        "id": "D3CmXqHHXNID",
        "colab": {
          "base_uri": "https://localhost:8080/",
          "height": 414
        },
        "outputId": "86d4d9b0-36fb-4a32-d170-d8700dea66a3"
      },
      "source": [
        "''' repeat the same process as 3.1.3 but change parameters as the question specifies'''\n",
        "# run logistic regression here \n",
        "#log_reg = LogisticRegression(penalty = 'l1', solver = 'liblinear')\n",
        "\n",
        "from sklearn.linear_model import LogisticRegression\n",
        "\n",
        "log_reg = LogisticRegression(penalty = 'l1', C = 0.1, solver = 'liblinear')\n",
        "log_reg.fit(train, target)\n",
        "\n",
        "log_predicted = log_reg.predict(test)\n",
        "\n",
        "log_score = log_reg.predict_proba(test)[:,1]\n",
        "\n",
        "# report accuracy and F1 score\n",
        "\n",
        "print_4_metrics(target_test, log_predicted)\n",
        "\n",
        "# Plot ROC curve and report area under ROC\n",
        "# use metrics.roc_curve(your y_test, predicted probabilities for y_test)\n",
        "\n",
        "metrics.roc_curve(target_test,log_predicted)\n",
        "\n",
        "fpr_log_reg, tpr_log_reg, thresholds = metrics.roc_curve(target_test,log_score)\n",
        "print(\"Logistic Model Performance Results:\\n\")\n",
        "pyplot.figure(1)\n",
        "pyplot.plot(fpr_log_reg, tpr_log_reg, color='orange', lw=1)\n",
        "pyplot.title(\"ROC curve with Logistic Regression\")\n",
        "pyplot.xlabel('FPR')\n",
        "pyplot.ylabel('TPR')\n",
        "\n",
        "\n",
        "# report auc \n",
        "# use metrics.auc(fpr, tpr)\n",
        "aucroc = metrics.auc(fpr_log_reg, tpr_log_reg)\n",
        "print('AUC of ROC: ', aucroc)\n"
      ],
      "execution_count": null,
      "outputs": [
        {
          "output_type": "stream",
          "text": [
            "Accuracy:    0.836066\n",
            "Precision:   0.750000\n",
            "Recall:      0.875000\n",
            "F1 Score:    0.807692\n",
            "Logistic Model Performance Results:\n",
            "\n",
            "AUC of ROC:  0.9065315315315317\n"
          ],
          "name": "stdout"
        },
        {
          "output_type": "display_data",
          "data": {
            "image/png": "[encoded data removed]",
            "text/plain": [
              "<Figure size 432x288 with 1 Axes>"
            ]
          },
          "metadata": {
            "tags": [],
            "needs_background": "light"
          }
        }
      ]
    },
    {
      "cell_type": "markdown",
      "metadata": {
        "id": "_QYPIbXQXNID"
      },
      "source": [
        "###  3.1.5. We played around with different penalty terms (none, L1 etc.) Describe what the purpose of a penalty term. Does it improve results in our case?"
      ]
    },
    {
      "cell_type": "code",
      "metadata": {
        "id": "EFlnXmBMXNID",
        "colab": {
          "base_uri": "https://localhost:8080/"
        },
        "outputId": "0e1882df-f505-47f2-80a9-23b8c480d4ed"
      },
      "source": [
        "#Hint: do you see any zeros? Those are related to the penalty terms.\n",
        "#print model.coef_\n",
        "log_reg.coef_"
      ],
      "execution_count": null,
      "outputs": [
        {
          "output_type": "execute_result",
          "data": {
            "text/plain": [
              "array([[ 0.        , -0.59023596,  0.00096478,  0.        ,  0.        ,\n",
              "        -0.30680869,  0.43324651, -0.25545326,  0.48230481,  0.3468678 ,\n",
              "        -0.05747616,  0.        ,  0.        ,  0.        , -0.03695136,\n",
              "         0.        ]])"
            ]
          },
          "metadata": {
            "tags": []
          },
          "execution_count": 78
        }
      ]
    },
    {
      "cell_type": "markdown",
      "metadata": {
        "id": "WriGeLtSXNID"
      },
      "source": [
        "[Discuss prompt here]\n",
        "\n",
        "**Answer:**\n",
        "\n",
        "The purpose of a penalty term in logistic regression is to regulate the coefficients in the regression with the technique of regularization. The presence of zeroes in the `log_reg.coef_` above are related to the penalty term. As shown in HW2, the bigger the coefficients, the higher the likelihood. However, extreme values of coefficients are prone to overfitting the data, which is why a penalty term is added to ensure that the coefficients are not excessive. In this case, this did not improve our results. The AUC of ROC in the end was lower than the previous model, and so were the values in the four metrics of accuracy, precision, recall, and F1 score."
      ]
    },
    {
      "cell_type": "markdown",
      "metadata": {
        "id": "qx89pWRLXNIE"
      },
      "source": [
        "### [20pt] 3.2. SVM (Support Vector Machine)"
      ]
    },
    {
      "cell_type": "markdown",
      "metadata": {
        "id": "mOMAEmShXNIE"
      },
      "source": [
        "A Support Vector Machine (SVM) is a discriminative classifier formally defined by a separating hyperplane. In other words, given labeled training data (supervised learning), the algorithm outputs an optimal hyperplane which categorizes new examples. In two dimentional space this hyperplane is a line dividing a plane in two parts where in each class lay in either side."
      ]
    },
    {
      "cell_type": "markdown",
      "metadata": {
        "id": "gr0AGpavXNIF"
      },
      "source": [
        "### 3.2.1 Implement a Support Vector Machine classifier on your pipelined data. Review the [SVM Documentation](https://scikit-learn.org/stable/modules/generated/sklearn.svm.SVC.html) for how to implement a model. For this implementation you can simply use the default settings, but set probability = True."
      ]
    },
    {
      "cell_type": "code",
      "metadata": {
        "id": "1spdtl7oXNIG"
      },
      "source": [
        "# run SVM\n",
        "'''\n",
        "1.) create SVC() object, while specify its parameter \"probability\" to \"True\"\n",
        "2.) fit your train data\n",
        "3.) predict the test data. and assign to a variable  \n",
        "  because we will use it in below cell\n",
        "4.) use svm.predict_proba(test)[:,1] and assign to a variable\n",
        "  bacause we will use it in below cell\n",
        "'''\n",
        "'''your code goes below here'''\n",
        "\n",
        "svm = SVC(probability = True)\n",
        "\n",
        "svm.fit(train, target)\n",
        "\n",
        "svm_predicted = svm.predict(test)\n",
        "\n",
        "svm_score = svm.predict_proba(test)[:,1]\n"
      ],
      "execution_count": null,
      "outputs": []
    },
    {
      "cell_type": "markdown",
      "metadata": {
        "id": "pGfIBazWXNIG"
      },
      "source": [
        "### 3.2.2 Report the accuracy, precision, recall, F1 Score, and ROC Curve of the resulting model."
      ]
    },
    {
      "cell_type": "code",
      "metadata": {
        "id": "ivAB6kkPXNIG",
        "colab": {
          "base_uri": "https://localhost:8080/",
          "height": 414
        },
        "outputId": "a20b43a7-f12e-470e-f3c1-c80a14d53623"
      },
      "source": [
        "# report accuracy and F1 score\n",
        "# feel free to use print_4_metrics()\n",
        "'''your code goes below here'''\n",
        "\n",
        "print_4_metrics(target_test, svm_predicted)\n",
        "\n",
        "# Plot ROC curve and report area under ROC\n",
        "# use metrics.roc_curve(your y_test, predicted probabilities for y_test)\n",
        "# feel free to use the same code as 3.1.1.\n",
        "'''your code goes below here'''\n",
        "\n",
        "fpr_svm, tpr_svm, thresholds = metrics.roc_curve(target_test,svm_score)\n",
        "print(\"Logistic Model Performance Results:\\n\")\n",
        "pyplot.figure(1)\n",
        "pyplot.plot(fpr_svm, tpr_svm, color='orange', lw=1)\n",
        "pyplot.title(\"ROC curve with SVM\")\n",
        "pyplot.xlabel('FPR')\n",
        "pyplot.ylabel('TPR')\n",
        "\n",
        "# report auc \n",
        "# use metrics.auc(fpr, tpr)\n",
        "aucroc = metrics.auc(fpr_svm, tpr_svm)\n",
        "print('AUC of ROC: ', aucroc)"
      ],
      "execution_count": null,
      "outputs": [
        {
          "output_type": "stream",
          "text": [
            "Accuracy:    0.786885\n",
            "Precision:   0.689655\n",
            "Recall:      0.833333\n",
            "F1 Score:    0.754717\n",
            "Logistic Model Performance Results:\n",
            "\n",
            "AUC of ROC:  0.9065315315315315\n"
          ],
          "name": "stdout"
        },
        {
          "output_type": "display_data",
          "data": {
            "image/png": "[encoded data removed]",
            "text/plain": [
              "<Figure size 432x288 with 1 Axes>"
            ]
          },
          "metadata": {
            "tags": [],
            "needs_background": "light"
          }
        }
      ]
    },
    {
      "cell_type": "markdown",
      "metadata": {
        "id": "4xJevqNvXNIH"
      },
      "source": [
        "### 3.2.3.  Rerun your SVM, but now modify your model parameter kernel to equal 'linear'. Again report your Accuracy, Precision, Recall, F1 scores, and plot the new ROC curve.  "
      ]
    },
    {
      "cell_type": "code",
      "metadata": {
        "id": "PMD7ZATxXNIH"
      },
      "source": [
        "# run SVM\n",
        "'''\n",
        "1.) create SVC() object like 3.2.2, but change parameter 'kernel' to 'linear' as the question specifies\n",
        "2.) fit your train data\n",
        "3.) predict the test data. and assign to a variable  \n",
        "  because we will use it in below cell\n",
        "4.) use svm.predict_proba(test)[:,1] and assign to a variable\n",
        "  bacause we will use it in below cell\n",
        "'''\n",
        "''' your code goes below here'''\n",
        "\n",
        "svm = SVC(kernel = 'linear', probability = True)\n",
        "\n",
        "svm.fit(train, target)\n",
        "\n",
        "svm_predicted = svm.predict(test)\n",
        "\n",
        "svm_score = svm.predict_proba(test)[:,1]\n"
      ],
      "execution_count": null,
      "outputs": []
    },
    {
      "cell_type": "code",
      "metadata": {
        "id": "Z9-S1O-OXNII",
        "colab": {
          "base_uri": "https://localhost:8080/",
          "height": 414
        },
        "outputId": "1a4cb176-6978-4451-e1e8-101ae85d9a0b"
      },
      "source": [
        "''' repeat the same process as 3.2.2'''\n",
        "# report accuracy and F1 score\n",
        "\n",
        "print_4_metrics(target_test, svm_predicted)\n",
        "\n",
        "# Plot ROC curve and report area under ROC\n",
        "# use metrics.roc_curve(your y_test, predicted probabilities for y_test)\n",
        "\n",
        "fpr_svm, tpr_svm, thresholds = metrics.roc_curve(target_test,svm_score)\n",
        "print(\"Logistic Model Performance Results:\\n\")\n",
        "pyplot.figure(1)\n",
        "pyplot.plot(fpr_svm, tpr_svm, color='orange', lw=1)\n",
        "pyplot.title(\"ROC curve with SVM\")\n",
        "pyplot.xlabel('FPR')\n",
        "pyplot.ylabel('TPR')\n",
        "\n",
        "# report auc \n",
        "# use metrics.auc(fpr, tpr)\n",
        "aucroc = metrics.auc(fpr_svm, tpr_svm)\n",
        "print('AUC of ROC: ', aucroc)"
      ],
      "execution_count": null,
      "outputs": [
        {
          "output_type": "stream",
          "text": [
            "Accuracy:    0.852459\n",
            "Precision:   0.800000\n",
            "Recall:      0.833333\n",
            "F1 Score:    0.816327\n",
            "Logistic Model Performance Results:\n",
            "\n",
            "AUC of ROC:  0.9222972972972974\n"
          ],
          "name": "stdout"
        },
        {
          "output_type": "display_data",
          "data": {
            "image/png": "[encoded data removed]",
            "text/plain": [
              "<Figure size 432x288 with 1 Axes>"
            ]
          },
          "metadata": {
            "tags": [],
            "needs_background": "light"
          }
        }
      ]
    },
    {
      "cell_type": "markdown",
      "metadata": {
        "id": "oztVaekxXNII"
      },
      "source": [
        "### 3.2.4 Explain the what the new results you've achieved mean. Read the documentation to understand what you've changed about your model and explain why changing that input parameter might impact the results in the manner you've observed. (HINT: changed default kernel to linear kernel)"
      ]
    },
    {
      "cell_type": "markdown",
      "metadata": {
        "id": "6TF3NT_3XNII"
      },
      "source": [
        "[Discuss Prompt here]\n",
        "\n",
        "**Answer:**\n",
        "\n",
        "The model can use several types of kernels in the algorithm, including `linear`, `poly`, `rbf`, `sigmoid`, and `precomputed`. By default, the algorithm uses the `rbf` kernel. In this case, the model was changed to a `linear` kernel, which improved the performance results of the model. Whereas the `linear` kernel is a parametric model, `rbf` is not, which is why the `linear` kernel is a better fit for this current dataset."
      ]
    },
    {
      "cell_type": "markdown",
      "metadata": {
        "id": "jnajoFPIXNII"
      },
      "source": [
        "## [10pt + bonus 10pt] Part 4: Cross Validation and Model Selection"
      ]
    },
    {
      "cell_type": "markdown",
      "metadata": {
        "id": "Tyy0SM1sXNIJ"
      },
      "source": [
        "You've sampled a number of different classification techniques, as well as experimented with tweak different parameters to optimize perfiormance. Based on these experiments you should have settled on a particular model that performs most optimally on the chosen dataset. \n",
        "\n",
        "Before our work is done though, we want to ensure that our results are not the result of the random sampling of our data we did with the Train-Test-Split. To ensure otherwise we will conduct a K-Fold Cross-Validation of our top two performing models, assess their cumulative performance across folds, and determine the best model for our particular data. "
      ]
    },
    {
      "cell_type": "markdown",
      "metadata": {
        "id": "2QPgGP5TXNIJ"
      },
      "source": [
        "## [10pt] 4.1. Select your top 2 performing models and run a K-Fold Cross Validation on both (use 10 folds). Replace the corresponding code in the cell below. Report your best performing model. "
      ]
    },
    {
      "cell_type": "code",
      "metadata": {
        "id": "AeLheTOGXNIJ",
        "colab": {
          "base_uri": "https://localhost:8080/"
        },
        "outputId": "6399ecfa-83ba-4f34-f7d8-253e43194db6"
      },
      "source": [
        "from sklearn.model_selection import KFold\n",
        "from sklearn import model_selection\n",
        "\n",
        "# First we define our cross-validation model parameters. In this case we're going to use KFold, with 10 splits\n",
        "# where we first shuffle our data before splitting it, and use a random seed to ensure a consistent repeatable shuffle\n",
        "kfold = model_selection.KFold(n_splits=10, random_state=42, shuffle=True) \n",
        "\n",
        "# replace the two models below with what you picked\n",
        "log_model_kfold = LogisticRegression(penalty = 'none')\n",
        "svc_model_kfold = SVC(kernel = 'linear', probability = True)\n",
        "\n",
        "# Finally we pull it all together. We call cross val score to generate an accuracy performance score for our model\n",
        "# we define our learning model, data, labels, and cross-val splitting strategy (all defined previously)\n",
        "log_results_kfold = model_selection.cross_val_score(log_model_kfold, train, target, cv=kfold)\n",
        "svc_results_kfold = model_selection.cross_val_score(svc_model_kfold, train, target, cv=kfold)\n",
        "\n",
        "# Because we're collecting results from all runs, we take the mean value\n",
        "print(\"For Logistic Regression our mean accuracy across folds is: %.2f%%\" % (log_results_kfold.mean()*100.0)) \n",
        "print(\"For an SVM Regression our mean accuracy across folds is: %.2f%%\" % (svc_results_kfold.mean()*100.0)) "
      ],
      "execution_count": null,
      "outputs": [
        {
          "output_type": "stream",
          "text": [
            "For Logistic Regression our mean accuracy across folds is: 80.12%\n",
            "For an SVM Regression our mean accuracy across folds is: 81.78%\n"
          ],
          "name": "stdout"
        }
      ]
    },
    {
      "cell_type": "markdown",
      "metadata": {
        "id": "9dRvgdjjXNIK"
      },
      "source": [
        "[Discuss]\n",
        "\n",
        "**Answer:**\n",
        "\n",
        "Both of my top models had the highest AUC of ROC and the four metrics of `accuracy`, `precision`, `recall`, and `F1 score` out of the various versions I tried. My best-performing model for logistic regression is the model that did not use a penalty term. This model might have had the highest AUC of ROC because the lack of regularization resulted in a high likelihood. My best-performing model for SVM is the model that used the `linear` kernel in its algorithm. This model might have performed well because the `linear` kernel suited the dataset better than the default `rbf` kernel."
      ]
    },
    {
      "cell_type": "markdown",
      "metadata": {
        "id": "TrjTZGxjXNIK"
      },
      "source": [
        "## [bonus 10pt] 4.2. use 10-fold cross validation to select the best hyperparameter $\\lambda$ (1/C) in logistic regression with l2 penalty."
      ]
    },
    {
      "cell_type": "code",
      "metadata": {
        "id": "pbZ3MgGvXNIK",
        "colab": {
          "base_uri": "https://localhost:8080/"
        },
        "outputId": "0cf6abbd-5bd7-4c2e-9f4f-a3ed6b39abf6"
      },
      "source": [
        "'''\n",
        "  This is similar to 4.1\n",
        "  Hint: create a bunch of lambdas value range from (0,some large number)\n",
        "  then when you for loop to create LogisticRegression(), \n",
        "  assign parameter \"C\" to be \"1/(one particular lambda)\"\n",
        "  and print out cross_val_score().\n",
        "  Also, specify which lambda is the best one in your opinion\n",
        "'''\n",
        "\n",
        "fold = model_selection.KFold(n_splits=10, random_state=42, shuffle=True)\n",
        "# added shuffle parameter because I kept receiving a warning\n",
        "\n",
        "max_accuracy = 0;\n",
        "max_c = 0;\n",
        "\n",
        "for i in range (1, 201):\n",
        "  c = i/100\n",
        "  log_reg = LogisticRegression(penalty = 'l2', C=c, solver='liblinear')\n",
        "  log_reg.fit(train, target)\n",
        "  fold_log = model_selection.cross_val_score(log_reg, train, target, cv=fold)\n",
        "  predicted = log_reg.predict(test)\n",
        "  if fold_log.mean() > max_accuracy:\n",
        "    max_accuracy = fold_log.mean()\n",
        "    max_c = c\n",
        "\n",
        "print(f'best accuracy: {max_accuracy}')\n",
        "print(f'best lambda value: {1/max_c}')"
      ],
      "execution_count": null,
      "outputs": [
        {
          "output_type": "stream",
          "text": [
            "best accuracy: 0.8386666666666667\n",
            "best lambda value: 11.11111111111111\n"
          ],
          "name": "stdout"
        }
      ]
    },
    {
      "cell_type": "markdown",
      "metadata": {
        "id": "AS3nFJFGLQuR"
      },
      "source": [
        "After testing various lambdas using values of C from 1 to 200, the highest accuracy was `83.87%`, resulting from a lambda of `11.11`. In my opinion, this lambda would be the best since it resulted in the highest accuracy in my model."
      ]
    }
  ]
}