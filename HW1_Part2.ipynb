{
  "nbformat": 4,
  "nbformat_minor": 0,
  "metadata": {
    "anaconda-cloud": {},
    "kernelspec": {
      "display_name": "Python 3",
      "language": "python",
      "name": "python3"
    },
    "language_info": {
      "codemirror_mode": {
        "name": "ipython",
        "version": 3
      },
      "file_extension": ".py",
      "mimetype": "text/x-python",
      "name": "python",
      "nbconvert_exporter": "python",
      "pygments_lexer": "ipython3",
      "version": "3.8.8"
    },
    "colab": {
      "name": "HW1_Part2.ipynb",
      "provenance": [],
      "include_colab_link": true
    }
  },
  "cells": [
    {
      "cell_type": "markdown",
      "metadata": {
        "id": "view-in-github",
        "colab_type": "text"
      },
      "source": [
        "<a href=\"https://colab.research.google.com/github/viridescentavian/UCLA-CSSI/blob/main/HW1_Part2.ipynb\" target=\"_parent\"><img src=\"https://colab.research.google.com/assets/colab-badge.svg\" alt=\"Open In Colab\"/></a>"
      ]
    },
    {
      "cell_type": "markdown",
      "metadata": {
        "id": "B5MVHfYDafZu"
      },
      "source": [
        "# HW1 Part 2: Linear Regression Notebook\n"
      ]
    },
    {
      "cell_type": "code",
      "metadata": {
        "id": "pa3cvEBXafZv"
      },
      "source": [
        "import numpy as np\n",
        "import scipy as sp\n",
        "import matplotlib as mpl\n",
        "import matplotlib.cm as cm\n",
        "import matplotlib.pyplot as plt\n",
        "import pandas as pd\n",
        "import time\n",
        "pd.set_option('display.width', 500)\n",
        "pd.set_option('display.max_columns', 100)\n",
        "pd.set_option('display.notebook_repr_html', True)\n",
        "import warnings\n",
        "warnings.filterwarnings('ignore')\n",
        "# Displays the plots in notebook\n",
        "%matplotlib inline"
      ],
      "execution_count": 62,
      "outputs": []
    },
    {
      "cell_type": "markdown",
      "metadata": {
        "id": "deTNBKEcafZw"
      },
      "source": [
        "<a class=\"anchor\" id=\"third-bullet\"></a>\n",
        "## Linear Regression\n",
        "\n",
        "We first examine a toy problem, focusing our efforts on fitting a linear model to a small dataset with four observations.  Each observation consists of one predictor $x_i$ and one response $y_i$ for $i = 1, 2, 3, 4$,\n",
        "\n",
        "\\begin{align*}\n",
        "(x , y) = \\{(x_1, y_1), (x_2, y_2), (x_3, y_3), (x_4, y_4)\\}.\n",
        "\\end{align*}\n",
        "\n",
        "To be very concrete, let's set the values of the predictors and responses.\n",
        "\n",
        "\\begin{equation*}\n",
        "(x , y) = \\{(1, 0), (2, 2), (3, 4), (5, 5)\\}\n",
        "\\end{equation*}\n",
        "\n",
        "As we discussed in the lecture, we want to fit a model $y=\\beta_0 + \\beta_1 x$ given these observations by minimizing the mean square error (MSE)."
      ]
    },
    {
      "cell_type": "markdown",
      "metadata": {
        "id": "eTfacs3MafZw"
      },
      "source": [
        "<div class=\"exercise\"><b>Exercise</b></div>\n",
        "\n",
        "* Make two numpy arrays out of this data, x_train and y_train\n",
        "* Check the dimentions of these arrays\n",
        "* Try to reshape them into a different shape\n",
        "* Make points into a very simple scatterplot\n",
        "* Make a better scatterplot"
      ]
    },
    {
      "cell_type": "code",
      "metadata": {
        "colab": {
          "base_uri": "https://localhost:8080/",
          "height": 635
        },
        "id": "gpN1wHppafZx",
        "outputId": "c57e0671-2807-4700-a50a-63e06e7b8b23"
      },
      "source": [
        "# create arrays\n",
        "x_train = np.array([1,2,3,5])\n",
        "y_train = np.array([0,2,4,5])\n",
        "\n",
        "# check dimensions\n",
        "x_train.shape\n",
        "y_train.shape\n",
        "\n",
        "# reshape\n",
        "x_train = x_train.reshape(4,1)\n",
        "y_train = y_train.reshape(4,1)\n",
        "\n",
        "# simple scatterplot\n",
        "plt.scatter(x_train,y_train)\n",
        "\n",
        "# better scatterplot\n",
        "def better_scatterplot(x, y, title):\n",
        "    # font size\n",
        "    f_size = 18\n",
        "    \n",
        "    # make figure\n",
        "    fig, ax = plt.subplots(1,1, figsize=(8,5)) # Create figure object\n",
        "\n",
        "    # set axes limits\n",
        "    ax.set_xlim(np.min(x)-1, np.max(x) + 1)\n",
        "    ax.set_ylim(0, np.max(y) + 1)\n",
        "\n",
        "    # adjust tickmark sizes\n",
        "    ax.tick_params(labelsize = f_size)\n",
        "    \n",
        "    # adjust axis label sizes\n",
        "    ax.set_xlabel('x-axis', fontsize = f_size)\n",
        "    ax.set_ylabel('y-axis', fontsize = f_size)\n",
        "    \n",
        "    # title\n",
        "    ax.set_title(title, fontsize = f_size)\n",
        "\n",
        "    # gridlines\n",
        "    ax.grid(True, lw=1.75, ls='--', alpha=0.15)\n",
        "\n",
        "    # actual plot\n",
        "    ax.scatter(x, y, label=r'$observations$')\n",
        "    ax.legend(loc='upper left', fontsize = f_size);\n",
        "    \n",
        "    return ax\n",
        "\n",
        "better_scatterplot(x_train, y_train, 'better scatterplot')"
      ],
      "execution_count": 63,
      "outputs": [
        {
          "output_type": "execute_result",
          "data": {
            "text/plain": [
              "<matplotlib.axes._subplots.AxesSubplot at 0x7f3c0b793310>"
            ]
          },
          "metadata": {
            "tags": []
          },
          "execution_count": 63
        },
        {
          "output_type": "display_data",
          "data": {
            "image/png": "[encoded data removed]",
            "text/plain": [
              "<Figure size 432x288 with 1 Axes>"
            ]
          },
          "metadata": {
            "tags": [],
            "needs_background": "light"
          }
        },
        {
          "output_type": "display_data",
          "data": {
            "image/png": "[encoded data removed]",
            "text/plain": [
              "<Figure size 576x360 with 1 Axes>"
            ]
          },
          "metadata": {
            "tags": [],
            "needs_background": "light"
          }
        }
      ]
    },
    {
      "cell_type": "code",
      "metadata": {
        "id": "4zZNc-aRafZx"
      },
      "source": [
        "# solution\n",
        "x_train = np.array([1,2,3,5])\n",
        "y_train = np.array([0,2,4,5])"
      ],
      "execution_count": 64,
      "outputs": []
    },
    {
      "cell_type": "code",
      "metadata": {
        "id": "FviaJTj5afZy",
        "colab": {
          "base_uri": "https://localhost:8080/"
        },
        "outputId": "bc49c011-8947-4054-e7e1-58195e594393"
      },
      "source": [
        "x_train.shape"
      ],
      "execution_count": 65,
      "outputs": [
        {
          "output_type": "execute_result",
          "data": {
            "text/plain": [
              "(4,)"
            ]
          },
          "metadata": {
            "tags": []
          },
          "execution_count": 65
        }
      ]
    },
    {
      "cell_type": "code",
      "metadata": {
        "id": "HyRlDptIafZy",
        "colab": {
          "base_uri": "https://localhost:8080/"
        },
        "outputId": "212634a6-b0ed-4ad2-f466-ac0b646bdbdf"
      },
      "source": [
        "x_train = x_train.reshape(4,1)\n",
        "x_train.shape"
      ],
      "execution_count": 66,
      "outputs": [
        {
          "output_type": "execute_result",
          "data": {
            "text/plain": [
              "(4, 1)"
            ]
          },
          "metadata": {
            "tags": []
          },
          "execution_count": 66
        }
      ]
    },
    {
      "cell_type": "code",
      "metadata": {
        "id": "f6Zx7Q_5afZy",
        "colab": {
          "base_uri": "https://localhost:8080/",
          "height": 282
        },
        "outputId": "70ff2d3b-f367-4624-b36d-44f31054d879"
      },
      "source": [
        "# Make a simple scatterplot\n",
        "plt.scatter(x_train,y_train)\n",
        "\n",
        "# check dimensions \n",
        "print(x_train.shape,y_train.shape)"
      ],
      "execution_count": 67,
      "outputs": [
        {
          "output_type": "stream",
          "text": [
            "(4, 1) (4,)\n"
          ],
          "name": "stdout"
        },
        {
          "output_type": "display_data",
          "data": {
            "image/png": "[encoded data removed]",
            "text/plain": [
              "<Figure size 432x288 with 1 Axes>"
            ]
          },
          "metadata": {
            "tags": [],
            "needs_background": "light"
          }
        }
      ]
    },
    {
      "cell_type": "code",
      "metadata": {
        "id": "4DO_sW9zafZz",
        "colab": {
          "base_uri": "https://localhost:8080/",
          "height": 362
        },
        "outputId": "325d2e92-3851-424b-cbd0-3cb41e41d07e"
      },
      "source": [
        "def nice_scatterplot(x, y, title):\n",
        "    # font size\n",
        "    f_size = 18\n",
        "    \n",
        "    # make the figure\n",
        "    fig, ax = plt.subplots(1,1, figsize=(8,5)) # Create figure object\n",
        "\n",
        "    # set axes limits to make the scale nice\n",
        "    ax.set_xlim(np.min(x)-1, np.max(x) + 1)\n",
        "    ax.set_ylim(np.min(y)-1, np.max(y) + 1)\n",
        "\n",
        "    # adjust size of tickmarks in axes\n",
        "    ax.tick_params(labelsize = f_size)\n",
        "    \n",
        "    # remove tick labels\n",
        "    ax.tick_params(labelbottom=False,  bottom=False)\n",
        "    \n",
        "    # adjust size of axis label\n",
        "    ax.set_xlabel(r'$x$', fontsize = f_size)\n",
        "    ax.set_ylabel(r'$y$', fontsize = f_size)\n",
        "    \n",
        "    # set figure title label\n",
        "    ax.set_title(title, fontsize = f_size)\n",
        "\n",
        "    # you may set up grid with this \n",
        "    ax.grid(True, lw=1.75, ls='--', alpha=0.15)\n",
        "\n",
        "    # make actual plot (Notice the label argument!)\n",
        "    #ax.scatter(x, y, label=r'$my points$')\n",
        "    #ax.scatter(x, y, label='$my points$')\n",
        "    ax.scatter(x, y, label=r'$observations$')\n",
        "    ax.legend(loc='upper left', fontsize = f_size);\n",
        "    \n",
        "    return ax\n",
        "\n",
        "nice_scatterplot(x_train, y_train, 'nice plot')\n"
      ],
      "execution_count": 68,
      "outputs": [
        {
          "output_type": "execute_result",
          "data": {
            "text/plain": [
              "<matplotlib.axes._subplots.AxesSubplot at 0x7f3c0c460410>"
            ]
          },
          "metadata": {
            "tags": []
          },
          "execution_count": 68
        },
        {
          "output_type": "display_data",
          "data": {
            "image/png": "[encoded data removed]",
            "text/plain": [
              "<Figure size 576x360 with 1 Axes>"
            ]
          },
          "metadata": {
            "tags": [],
            "needs_background": "light"
          }
        }
      ]
    },
    {
      "cell_type": "markdown",
      "metadata": {
        "id": "2t5YP2sZafZ0"
      },
      "source": [
        "\n",
        "#### Closed-form solution\n",
        "\n",
        "For the single predictor case, we have the following explicit solution:\n",
        "    \\begin{align}\n",
        "      \\beta_1 &= \\frac{\\sum_{i=1}^n{(x_i-\\bar{x})(y_i-\\bar{y})}}{\\sum_{i=1}^n{(x_i-\\bar{x})^2}}\\\\\n",
        "      \\beta_0 &= \\bar{y} - \\beta_1\\bar{x}\\\n",
        "    \\end{align}\n",
        "    \n",
        "where $\\bar{y}$ and $\\bar{x}$ are the mean of the y values and the mean of the x values, respectively."
      ]
    },
    {
      "cell_type": "markdown",
      "metadata": {
        "id": "GoDWgEpLafZ0"
      },
      "source": [
        "###  Building a model from scratch\n",
        "In this part, we will solve the equations for simple linear regression and find the best fit solution to our toy problem."
      ]
    },
    {
      "cell_type": "markdown",
      "metadata": {
        "id": "3-x70mCCafZ0"
      },
      "source": [
        "The snippets of code below implement the linear regression equations on the observed predictors and responses, which we'll call the training data set.  Let's walk through the code.\n",
        "\n",
        "We have to reshape our arrrays to 2D because each row correspondes to one observation."
      ]
    },
    {
      "cell_type": "markdown",
      "metadata": {
        "id": "VMcJ4TdnafZ0"
      },
      "source": [
        "<div class=\"exercise\"><b>Exercise</b></div>\n",
        "\n",
        "* make an array with shape (2,3)\n",
        "* reshape it to a size that you want"
      ]
    },
    {
      "cell_type": "code",
      "metadata": {
        "colab": {
          "base_uri": "https://localhost:8080/"
        },
        "id": "z-auiOX2afZ1",
        "outputId": "5332f0cb-8e2d-42f2-901f-7144991306ac"
      },
      "source": [
        "# make array with (2, 3) and reshape\n",
        "num_arr = np.array([[1,3,5],[2,4,6]])\n",
        "num_reshape = num_arr.reshape(-1, 2)\n",
        "print(num_arr.shape, num_reshape.shape)\n",
        "\n",
        "# reshape to 2d array\n",
        "x_train = x_train.reshape(x_train.shape[0], 1)\n",
        "y_train = y_train.reshape(y_train.shape[0], 1)\n",
        "print(x_train.shape,y_train.shape)\n",
        "\n",
        "# compute means\n",
        "y_bar = np.mean(y_train)\n",
        "x_bar = np.mean(x_train)\n",
        "\n",
        "# build the two terms\n",
        "numerator = np.sum( (x_train - x_bar)*(y_train - y_bar) )\n",
        "denominator = np.sum((x_train - x_bar)**2)\n",
        "\n",
        "#slope beta1\n",
        "beta_1 = numerator/denominator\n",
        "\n",
        "#intercept beta0\n",
        "beta_0 = y_bar - beta_1*x_bar\n",
        "\n",
        "print(\"The best-fit line is {0:3.2f} + {1:3.2f} * x\".format(beta_0, beta_1))"
      ],
      "execution_count": 69,
      "outputs": [
        {
          "output_type": "stream",
          "text": [
            "(2, 3) (3, 2)\n",
            "(4, 1) (4, 1)\n",
            "The best-fit line is -0.63 + 1.23 * x\n"
          ],
          "name": "stdout"
        }
      ]
    },
    {
      "cell_type": "code",
      "metadata": {
        "id": "sB92D82xafZ1",
        "colab": {
          "base_uri": "https://localhost:8080/"
        },
        "outputId": "6bb5763c-077e-4f44-d149-f57427949c7b"
      },
      "source": [
        "#solution\n",
        "xx = np.array([[1,2,3],[4,6,8]])\n",
        "xxx = xx.reshape(-1,2)\n",
        "print(xx.shape,xxx.shape)"
      ],
      "execution_count": 70,
      "outputs": [
        {
          "output_type": "stream",
          "text": [
            "(2, 3) (3, 2)\n"
          ],
          "name": "stdout"
        }
      ]
    },
    {
      "cell_type": "code",
      "metadata": {
        "id": "uL_Li2v-afZ1",
        "colab": {
          "base_uri": "https://localhost:8080/"
        },
        "outputId": "d2df08af-db76-486f-f60b-f9d11bd9f5ad"
      },
      "source": [
        "# Reshape to be a proper 2D array\n",
        "x_train = x_train.reshape(x_train.shape[0], 1)\n",
        "#x_train = x_train.reshape(-1, 1)\n",
        "y_train = y_train.reshape(y_train.shape[0], 1)\n",
        "print(x_train.shape,y_train.shape)"
      ],
      "execution_count": 71,
      "outputs": [
        {
          "output_type": "stream",
          "text": [
            "(4, 1) (4, 1)\n"
          ],
          "name": "stdout"
        }
      ]
    },
    {
      "cell_type": "code",
      "metadata": {
        "id": "Uv2Enx9bafZ1",
        "colab": {
          "base_uri": "https://localhost:8080/"
        },
        "outputId": "e0e35bc2-0afd-43b6-d57b-14b61b23749a"
      },
      "source": [
        "# first, compute means\n",
        "y_bar = np.mean(y_train)\n",
        "x_bar = np.mean(x_train)\n",
        "\n",
        "# build the two terms, remember the element-wise computation in numpy array \n",
        "numerator = np.sum( (x_train - x_bar)*(y_train - y_bar) )\n",
        "denominator = np.sum((x_train - x_bar)**2)\n",
        "\n",
        "print(numerator, denominator) #check results"
      ],
      "execution_count": 72,
      "outputs": [
        {
          "output_type": "stream",
          "text": [
            "10.75 8.75\n"
          ],
          "name": "stdout"
        }
      ]
    },
    {
      "cell_type": "code",
      "metadata": {
        "id": "9aNtqaGIafZ1",
        "colab": {
          "base_uri": "https://localhost:8080/"
        },
        "outputId": "6cf69b7e-6146-4d5f-d5a4-0f851d3c5885"
      },
      "source": [
        "#slope beta1\n",
        "beta_1 = numerator/denominator\n",
        "\n",
        "#intercept beta0\n",
        "beta_0 = y_bar - beta_1*x_bar\n",
        "\n",
        "print(\"The best-fit line is {0:3.2f} + {1:3.2f} * x\".format(beta_0, beta_1))"
      ],
      "execution_count": 73,
      "outputs": [
        {
          "output_type": "stream",
          "text": [
            "The best-fit line is -0.63 + 1.23 * x\n"
          ],
          "name": "stdout"
        }
      ]
    },
    {
      "cell_type": "markdown",
      "metadata": {
        "id": "dweO1gJ9afZ2"
      },
      "source": [
        "<div class=\"exercise\"><b>Exercise</b></div>\n",
        "\n",
        "Next, you can write a function called `simple_linear_regression_fit`, that inputs the training data and returns `beta0` and `beta1`.\n",
        "\n",
        "```python\n",
        "def simple_linear_regression_fit(x_train: np.ndarray, y_train: np.ndarray) -> np.ndarray:\n",
        "    \n",
        "    return\n",
        "```\n",
        "\n",
        "Check your function by calling it with the training data from above and printing out the beta values."
      ]
    },
    {
      "cell_type": "code",
      "metadata": {
        "id": "TQaLHrAqafZ2"
      },
      "source": [
        "def simple_linear_regression_fit(x_train: np.ndarray, y_train: np.ndarray) -> np.ndarray:\n",
        "\n",
        "    # check size\n",
        "    if len(x_train.shape) < 2:\n",
        "        x_train = x_train.reshape(x_train.shape[0], 1)\n",
        "\n",
        "    if len(y_train.shape) < 2:\n",
        "        y_train = y_train.reshape(y_train.shape[0], 1)\n",
        "\n",
        "    # compute means\n",
        "    y_bar = np.mean(y_train)\n",
        "    x_bar = np.mean(x_train)\n",
        "\n",
        "    # build the two terms\n",
        "    numerator = np.sum( (x_train - x_bar)*(y_train - y_bar) )\n",
        "    denominator = np.sum((x_train - x_bar)**2)\n",
        "    \n",
        "    #slope beta1\n",
        "    beta_1 = numerator/denominator\n",
        "\n",
        "    #intercept beta0\n",
        "    beta_0 = y_bar - beta_1*x_bar\n",
        "\n",
        "    return np.array([beta_0,beta_1])"
      ],
      "execution_count": 74,
      "outputs": []
    },
    {
      "cell_type": "code",
      "metadata": {
        "id": "zDNCzIxrafZ2"
      },
      "source": [
        "def simple_linear_regression_fit(x_train: np.ndarray, y_train: np.ndarray) -> np.ndarray:\n",
        "    \"\"\"\n",
        "    Inputs:\n",
        "    x_train: a (num observations by 1) array holding the values of the predictor variable\n",
        "    y_train: a (num observations by 1) array holding the values of the response variable\n",
        "\n",
        "    Returns:\n",
        "    beta_vals:  a (num_features by 1) array holding the intercept and slope coeficients\n",
        "    \"\"\"\n",
        "    \n",
        "    # Check input array sizes\n",
        "    if len(x_train.shape) < 2:\n",
        "        print(\"Reshaping features array.\")\n",
        "        x_train = x_train.reshape(x_train.shape[0], 1)\n",
        "\n",
        "    if len(y_train.shape) < 2:\n",
        "        print(\"Reshaping observations array.\")\n",
        "        y_train = y_train.reshape(y_train.shape[0], 1)\n",
        "\n",
        "    # first, compute means\n",
        "    y_bar = np.mean(y_train)\n",
        "    x_bar = np.mean(x_train)\n",
        "\n",
        "    # build the two terms\n",
        "    numerator = np.sum( (x_train - x_bar)*(y_train - y_bar) )\n",
        "    denominator = np.sum((x_train - x_bar)**2)\n",
        "    \n",
        "    #slope beta1\n",
        "    beta_1 = numerator/denominator\n",
        "\n",
        "    #intercept beta0\n",
        "    beta_0 = y_bar - beta_1*x_bar\n",
        "\n",
        "    return np.array([beta_0,beta_1])\n"
      ],
      "execution_count": 75,
      "outputs": []
    },
    {
      "cell_type": "markdown",
      "metadata": {
        "id": "gRJwCnFGafZ3"
      },
      "source": [
        "* Let's run this function and see the coefficients"
      ]
    },
    {
      "cell_type": "code",
      "metadata": {
        "colab": {
          "base_uri": "https://localhost:8080/"
        },
        "id": "Zwh8MVCQafZ3",
        "outputId": "e993527f-5eb0-4b84-f395-05dbf6f6d73a"
      },
      "source": [
        "x_train = np.array([1, 2, 5, 6])\n",
        "y_train = np.array([0, 3, 4, 7])\n",
        "\n",
        "betas = simple_linear_regression_fit(x_train, y_train)\n",
        "\n",
        "beta_0 = betas[0]\n",
        "beta_1 = betas[1]\n",
        "\n",
        "print(\"The best-fit line is {0:8.6f} + {1:8.6f} * x\".format(beta_0, beta_1))"
      ],
      "execution_count": 76,
      "outputs": [
        {
          "output_type": "stream",
          "text": [
            "Reshaping features array.\n",
            "Reshaping observations array.\n",
            "The best-fit line is -0.411765 + 1.117647 * x\n"
          ],
          "name": "stdout"
        }
      ]
    },
    {
      "cell_type": "markdown",
      "metadata": {
        "id": "1Wj0Ps3DafZ3"
      },
      "source": [
        "<div class=\"exercise\"><b>Exercise</b></div>\n",
        "\n",
        "* Do the values of `beta0` and `beta1` seem reasonable?\n",
        "* Plot the training data using a scatter plot.\n",
        "* Plot the best fit line with `beta0` and `beta1` together with the training data."
      ]
    },
    {
      "cell_type": "code",
      "metadata": {
        "colab": {
          "base_uri": "https://localhost:8080/",
          "height": 390
        },
        "id": "WtwslqSFafZ3",
        "outputId": "463675f6-b96b-44e4-ec8b-ef14e5a8b299"
      },
      "source": [
        "fig_scat, ax_scat = plt.subplots(1,1, figsize=(10,6))\n",
        "\n",
        "# plot best-fit\n",
        "x_train = np.array([[1, 2, 5, 6]]).T\n",
        "\n",
        "best_fit = beta_0 + beta_1 * x_train\n",
        "\n",
        "ax_scat.scatter(x_train, y_train, s=100, label='Training Data')\n",
        "ax_scat.plot(x_train, best_fit, ls='--', label='Best Fit Line')\n",
        "\n",
        "# set axes labels\n",
        "ax_scat.set_xlabel(r'$x_{train}$')\n",
        "ax_scat.set_ylabel(r'$y$');"
      ],
      "execution_count": 77,
      "outputs": [
        {
          "output_type": "display_data",
          "data": {
            "image/png": "[encoded data removed]",
            "text/plain": [
              "<Figure size 720x432 with 1 Axes>"
            ]
          },
          "metadata": {
            "tags": [],
            "needs_background": "light"
          }
        }
      ]
    },
    {
      "cell_type": "code",
      "metadata": {
        "id": "7d7wjrdIafZ3",
        "colab": {
          "base_uri": "https://localhost:8080/",
          "height": 390
        },
        "outputId": "06fb82cd-55d4-4af0-fa6c-a7d49a8ff76a"
      },
      "source": [
        "fig_scat, ax_scat = plt.subplots(1,1, figsize=(10,6))\n",
        "\n",
        "# Plot best-fit line\n",
        "x_train = np.array([[1, 2, 3, 5]]).T\n",
        "\n",
        "best_fit = beta_0 + beta_1 * x_train\n",
        "\n",
        "ax_scat.scatter(x_train, y_train, s=300, label='Training Data')\n",
        "ax_scat.plot(x_train, best_fit, ls='--', label='Best Fit Line')\n",
        "\n",
        "ax_scat.set_xlabel(r'$x_{train}$')\n",
        "ax_scat.set_ylabel(r'$y$');\n"
      ],
      "execution_count": 78,
      "outputs": [
        {
          "output_type": "display_data",
          "data": {
            "image/png": "[encoded data removed]",
            "text/plain": [
              "<Figure size 720x432 with 1 Axes>"
            ]
          },
          "metadata": {
            "tags": [],
            "needs_background": "light"
          }
        }
      ]
    },
    {
      "cell_type": "markdown",
      "metadata": {
        "id": "4hm9qop8afZ3"
      },
      "source": [
        "The values of `beta0` and `beta1` seem roughly reasonable.  They capture the positive correlation.  The line does appear to be trying to get as close as possible to all the points."
      ]
    },
    {
      "cell_type": "markdown",
      "metadata": {
        "id": "DokQz-URafZ4"
      },
      "source": [
        "<a class=\"anchor\" id=\"fourth-bullet\"></a>\n",
        "## Building a model with `statsmodels` and `sklearn`\n",
        "\n",
        "Now that we can concretely fit the training data from scratch, let's learn two `python` packages to do it all for us:\n",
        "* [statsmodels](http://www.statsmodels.org/stable/regression.html) and \n",
        "* [scikit-learn (sklearn)](http://scikit-learn.org/stable/modules/generated/sklearn.linear_model.LinearRegression.html).\n",
        "\n",
        "Our goal  is to show how to implement simple linear regression with these packages.  For an important sanity check, we compare the $\\beta$ values from `statsmodels` and `sklearn` to the $\\beta$ values that we found from above with our own implementation.\n",
        "\n",
        "`statsmodels` tends to be easier for inference \\[finding the values of the slope and intercept and dicussing uncertainty in those values\\], whereas `sklearn` has machine-learning algorithms and is better for prediction \\[guessing y values for a given x value\\]. (Note that both packages make the same guesses, it's just a question of which activity they provide more support for.\n",
        "\n",
        "**Note:** `statsmodels` and `sklearn` are different packages!  Unless we specify otherwise, you can use either one."
      ]
    },
    {
      "cell_type": "markdown",
      "metadata": {
        "id": "OFLozhzzafZ4"
      },
      "source": [
        "Below is the code for `statsmodels`.  `Statsmodels` does not by default include the column of ones in the $X$ matrix (coresponding to the intercept), so we include it manually with `sm.add_constant`."
      ]
    },
    {
      "cell_type": "code",
      "metadata": {
        "id": "0KBS7Aw8afZ4"
      },
      "source": [
        "import statsmodels.api as sm"
      ],
      "execution_count": 79,
      "outputs": []
    },
    {
      "cell_type": "code",
      "metadata": {
        "colab": {
          "base_uri": "https://localhost:8080/"
        },
        "id": "a6da0pbOafZ4",
        "outputId": "fece9f50-a797-4a32-c728-44c5eb6915ab"
      },
      "source": [
        "# create the X matrix by appending a column of ones to x_train\n",
        "X = sm.add_constant(x_train)\n",
        "\n",
        "# this is the same matrix as in our scratch problem!\n",
        "print(X)\n",
        "\n",
        "# build the OLS model (ordinary least squares) from the training data\n",
        "toyregr_sm = sm.OLS(y_train, X)\n",
        "\n",
        "# do the fit and save regression info (parameters, etc) in results_sm\n",
        "results_sm = toyregr_sm.fit()\n",
        "\n",
        "# pull the beta parameters out from results_sm\n",
        "beta0_sm = results_sm.params[0]\n",
        "beta1_sm = results_sm.params[1]\n",
        "\n",
        "print(f'The regression coef from statsmodels are: beta_0 = {beta0_sm:8.6f} and beta_1 = {beta1_sm:8.6f}')"
      ],
      "execution_count": 80,
      "outputs": [
        {
          "output_type": "stream",
          "text": [
            "[[1. 1.]\n",
            " [1. 2.]\n",
            " [1. 3.]\n",
            " [1. 5.]]\n",
            "The regression coef from statsmodels are: beta_0 = -1.057143 and beta_1 = 1.657143\n"
          ],
          "name": "stdout"
        }
      ]
    },
    {
      "cell_type": "markdown",
      "metadata": {
        "id": "6_6k4uwKafZ4"
      },
      "source": [
        "Besides the beta parameters, `results_sm` contains a ton of other potentially useful information."
      ]
    },
    {
      "cell_type": "code",
      "metadata": {
        "colab": {
          "base_uri": "https://localhost:8080/"
        },
        "id": "0dp5VcqeafZ5",
        "outputId": "59a6b3f3-c2e8-46d8-ae2a-46997a6e5537"
      },
      "source": [
        "import warnings\n",
        "warnings.filterwarnings('ignore')\n",
        "print(results_sm.summary())"
      ],
      "execution_count": 81,
      "outputs": [
        {
          "output_type": "stream",
          "text": [
            "                            OLS Regression Results                            \n",
            "==============================================================================\n",
            "Dep. Variable:                      y   R-squared:                       0.961\n",
            "Model:                            OLS   Adj. R-squared:                  0.942\n",
            "Method:                 Least Squares   F-statistic:                     49.47\n",
            "Date:                Sat, 31 Jul 2021   Prob (F-statistic):             0.0196\n",
            "Time:                        17:46:38   Log-Likelihood:                -2.8452\n",
            "No. Observations:                   4   AIC:                             9.690\n",
            "Df Residuals:                       2   BIC:                             8.463\n",
            "Df Model:                           1                                         \n",
            "Covariance Type:            nonrobust                                         \n",
            "==============================================================================\n",
            "                 coef    std err          t      P>|t|      [0.025      0.975]\n",
            "------------------------------------------------------------------------------\n",
            "const         -1.0571      0.736     -1.437      0.287      -4.223       2.108\n",
            "x1             1.6571      0.236      7.034      0.020       0.643       2.671\n",
            "==============================================================================\n",
            "Omnibus:                          nan   Durbin-Watson:                   2.403\n",
            "Prob(Omnibus):                    nan   Jarque-Bera (JB):                0.317\n",
            "Skew:                           0.381   Prob(JB):                        0.854\n",
            "Kurtosis:                       1.852   Cond. No.                         7.13\n",
            "==============================================================================\n",
            "\n",
            "Warnings:\n",
            "[1] Standard Errors assume that the covariance matrix of the errors is correctly specified.\n"
          ],
          "name": "stdout"
        }
      ]
    },
    {
      "cell_type": "markdown",
      "metadata": {
        "id": "nfRFjNHGafZ5"
      },
      "source": [
        "Now let's turn our attention to the `sklearn` library."
      ]
    },
    {
      "cell_type": "code",
      "metadata": {
        "id": "C-LYGGArafZ5"
      },
      "source": [
        "from sklearn import linear_model"
      ],
      "execution_count": 82,
      "outputs": []
    },
    {
      "cell_type": "code",
      "metadata": {
        "colab": {
          "base_uri": "https://localhost:8080/"
        },
        "id": "a133MczAafZ5",
        "outputId": "fde7aa18-49c2-4bea-ca60-6473a2cde9db"
      },
      "source": [
        "# build the least squares model\n",
        "toyregr = linear_model.LinearRegression()\n",
        "\n",
        "print(x_train.shape,y_train.shape)\n",
        "# save regression info (parameters, etc) in results_skl\n",
        "results = toyregr.fit(x_train, y_train)\n",
        "\n",
        "# pull the beta parameters out from results_skl\n",
        "beta0_skl = toyregr.intercept_\n",
        "beta1_skl = toyregr.coef_[0]\n",
        "\n",
        "print(\"The regression coefficients from the sklearn package are: beta_0 = {0:8.6f} and beta_1 = {1:8.6f}\".format(beta0_skl, beta1_skl))"
      ],
      "execution_count": 83,
      "outputs": [
        {
          "output_type": "stream",
          "text": [
            "(4, 1) (4,)\n",
            "The regression coefficients from the sklearn package are: beta_0 = -1.057143 and beta_1 = 1.657143\n"
          ],
          "name": "stdout"
        }
      ]
    },
    {
      "cell_type": "markdown",
      "metadata": {
        "id": "wyrR5cefafZ5"
      },
      "source": [
        "We should feel pretty good about ourselves now, and we're ready to move on to a real problem!"
      ]
    },
    {
      "cell_type": "markdown",
      "metadata": {
        "id": "toKA9gV0afZ5"
      },
      "source": [
        "### The `scikit-learn` library and the shape of things"
      ]
    },
    {
      "cell_type": "markdown",
      "metadata": {
        "id": "YwJy3ozwafZ5"
      },
      "source": [
        "Before diving into a \"real\" problem, let's discuss more of the details of `sklearn`.\n",
        "\n",
        "`Scikit-learn` is the main `Python` machine learning library. It consists of many learners which can learn models from data, as well as a lot of utility functions such as `train_test_split()`. \n",
        "\n",
        "Use the following to add the library into your code:\n",
        "\n",
        "```python\n",
        "import sklearn \n",
        "```\n",
        "\n",
        "In `scikit-learn`, an **estimator** is a Python object that implements the methods `fit(X, y)` and `predict(T)`\n",
        "\n",
        "Let's see the structure of `scikit-learn` needed to make these fits. `fit()` always takes two arguments:\n",
        "```python\n",
        "estimator.fit(xtrain, ytrain)\n",
        "```\n",
        "We will consider two estimators in this lab: `LinearRegression` and `KNeighborsRegressor`.\n",
        "\n",
        "It is very important to understand that `xtrain` must be in the form of a **2x2 array** with each row corresponding to one sample, and each column corresponding to the feature values for that sample.\n",
        "\n",
        "`ytrain` on the other hand is a simple array of responses.  These are continuous for regression problems."
      ]
    },
    {
      "cell_type": "markdown",
      "metadata": {
        "id": "QZXWLpQcafZ6"
      },
      "source": [
        "![](../images/featurematrix.png)\n",
        "\n",
        "<!--![](../images/sklearn2.jpg)-->"
      ]
    },
    {
      "cell_type": "markdown",
      "metadata": {
        "id": "MCPvx9jtafZ6"
      },
      "source": [
        "### Practice with `sklearn` and a real dataset\n",
        "We begin by loading up the `mtcars` dataset. This data was extracted from the 1974 Motor Trend US magazine, and comprises of fuel consumption and 10 aspects of automobile design and performance for 32 automobiles (1973–74 models). We will load this data to a dataframe with 32 observations on 11 (numeric) variables. Here is an explanation of the features:\n",
        "\n",
        "- `mpg` is Miles/(US) gallon \n",
        "- `cyl` is Number of cylinders, \n",
        "- `disp` is\tDisplacement (cu.in.), \n",
        "- `hp` is\tGross horsepower, \n",
        "- `drat` is\tRear axle ratio, \n",
        "- `wt` is the Weight (1000 lbs), \n",
        "- `qsec` is 1/4 mile time,\n",
        "- `vs` is Engine (0 = V-shaped, 1 = straight), \n",
        "- `am` is Transmission (0 = automatic, 1 = manual), \n",
        "- `gear` is the Number of forward gears, \n",
        "- `carb` is\tNumber of carburetors."
      ]
    },
    {
      "cell_type": "code",
      "metadata": {
        "id": "1OLlyPfNkf_2",
        "colab": {
          "base_uri": "https://localhost:8080/"
        },
        "outputId": "60a90784-0583-4c9d-d958-effe04b086dd"
      },
      "source": [
        "import os\n",
        "import tarfile\n",
        "import urllib\n",
        "\n",
        "# mount drive\n",
        "from google.colab import drive\n",
        "drive.mount('/content/drive')"
      ],
      "execution_count": 84,
      "outputs": [
        {
          "output_type": "stream",
          "text": [
            "Drive already mounted at /content/drive; to attempt to forcibly remount, call drive.mount(\"/content/drive\", force_remount=True).\n"
          ],
          "name": "stdout"
        }
      ]
    },
    {
      "cell_type": "code",
      "metadata": {
        "colab": {
          "base_uri": "https://localhost:8080/",
          "height": 204
        },
        "id": "RWFEBeVoafZ6",
        "outputId": "bfab838c-57e4-4fff-ca02-f7d357976507"
      },
      "source": [
        "import pandas as pd\n",
        "\n",
        "DATASET_PATH = \"/content/drive/MyDrive/Computer Science/UCLA CSSI/HW1/HW1\"\n",
        "\n",
        "def load_cars_data(cars_path):\n",
        "    csv_path = os.path.join(DATASET_PATH, \"mtcars.csv\")\n",
        "    return pd.read_csv(csv_path)\n",
        "\n",
        "dfcars = load_cars_data(DATASET_PATH)\n",
        "dfcars.head()"
      ],
      "execution_count": 85,
      "outputs": [
        {
          "output_type": "execute_result",
          "data": {
            "text/html": [
              "<div>\n",
              "<style scoped>\n",
              "    .dataframe tbody tr th:only-of-type {\n",
              "        vertical-align: middle;\n",
              "    }\n",
              "\n",
              "    .dataframe tbody tr th {\n",
              "        vertical-align: top;\n",
              "    }\n",
              "\n",
              "    .dataframe thead th {\n",
              "        text-align: right;\n",
              "    }\n",
              "</style>\n",
              "<table border=\"1\" class=\"dataframe\">\n",
              "  <thead>\n",
              "    <tr style=\"text-align: right;\">\n",
              "      <th></th>\n",
              "      <th>Unnamed: 0</th>\n",
              "      <th>mpg</th>\n",
              "      <th>cyl</th>\n",
              "      <th>disp</th>\n",
              "      <th>hp</th>\n",
              "      <th>drat</th>\n",
              "      <th>wt</th>\n",
              "      <th>qsec</th>\n",
              "      <th>vs</th>\n",
              "      <th>am</th>\n",
              "      <th>gear</th>\n",
              "      <th>carb</th>\n",
              "    </tr>\n",
              "  </thead>\n",
              "  <tbody>\n",
              "    <tr>\n",
              "      <th>0</th>\n",
              "      <td>Mazda RX4</td>\n",
              "      <td>21.0</td>\n",
              "      <td>6</td>\n",
              "      <td>160.0</td>\n",
              "      <td>110</td>\n",
              "      <td>3.90</td>\n",
              "      <td>2.620</td>\n",
              "      <td>16.46</td>\n",
              "      <td>0</td>\n",
              "      <td>1</td>\n",
              "      <td>4</td>\n",
              "      <td>4</td>\n",
              "    </tr>\n",
              "    <tr>\n",
              "      <th>1</th>\n",
              "      <td>Mazda RX4 Wag</td>\n",
              "      <td>21.0</td>\n",
              "      <td>6</td>\n",
              "      <td>160.0</td>\n",
              "      <td>110</td>\n",
              "      <td>3.90</td>\n",
              "      <td>2.875</td>\n",
              "      <td>17.02</td>\n",
              "      <td>0</td>\n",
              "      <td>1</td>\n",
              "      <td>4</td>\n",
              "      <td>4</td>\n",
              "    </tr>\n",
              "    <tr>\n",
              "      <th>2</th>\n",
              "      <td>Datsun 710</td>\n",
              "      <td>22.8</td>\n",
              "      <td>4</td>\n",
              "      <td>108.0</td>\n",
              "      <td>93</td>\n",
              "      <td>3.85</td>\n",
              "      <td>2.320</td>\n",
              "      <td>18.61</td>\n",
              "      <td>1</td>\n",
              "      <td>1</td>\n",
              "      <td>4</td>\n",
              "      <td>1</td>\n",
              "    </tr>\n",
              "    <tr>\n",
              "      <th>3</th>\n",
              "      <td>Hornet 4 Drive</td>\n",
              "      <td>21.4</td>\n",
              "      <td>6</td>\n",
              "      <td>258.0</td>\n",
              "      <td>110</td>\n",
              "      <td>3.08</td>\n",
              "      <td>3.215</td>\n",
              "      <td>19.44</td>\n",
              "      <td>1</td>\n",
              "      <td>0</td>\n",
              "      <td>3</td>\n",
              "      <td>1</td>\n",
              "    </tr>\n",
              "    <tr>\n",
              "      <th>4</th>\n",
              "      <td>Hornet Sportabout</td>\n",
              "      <td>18.7</td>\n",
              "      <td>8</td>\n",
              "      <td>360.0</td>\n",
              "      <td>175</td>\n",
              "      <td>3.15</td>\n",
              "      <td>3.440</td>\n",
              "      <td>17.02</td>\n",
              "      <td>0</td>\n",
              "      <td>0</td>\n",
              "      <td>3</td>\n",
              "      <td>2</td>\n",
              "    </tr>\n",
              "  </tbody>\n",
              "</table>\n",
              "</div>"
            ],
            "text/plain": [
              "          Unnamed: 0   mpg  cyl   disp   hp  drat     wt   qsec  vs  am  gear  carb\n",
              "0          Mazda RX4  21.0    6  160.0  110  3.90  2.620  16.46   0   1     4     4\n",
              "1      Mazda RX4 Wag  21.0    6  160.0  110  3.90  2.875  17.02   0   1     4     4\n",
              "2         Datsun 710  22.8    4  108.0   93  3.85  2.320  18.61   1   1     4     1\n",
              "3     Hornet 4 Drive  21.4    6  258.0  110  3.08  3.215  19.44   1   0     3     1\n",
              "4  Hornet Sportabout  18.7    8  360.0  175  3.15  3.440  17.02   0   0     3     2"
            ]
          },
          "metadata": {
            "tags": []
          },
          "execution_count": 85
        }
      ]
    },
    {
      "cell_type": "code",
      "metadata": {
        "colab": {
          "base_uri": "https://localhost:8080/",
          "height": 204
        },
        "id": "wEW_tc2XafZ6",
        "outputId": "a471098f-e4bc-4c77-b877-b97eceeabc6d"
      },
      "source": [
        "# Fix the column title \n",
        "dfcars = dfcars.rename(columns={\"Unnamed: 0\":\"car name\"})\n",
        "dfcars.head()"
      ],
      "execution_count": 86,
      "outputs": [
        {
          "output_type": "execute_result",
          "data": {
            "text/html": [
              "<div>\n",
              "<style scoped>\n",
              "    .dataframe tbody tr th:only-of-type {\n",
              "        vertical-align: middle;\n",
              "    }\n",
              "\n",
              "    .dataframe tbody tr th {\n",
              "        vertical-align: top;\n",
              "    }\n",
              "\n",
              "    .dataframe thead th {\n",
              "        text-align: right;\n",
              "    }\n",
              "</style>\n",
              "<table border=\"1\" class=\"dataframe\">\n",
              "  <thead>\n",
              "    <tr style=\"text-align: right;\">\n",
              "      <th></th>\n",
              "      <th>car name</th>\n",
              "      <th>mpg</th>\n",
              "      <th>cyl</th>\n",
              "      <th>disp</th>\n",
              "      <th>hp</th>\n",
              "      <th>drat</th>\n",
              "      <th>wt</th>\n",
              "      <th>qsec</th>\n",
              "      <th>vs</th>\n",
              "      <th>am</th>\n",
              "      <th>gear</th>\n",
              "      <th>carb</th>\n",
              "    </tr>\n",
              "  </thead>\n",
              "  <tbody>\n",
              "    <tr>\n",
              "      <th>0</th>\n",
              "      <td>Mazda RX4</td>\n",
              "      <td>21.0</td>\n",
              "      <td>6</td>\n",
              "      <td>160.0</td>\n",
              "      <td>110</td>\n",
              "      <td>3.90</td>\n",
              "      <td>2.620</td>\n",
              "      <td>16.46</td>\n",
              "      <td>0</td>\n",
              "      <td>1</td>\n",
              "      <td>4</td>\n",
              "      <td>4</td>\n",
              "    </tr>\n",
              "    <tr>\n",
              "      <th>1</th>\n",
              "      <td>Mazda RX4 Wag</td>\n",
              "      <td>21.0</td>\n",
              "      <td>6</td>\n",
              "      <td>160.0</td>\n",
              "      <td>110</td>\n",
              "      <td>3.90</td>\n",
              "      <td>2.875</td>\n",
              "      <td>17.02</td>\n",
              "      <td>0</td>\n",
              "      <td>1</td>\n",
              "      <td>4</td>\n",
              "      <td>4</td>\n",
              "    </tr>\n",
              "    <tr>\n",
              "      <th>2</th>\n",
              "      <td>Datsun 710</td>\n",
              "      <td>22.8</td>\n",
              "      <td>4</td>\n",
              "      <td>108.0</td>\n",
              "      <td>93</td>\n",
              "      <td>3.85</td>\n",
              "      <td>2.320</td>\n",
              "      <td>18.61</td>\n",
              "      <td>1</td>\n",
              "      <td>1</td>\n",
              "      <td>4</td>\n",
              "      <td>1</td>\n",
              "    </tr>\n",
              "    <tr>\n",
              "      <th>3</th>\n",
              "      <td>Hornet 4 Drive</td>\n",
              "      <td>21.4</td>\n",
              "      <td>6</td>\n",
              "      <td>258.0</td>\n",
              "      <td>110</td>\n",
              "      <td>3.08</td>\n",
              "      <td>3.215</td>\n",
              "      <td>19.44</td>\n",
              "      <td>1</td>\n",
              "      <td>0</td>\n",
              "      <td>3</td>\n",
              "      <td>1</td>\n",
              "    </tr>\n",
              "    <tr>\n",
              "      <th>4</th>\n",
              "      <td>Hornet Sportabout</td>\n",
              "      <td>18.7</td>\n",
              "      <td>8</td>\n",
              "      <td>360.0</td>\n",
              "      <td>175</td>\n",
              "      <td>3.15</td>\n",
              "      <td>3.440</td>\n",
              "      <td>17.02</td>\n",
              "      <td>0</td>\n",
              "      <td>0</td>\n",
              "      <td>3</td>\n",
              "      <td>2</td>\n",
              "    </tr>\n",
              "  </tbody>\n",
              "</table>\n",
              "</div>"
            ],
            "text/plain": [
              "            car name   mpg  cyl   disp   hp  drat     wt   qsec  vs  am  gear  carb\n",
              "0          Mazda RX4  21.0    6  160.0  110  3.90  2.620  16.46   0   1     4     4\n",
              "1      Mazda RX4 Wag  21.0    6  160.0  110  3.90  2.875  17.02   0   1     4     4\n",
              "2         Datsun 710  22.8    4  108.0   93  3.85  2.320  18.61   1   1     4     1\n",
              "3     Hornet 4 Drive  21.4    6  258.0  110  3.08  3.215  19.44   1   0     3     1\n",
              "4  Hornet Sportabout  18.7    8  360.0  175  3.15  3.440  17.02   0   0     3     2"
            ]
          },
          "metadata": {
            "tags": []
          },
          "execution_count": 86
        }
      ]
    },
    {
      "cell_type": "code",
      "metadata": {
        "colab": {
          "base_uri": "https://localhost:8080/"
        },
        "id": "hw3zjybGafZ6",
        "outputId": "0c1811fd-e94f-4915-b53d-fb76737359bf"
      },
      "source": [
        "dfcars.shape"
      ],
      "execution_count": 87,
      "outputs": [
        {
          "output_type": "execute_result",
          "data": {
            "text/plain": [
              "(32, 12)"
            ]
          },
          "metadata": {
            "tags": []
          },
          "execution_count": 87
        }
      ]
    },
    {
      "cell_type": "markdown",
      "metadata": {
        "id": "RDvPEoMRafZ6"
      },
      "source": [
        "#### Searching for values: how many cars have 4 gears?"
      ]
    },
    {
      "cell_type": "code",
      "metadata": {
        "colab": {
          "base_uri": "https://localhost:8080/"
        },
        "id": "0Bsa_KSnafZ7",
        "outputId": "df116994-4dc3-4766-f0d8-82ae12a545b8"
      },
      "source": [
        "len(dfcars[dfcars.gear == 4].drop_duplicates(subset='car name', keep='first'))"
      ],
      "execution_count": 88,
      "outputs": [
        {
          "output_type": "execute_result",
          "data": {
            "text/plain": [
              "12"
            ]
          },
          "metadata": {
            "tags": []
          },
          "execution_count": 88
        }
      ]
    },
    {
      "cell_type": "markdown",
      "metadata": {
        "id": "vhNdz4QBafZ7"
      },
      "source": [
        "Next, let's split the dataset into a training set and test set."
      ]
    },
    {
      "cell_type": "code",
      "metadata": {
        "id": "I7m12dZuafZ7"
      },
      "source": [
        "# split into training set and testing set\n",
        "from sklearn.model_selection import train_test_split\n",
        "\n",
        "#set random_state to get the same split every time\n",
        "traindf, testdf = train_test_split(dfcars, test_size=0.2, random_state=42)"
      ],
      "execution_count": 89,
      "outputs": []
    },
    {
      "cell_type": "code",
      "metadata": {
        "colab": {
          "base_uri": "https://localhost:8080/"
        },
        "id": "gDjR3GjhafZ7",
        "outputId": "b2d47a0f-8737-4b6e-8018-6920eb276a1c"
      },
      "source": [
        "# testing set is around 20% of the total data; training set is around 80%\n",
        "print(\"Shape of full dataset is: {0}\".format(dfcars.shape))\n",
        "print(\"Shape of training dataset is: {0}\".format(traindf.shape))\n",
        "print(\"Shape of test dataset is: {0}\".format(testdf.shape))"
      ],
      "execution_count": 90,
      "outputs": [
        {
          "output_type": "stream",
          "text": [
            "Shape of full dataset is: (32, 12)\n",
            "Shape of training dataset is: (25, 12)\n",
            "Shape of test dataset is: (7, 12)\n"
          ],
          "name": "stdout"
        }
      ]
    },
    {
      "cell_type": "markdown",
      "metadata": {
        "id": "Xl8GjIn8afZ7"
      },
      "source": [
        "Now we have training and test data.  We still need to select a predictor and a response from this dataset.  Keep in mind that we need to choose the predictor and response from both the training and test set.  You will do this in the exercises below.  However, we provide some starter code for you to get things going."
      ]
    },
    {
      "cell_type": "code",
      "metadata": {
        "colab": {
          "base_uri": "https://localhost:8080/",
          "height": 204
        },
        "id": "ZgOnU3LPafZ7",
        "outputId": "faaa83cd-0828-41d5-ecb0-98a80179f86d"
      },
      "source": [
        "traindf.head()"
      ],
      "execution_count": 91,
      "outputs": [
        {
          "output_type": "execute_result",
          "data": {
            "text/html": [
              "<div>\n",
              "<style scoped>\n",
              "    .dataframe tbody tr th:only-of-type {\n",
              "        vertical-align: middle;\n",
              "    }\n",
              "\n",
              "    .dataframe tbody tr th {\n",
              "        vertical-align: top;\n",
              "    }\n",
              "\n",
              "    .dataframe thead th {\n",
              "        text-align: right;\n",
              "    }\n",
              "</style>\n",
              "<table border=\"1\" class=\"dataframe\">\n",
              "  <thead>\n",
              "    <tr style=\"text-align: right;\">\n",
              "      <th></th>\n",
              "      <th>car name</th>\n",
              "      <th>mpg</th>\n",
              "      <th>cyl</th>\n",
              "      <th>disp</th>\n",
              "      <th>hp</th>\n",
              "      <th>drat</th>\n",
              "      <th>wt</th>\n",
              "      <th>qsec</th>\n",
              "      <th>vs</th>\n",
              "      <th>am</th>\n",
              "      <th>gear</th>\n",
              "      <th>carb</th>\n",
              "    </tr>\n",
              "  </thead>\n",
              "  <tbody>\n",
              "    <tr>\n",
              "      <th>25</th>\n",
              "      <td>Fiat X1-9</td>\n",
              "      <td>27.3</td>\n",
              "      <td>4</td>\n",
              "      <td>79.0</td>\n",
              "      <td>66</td>\n",
              "      <td>4.08</td>\n",
              "      <td>1.935</td>\n",
              "      <td>18.90</td>\n",
              "      <td>1</td>\n",
              "      <td>1</td>\n",
              "      <td>4</td>\n",
              "      <td>1</td>\n",
              "    </tr>\n",
              "    <tr>\n",
              "      <th>12</th>\n",
              "      <td>Merc 450SL</td>\n",
              "      <td>17.3</td>\n",
              "      <td>8</td>\n",
              "      <td>275.8</td>\n",
              "      <td>180</td>\n",
              "      <td>3.07</td>\n",
              "      <td>3.730</td>\n",
              "      <td>17.60</td>\n",
              "      <td>0</td>\n",
              "      <td>0</td>\n",
              "      <td>3</td>\n",
              "      <td>3</td>\n",
              "    </tr>\n",
              "    <tr>\n",
              "      <th>0</th>\n",
              "      <td>Mazda RX4</td>\n",
              "      <td>21.0</td>\n",
              "      <td>6</td>\n",
              "      <td>160.0</td>\n",
              "      <td>110</td>\n",
              "      <td>3.90</td>\n",
              "      <td>2.620</td>\n",
              "      <td>16.46</td>\n",
              "      <td>0</td>\n",
              "      <td>1</td>\n",
              "      <td>4</td>\n",
              "      <td>4</td>\n",
              "    </tr>\n",
              "    <tr>\n",
              "      <th>4</th>\n",
              "      <td>Hornet Sportabout</td>\n",
              "      <td>18.7</td>\n",
              "      <td>8</td>\n",
              "      <td>360.0</td>\n",
              "      <td>175</td>\n",
              "      <td>3.15</td>\n",
              "      <td>3.440</td>\n",
              "      <td>17.02</td>\n",
              "      <td>0</td>\n",
              "      <td>0</td>\n",
              "      <td>3</td>\n",
              "      <td>2</td>\n",
              "    </tr>\n",
              "    <tr>\n",
              "      <th>16</th>\n",
              "      <td>Chrysler Imperial</td>\n",
              "      <td>14.7</td>\n",
              "      <td>8</td>\n",
              "      <td>440.0</td>\n",
              "      <td>230</td>\n",
              "      <td>3.23</td>\n",
              "      <td>5.345</td>\n",
              "      <td>17.42</td>\n",
              "      <td>0</td>\n",
              "      <td>0</td>\n",
              "      <td>3</td>\n",
              "      <td>4</td>\n",
              "    </tr>\n",
              "  </tbody>\n",
              "</table>\n",
              "</div>"
            ],
            "text/plain": [
              "             car name   mpg  cyl   disp   hp  drat     wt   qsec  vs  am  gear  carb\n",
              "25          Fiat X1-9  27.3    4   79.0   66  4.08  1.935  18.90   1   1     4     1\n",
              "12         Merc 450SL  17.3    8  275.8  180  3.07  3.730  17.60   0   0     3     3\n",
              "0           Mazda RX4  21.0    6  160.0  110  3.90  2.620  16.46   0   1     4     4\n",
              "4   Hornet Sportabout  18.7    8  360.0  175  3.15  3.440  17.02   0   0     3     2\n",
              "16  Chrysler Imperial  14.7    8  440.0  230  3.23  5.345  17.42   0   0     3     4"
            ]
          },
          "metadata": {
            "tags": []
          },
          "execution_count": 91
        }
      ]
    },
    {
      "cell_type": "code",
      "metadata": {
        "colab": {
          "base_uri": "https://localhost:8080/"
        },
        "id": "fKbBiYw9afZ7",
        "outputId": "2fc91271-0ee4-4eb4-c891-34092e3ecbda"
      },
      "source": [
        "# Extract the response variable that we're interested in\n",
        "y_train = traindf.mpg\n",
        "y_train"
      ],
      "execution_count": 92,
      "outputs": [
        {
          "output_type": "execute_result",
          "data": {
            "text/plain": [
              "25    27.3\n",
              "12    17.3\n",
              "0     21.0\n",
              "4     18.7\n",
              "16    14.7\n",
              "5     18.1\n",
              "13    15.2\n",
              "11    16.4\n",
              "23    13.3\n",
              "1     21.0\n",
              "2     22.8\n",
              "26    26.0\n",
              "3     21.4\n",
              "21    15.5\n",
              "27    30.4\n",
              "22    15.2\n",
              "18    30.4\n",
              "31    21.4\n",
              "20    21.5\n",
              "7     24.4\n",
              "10    17.8\n",
              "14    10.4\n",
              "28    15.8\n",
              "19    33.9\n",
              "6     14.3\n",
              "Name: mpg, dtype: float64"
            ]
          },
          "metadata": {
            "tags": []
          },
          "execution_count": 92
        }
      ]
    },
    {
      "cell_type": "code",
      "metadata": {
        "colab": {
          "base_uri": "https://localhost:8080/"
        },
        "id": "bCeAZrqLafZ7",
        "outputId": "f00e8042-37b2-4fef-ae5f-cfe86882860c"
      },
      "source": [
        "y_train.shape, type(y_train)"
      ],
      "execution_count": 93,
      "outputs": [
        {
          "output_type": "execute_result",
          "data": {
            "text/plain": [
              "((25,), pandas.core.series.Series)"
            ]
          },
          "metadata": {
            "tags": []
          },
          "execution_count": 93
        }
      ]
    },
    {
      "cell_type": "markdown",
      "metadata": {
        "id": "sOO4SE_LafZ8"
      },
      "source": [
        "### Array reshape\n",
        "This is a 1D array as should be the case with the **Y** array.  Remember, `sklearn` requires a 2D array only for the predictor array.  You will have to pay close attention to this in the exercises later. `Sklearn` doesn't care too much about the shape of `y_train`.\n",
        "\n",
        "The whole reason we went through that whole process was to show you how to reshape your data into the correct format.\n",
        "\n",
        "**IMPORTANT:** Remember that your response variable `ytrain` can be a vector but your predictor variable `xtrain` ***must*** be an array!"
      ]
    },
    {
      "cell_type": "markdown",
      "metadata": {
        "id": "f_1G8Z_aafZ8"
      },
      "source": [
        "<a class=\"anchor\" id=\"fifth-bullet\"></a>\n",
        "## Example: Simple linear regression with automobile data\n",
        "We will now use `sklearn` to predict automobile mileage per gallon (mpg) and evaluate these predictions. We already loaded the data and split them into a training set and a test set."
      ]
    },
    {
      "cell_type": "markdown",
      "metadata": {
        "id": "h2tJWQIpafZ8"
      },
      "source": [
        "We need to choose the variables that we think will be good predictors for the response `mpg`. "
      ]
    },
    {
      "cell_type": "markdown",
      "metadata": {
        "id": "EwbQbb9yafZ8"
      },
      "source": [
        "<div class=\"exercise\"><b>Exercise in pairs</b></div>\n",
        "\n",
        "* Pick one variable to use as a predictor for simple linear regression.\n",
        "* Justify your choice with some visualizations.  \n",
        "* Is there a second variable you'd like to use? For example, we're not doing multiple linear regression here, but if we were, is there another variable you'd like to include if we were using two predictors?"
      ]
    },
    {
      "cell_type": "code",
      "metadata": {
        "colab": {
          "base_uri": "https://localhost:8080/"
        },
        "id": "4SBt-TnLafZ8",
        "outputId": "d7683040-15d8-4697-be6f-01793cabd72c"
      },
      "source": [
        "x_wt = dfcars.wt\n",
        "x_wt.shape"
      ],
      "execution_count": 94,
      "outputs": [
        {
          "output_type": "execute_result",
          "data": {
            "text/plain": [
              "(32,)"
            ]
          },
          "metadata": {
            "tags": []
          },
          "execution_count": 94
        }
      ]
    },
    {
      "cell_type": "code",
      "metadata": {
        "colab": {
          "base_uri": "https://localhost:8080/",
          "height": 782
        },
        "id": "3jfnhovoafZ8",
        "outputId": "541a38aa-7979-458c-db48-f4c94c9b8e5b"
      },
      "source": [
        "y_mpg = dfcars.mpg\n",
        "x_wt = dfcars.wt\n",
        "x_hp = dfcars.hp\n",
        "\n",
        "fig_wt, ax_wt = plt.subplots(1,1, figsize=(10,6))\n",
        "ax_wt.scatter(x_wt, y_mpg)\n",
        "ax_wt.set_xlabel(r'Car Weight')\n",
        "ax_wt.set_ylabel(r'Car MPG')\n",
        "\n",
        "fig_hp, ax_hp = plt.subplots(1,1, figsize=(10,6))\n",
        "ax_hp.scatter(x_hp, y_mpg)\n",
        "ax_hp.set_xlabel(r'Car HP')\n",
        "ax_hp.set_ylabel(r'Car MPG')"
      ],
      "execution_count": 95,
      "outputs": [
        {
          "output_type": "execute_result",
          "data": {
            "text/plain": [
              "Text(0, 0.5, 'Car MPG')"
            ]
          },
          "metadata": {
            "tags": []
          },
          "execution_count": 95
        },
        {
          "output_type": "display_data",
          "data": {
            "image/png": "[encoded data removed]",
            "text/plain": [
              "<Figure size 720x432 with 1 Axes>"
            ]
          },
          "metadata": {
            "tags": [],
            "needs_background": "light"
          }
        },
        {
          "output_type": "display_data",
          "data": {
            "image/png": "[encoded data removed]",
            "text/plain": [
              "<Figure size 720x432 with 1 Axes>"
            ]
          },
          "metadata": {
            "tags": [],
            "needs_background": "light"
          }
        }
      ]
    },
    {
      "cell_type": "code",
      "metadata": {
        "id": "1DiozbpcafZ8",
        "colab": {
          "base_uri": "https://localhost:8080/",
          "height": 782
        },
        "outputId": "60f0abe7-3733-4250-d935-8d2905b7d402"
      },
      "source": [
        "y_mpg = dfcars.mpg\n",
        "x_wt = dfcars.wt\n",
        "x_hp = dfcars.hp\n",
        "\n",
        "fig_wt, ax_wt = plt.subplots(1,1, figsize=(10,6))\n",
        "ax_wt.scatter(x_wt, y_mpg)\n",
        "ax_wt.set_xlabel(r'Car Weight')\n",
        "ax_wt.set_ylabel(r'Car MPG')\n",
        "\n",
        "fig_hp, ax_hp = plt.subplots(1,1, figsize=(10,6))\n",
        "ax_hp.scatter(x_hp, y_mpg)\n",
        "ax_hp.set_xlabel(r'Car HP')\n",
        "ax_hp.set_ylabel(r'Car MPG')\n"
      ],
      "execution_count": 96,
      "outputs": [
        {
          "output_type": "execute_result",
          "data": {
            "text/plain": [
              "Text(0, 0.5, 'Car MPG')"
            ]
          },
          "metadata": {
            "tags": []
          },
          "execution_count": 96
        },
        {
          "output_type": "display_data",
          "data": {
            "image/png": "[encoded data removed]",
            "text/plain": [
              "<Figure size 720x432 with 1 Axes>"
            ]
          },
          "metadata": {
            "tags": [],
            "needs_background": "light"
          }
        },
        {
          "output_type": "display_data",
          "data": {
            "image/png": "[encoded data removed]",
            "text/plain": [
              "<Figure size 720x432 with 1 Axes>"
            ]
          },
          "metadata": {
            "tags": [],
            "needs_background": "light"
          }
        }
      ]
    },
    {
      "cell_type": "markdown",
      "metadata": {
        "id": "YdJXEXZbafZ9"
      },
      "source": [
        "<div class=\"exercise\"><b>Exercise</b></div>\n",
        "\n",
        "* Use `sklearn` to fit the training data using simple linear regression.\n",
        "* Use the model to make mpg predictions on the test set.  \n",
        "* Plot the data and the prediction.  \n",
        "* Print out the mean squared error for the training set and the test set and compare."
      ]
    },
    {
      "cell_type": "code",
      "metadata": {
        "colab": {
          "base_uri": "https://localhost:8080/",
          "height": 204
        },
        "id": "JhPkfR4NafZ9",
        "outputId": "4bf4cf49-23b4-489b-f976-d185cc6b8609"
      },
      "source": [
        "from sklearn.linear_model import LinearRegression\n",
        "from sklearn.model_selection import train_test_split\n",
        "from sklearn.metrics import mean_squared_error\n",
        "import pandas as pd\n",
        "\n",
        "DATASET_PATH = \"/content/drive/MyDrive/Computer Science/UCLA CSSI/HW1/HW1\"\n",
        "\n",
        "def load_cars_data(cars_path):\n",
        "    csv_path = os.path.join(DATASET_PATH, \"mtcars.csv\")\n",
        "    return pd.read_csv(csv_path)\n",
        "\n",
        "dfcars = load_cars_data(DATASET_PATH)\n",
        "dfcars = dfcars.rename(columns={\"Unnamed: 0\":\"name\"})\n",
        "\n",
        "dfcars.head()"
      ],
      "execution_count": 97,
      "outputs": [
        {
          "output_type": "execute_result",
          "data": {
            "text/html": [
              "<div>\n",
              "<style scoped>\n",
              "    .dataframe tbody tr th:only-of-type {\n",
              "        vertical-align: middle;\n",
              "    }\n",
              "\n",
              "    .dataframe tbody tr th {\n",
              "        vertical-align: top;\n",
              "    }\n",
              "\n",
              "    .dataframe thead th {\n",
              "        text-align: right;\n",
              "    }\n",
              "</style>\n",
              "<table border=\"1\" class=\"dataframe\">\n",
              "  <thead>\n",
              "    <tr style=\"text-align: right;\">\n",
              "      <th></th>\n",
              "      <th>name</th>\n",
              "      <th>mpg</th>\n",
              "      <th>cyl</th>\n",
              "      <th>disp</th>\n",
              "      <th>hp</th>\n",
              "      <th>drat</th>\n",
              "      <th>wt</th>\n",
              "      <th>qsec</th>\n",
              "      <th>vs</th>\n",
              "      <th>am</th>\n",
              "      <th>gear</th>\n",
              "      <th>carb</th>\n",
              "    </tr>\n",
              "  </thead>\n",
              "  <tbody>\n",
              "    <tr>\n",
              "      <th>0</th>\n",
              "      <td>Mazda RX4</td>\n",
              "      <td>21.0</td>\n",
              "      <td>6</td>\n",
              "      <td>160.0</td>\n",
              "      <td>110</td>\n",
              "      <td>3.90</td>\n",
              "      <td>2.620</td>\n",
              "      <td>16.46</td>\n",
              "      <td>0</td>\n",
              "      <td>1</td>\n",
              "      <td>4</td>\n",
              "      <td>4</td>\n",
              "    </tr>\n",
              "    <tr>\n",
              "      <th>1</th>\n",
              "      <td>Mazda RX4 Wag</td>\n",
              "      <td>21.0</td>\n",
              "      <td>6</td>\n",
              "      <td>160.0</td>\n",
              "      <td>110</td>\n",
              "      <td>3.90</td>\n",
              "      <td>2.875</td>\n",
              "      <td>17.02</td>\n",
              "      <td>0</td>\n",
              "      <td>1</td>\n",
              "      <td>4</td>\n",
              "      <td>4</td>\n",
              "    </tr>\n",
              "    <tr>\n",
              "      <th>2</th>\n",
              "      <td>Datsun 710</td>\n",
              "      <td>22.8</td>\n",
              "      <td>4</td>\n",
              "      <td>108.0</td>\n",
              "      <td>93</td>\n",
              "      <td>3.85</td>\n",
              "      <td>2.320</td>\n",
              "      <td>18.61</td>\n",
              "      <td>1</td>\n",
              "      <td>1</td>\n",
              "      <td>4</td>\n",
              "      <td>1</td>\n",
              "    </tr>\n",
              "    <tr>\n",
              "      <th>3</th>\n",
              "      <td>Hornet 4 Drive</td>\n",
              "      <td>21.4</td>\n",
              "      <td>6</td>\n",
              "      <td>258.0</td>\n",
              "      <td>110</td>\n",
              "      <td>3.08</td>\n",
              "      <td>3.215</td>\n",
              "      <td>19.44</td>\n",
              "      <td>1</td>\n",
              "      <td>0</td>\n",
              "      <td>3</td>\n",
              "      <td>1</td>\n",
              "    </tr>\n",
              "    <tr>\n",
              "      <th>4</th>\n",
              "      <td>Hornet Sportabout</td>\n",
              "      <td>18.7</td>\n",
              "      <td>8</td>\n",
              "      <td>360.0</td>\n",
              "      <td>175</td>\n",
              "      <td>3.15</td>\n",
              "      <td>3.440</td>\n",
              "      <td>17.02</td>\n",
              "      <td>0</td>\n",
              "      <td>0</td>\n",
              "      <td>3</td>\n",
              "      <td>2</td>\n",
              "    </tr>\n",
              "  </tbody>\n",
              "</table>\n",
              "</div>"
            ],
            "text/plain": [
              "                name   mpg  cyl   disp   hp  drat     wt   qsec  vs  am  gear  carb\n",
              "0          Mazda RX4  21.0    6  160.0  110  3.90  2.620  16.46   0   1     4     4\n",
              "1      Mazda RX4 Wag  21.0    6  160.0  110  3.90  2.875  17.02   0   1     4     4\n",
              "2         Datsun 710  22.8    4  108.0   93  3.85  2.320  18.61   1   1     4     1\n",
              "3     Hornet 4 Drive  21.4    6  258.0  110  3.08  3.215  19.44   1   0     3     1\n",
              "4  Hornet Sportabout  18.7    8  360.0  175  3.15  3.440  17.02   0   0     3     2"
            ]
          },
          "metadata": {
            "tags": []
          },
          "execution_count": 97
        }
      ]
    },
    {
      "cell_type": "code",
      "metadata": {
        "id": "5gvVprXCafZ9"
      },
      "source": [
        "traindf, testdf = train_test_split(dfcars, test_size=0.2, random_state=42)\n",
        "\n",
        "y_train = np.array(traindf.mpg)\n",
        "X_train = np.array(traindf.wt)\n",
        "X_train = X_train.reshape(X_train.shape[0], 1)"
      ],
      "execution_count": 98,
      "outputs": []
    },
    {
      "cell_type": "code",
      "metadata": {
        "id": "-eWlIDLWafZ9"
      },
      "source": [
        "y_test = np.array(testdf.mpg)\n",
        "X_test = np.array(testdf.wt)\n",
        "X_test = X_test.reshape(X_test.shape[0], 1)"
      ],
      "execution_count": 99,
      "outputs": []
    },
    {
      "cell_type": "code",
      "metadata": {
        "colab": {
          "base_uri": "https://localhost:8080/"
        },
        "id": "6Z2dcNkbafZ9",
        "outputId": "147ba88c-44de-421f-9553-c66f08991897"
      },
      "source": [
        "# train and test shape\n",
        "y_train.shape, X_train.shape"
      ],
      "execution_count": 100,
      "outputs": [
        {
          "output_type": "execute_result",
          "data": {
            "text/plain": [
              "((25,), (25, 1))"
            ]
          },
          "metadata": {
            "tags": []
          },
          "execution_count": 100
        }
      ]
    },
    {
      "cell_type": "code",
      "metadata": {
        "colab": {
          "base_uri": "https://localhost:8080/"
        },
        "id": "CDXv-_BdafZ9",
        "outputId": "202f5c17-80a2-481e-da06-b890a0a1ea0b"
      },
      "source": [
        "y_test.shape, X_test.shape"
      ],
      "execution_count": 101,
      "outputs": [
        {
          "output_type": "execute_result",
          "data": {
            "text/plain": [
              "((7,), (7, 1))"
            ]
          },
          "metadata": {
            "tags": []
          },
          "execution_count": 101
        }
      ]
    },
    {
      "cell_type": "code",
      "metadata": {
        "colab": {
          "base_uri": "https://localhost:8080/"
        },
        "id": "dX3ex4FmafZ9",
        "outputId": "ace962fe-9455-487b-ff66-2ccaa90ed700"
      },
      "source": [
        "#create linear model\n",
        "regression = LinearRegression()\n",
        "\n",
        "#fit linear model\n",
        "regression.fit(X_train, y_train)\n",
        "\n",
        "predicted_y = regression.predict(X_test)\n",
        "\n",
        "r2 = regression.score(X_test, y_test)\n",
        "print(f'R^2 = {r2:.5}')"
      ],
      "execution_count": 102,
      "outputs": [
        {
          "output_type": "stream",
          "text": [
            "R^2 = 0.68798\n"
          ],
          "name": "stdout"
        }
      ]
    },
    {
      "cell_type": "code",
      "metadata": {
        "colab": {
          "base_uri": "https://localhost:8080/"
        },
        "id": "DBbqp_gXafZ9",
        "outputId": "11662813-d520-460b-ac6c-2cb106f00ab1"
      },
      "source": [
        "print(regression.score(X_train, y_train))\n",
        "\n",
        "print(mean_squared_error(predicted_y, y_test))\n",
        "print(mean_squared_error(y_train, regression.predict(X_train)))\n",
        "\n",
        "print('Coefficients: \\n', regression.coef_[0], regression.intercept_)"
      ],
      "execution_count": 103,
      "outputs": [
        {
          "output_type": "stream",
          "text": [
            "0.7701379909791617\n",
            "12.475985659918823\n",
            "7.773697766387515\n",
            "Coefficients: \n",
            " -5.336941400557082 36.93731031351842\n"
          ],
          "name": "stdout"
        }
      ]
    },
    {
      "cell_type": "code",
      "metadata": {
        "colab": {
          "base_uri": "https://localhost:8080/",
          "height": 766
        },
        "id": "9aKdAy_wafZ-",
        "outputId": "b6f3d73e-dad4-4235-8f24-c9c6ca934042"
      },
      "source": [
        "fig, ax = plt.subplots(1,1, figsize=(10,6))\n",
        "ax.plot(y_test, predicted_y, 'o')\n",
        "grid = np.linspace(np.min(dfcars.mpg), np.max(dfcars.mpg), 100)\n",
        "ax.plot(grid, grid, color=\"black\") # 45 degree line\n",
        "ax.set_xlabel(\"actual y\")\n",
        "ax.set_ylabel(\"predicted y\")\n",
        "\n",
        "fig1, ax1 = plt.subplots(1,1, figsize=(10,6))\n",
        "ax1.plot(dfcars.wt, dfcars.mpg, 'o')\n",
        "xgrid = np.linspace(np.min(dfcars.wt), np.max(dfcars.wt), 100)\n",
        "ax1.plot(xgrid, regression.predict(xgrid.reshape(100, 1)))"
      ],
      "execution_count": 104,
      "outputs": [
        {
          "output_type": "execute_result",
          "data": {
            "text/plain": [
              "[<matplotlib.lines.Line2D at 0x7f3c0b513d10>]"
            ]
          },
          "metadata": {
            "tags": []
          },
          "execution_count": 104
        },
        {
          "output_type": "display_data",
          "data": {
            "image/png": "[encoded data removed]",
            "text/plain": [
              "<Figure size 720x432 with 1 Axes>"
            ]
          },
          "metadata": {
            "tags": [],
            "needs_background": "light"
          }
        },
        {
          "output_type": "display_data",
          "data": {
            "image/png": "[encoded data removed]",
            "text/plain": [
              "<Figure size 720x432 with 1 Axes>"
            ]
          },
          "metadata": {
            "tags": [],
            "needs_background": "light"
          }
        }
      ]
    },
    {
      "cell_type": "markdown",
      "metadata": {
        "id": "ao8Fk6umafZ-"
      },
      "source": [
        "## Bootstrap"
      ]
    },
    {
      "cell_type": "code",
      "metadata": {
        "id": "fNeSFmjSafZ-"
      },
      "source": [
        "from sklearn import linear_model\n",
        "from sklearn.ensemble import BaggingRegressor"
      ],
      "execution_count": 105,
      "outputs": []
    },
    {
      "cell_type": "code",
      "metadata": {
        "id": "GOLa0cHyafZ-"
      },
      "source": [
        "x = np.linspace(0, 10, 20)\n",
        "y=x + np.random.randn(len(x))"
      ],
      "execution_count": 106,
      "outputs": []
    },
    {
      "cell_type": "code",
      "metadata": {
        "id": "oG1_f05MafZ-"
      },
      "source": [
        "n_estimators = 1000\n",
        "model = BaggingRegressor(linear_model.LinearRegression(), \n",
        "                         n_estimators=n_estimators,\n",
        "                         bootstrap=True,max_samples=20)"
      ],
      "execution_count": 107,
      "outputs": []
    },
    {
      "cell_type": "code",
      "metadata": {
        "colab": {
          "base_uri": "https://localhost:8080/"
        },
        "id": "6b9neE1DafZ-",
        "outputId": "aaabe2ef-3b8b-44a8-c478-aa851fde24c7"
      },
      "source": [
        "model.fit(x.reshape(20,1), y)"
      ],
      "execution_count": 108,
      "outputs": [
        {
          "output_type": "execute_result",
          "data": {
            "text/plain": [
              "BaggingRegressor(base_estimator=LinearRegression(copy_X=True,\n",
              "                                                 fit_intercept=True,\n",
              "                                                 n_jobs=None, normalize=False),\n",
              "                 bootstrap=True, bootstrap_features=False, max_features=1.0,\n",
              "                 max_samples=20, n_estimators=1000, n_jobs=None,\n",
              "                 oob_score=False, random_state=None, verbose=0,\n",
              "                 warm_start=False)"
            ]
          },
          "metadata": {
            "tags": []
          },
          "execution_count": 108
        }
      ]
    },
    {
      "cell_type": "code",
      "metadata": {
        "id": "rivguPsvafZ-"
      },
      "source": [
        "intercept=[]\n",
        "beta1=[]\n",
        "for m in model.estimators_:\n",
        "    intercept.append(m.intercept_)\n",
        "    beta1.append(m.coef_[0])"
      ],
      "execution_count": 109,
      "outputs": []
    },
    {
      "cell_type": "code",
      "metadata": {
        "colab": {
          "base_uri": "https://localhost:8080/"
        },
        "id": "dYvkgMs4afZ_",
        "outputId": "03e37fc6-24e1-4da8-d587-0f6662a8b011"
      },
      "source": [
        "np.std(intercept),np.std(beta1),np.mean(intercept),np.mean(beta1)"
      ],
      "execution_count": 110,
      "outputs": [
        {
          "output_type": "execute_result",
          "data": {
            "text/plain": [
              "(0.41928363881239494,\n",
              " 0.06682292276013407,\n",
              " 0.4851206513462427,\n",
              " 0.9030963477492712)"
            ]
          },
          "metadata": {
            "tags": []
          },
          "execution_count": 110
        }
      ]
    },
    {
      "cell_type": "markdown",
      "metadata": {
        "id": "H6EDU6c0UQL1"
      },
      "source": [
        "Bonus questions: \n",
        "\n",
        "1. For linear regression notebook, add a cell to run polynomial regression with max degree 2 for the toy dataset, i.e., y=β_0+β_1 x+β_2 x^2. Note, you do not need to implement polynomial regression, but just change your dataset.\n",
        "2. For linear regression notebook, implement another gradient descent-based function to estimate β_0 and β_1.\n"
      ]
    },
    {
      "cell_type": "code",
      "metadata": {
        "colab": {
          "base_uri": "https://localhost:8080/"
        },
        "id": "iAB9MvHIUSit",
        "outputId": "1209d25c-cb23-4d26-933f-ec3ddb7df1bf"
      },
      "source": [
        "from sklearn.preprocessing import PolynomialFeatures\n",
        "from sklearn import linear_model\n",
        "\n",
        "traindf, testdf = train_test_split(dfcars, test_size=0.2, random_state=42)\n",
        "\n",
        "y_train = np.array(traindf.mpg)\n",
        "x_train = np.array(traindf.wt)\n",
        "x_train = x_train.reshape(x_train.shape[0], 1)\n",
        "\n",
        "y_test = np.array(testdf.mpg)\n",
        "x_test = np.array(testdf.wt)\n",
        "x_test = x_test.reshape(x_test.shape[0], 1)\n",
        "\n",
        "poly = PolynomialFeatures(degree=2)\n",
        "x_train = poly.fit_transform(x_train)\n",
        "x_test = poly.fit_transform(x_test)\n",
        "\n",
        "regression = LinearRegression()\n",
        "regression.fit(x_train, y_train)"
      ],
      "execution_count": 111,
      "outputs": [
        {
          "output_type": "execute_result",
          "data": {
            "text/plain": [
              "LinearRegression(copy_X=True, fit_intercept=True, n_jobs=None, normalize=False)"
            ]
          },
          "metadata": {
            "tags": []
          },
          "execution_count": 111
        }
      ]
    },
    {
      "cell_type": "code",
      "metadata": {
        "colab": {
          "base_uri": "https://localhost:8080/"
        },
        "id": "wjYPOXtxVkHF",
        "outputId": "49154893-0f11-40b5-bf67-dbf0b25781ea"
      },
      "source": [
        "from sklearn.linear_model import SGDRegressor\n",
        "from sklearn.pipeline import make_pipeline\n",
        "from sklearn.preprocessing import StandardScaler\n",
        "\n",
        "traindf, testdf = train_test_split(dfcars, test_size=0.2, random_state=42)\n",
        "\n",
        "y_train = np.array(traindf.mpg)\n",
        "x_train = np.array(traindf.wt)\n",
        "x_train = x_train.reshape(x_train.shape[0], 1)\n",
        "\n",
        "y_test = np.array(testdf.mpg)\n",
        "x_test = np.array(testdf.wt)\n",
        "x_test = x_test.reshape(x_test.shape[0], 1)\n",
        "\n",
        "sgd = make_pipeline(StandardScaler(), SGDRegressor())\n",
        "sgd.fit(x_train, y_train)"
      ],
      "execution_count": 112,
      "outputs": [
        {
          "output_type": "execute_result",
          "data": {
            "text/plain": [
              "Pipeline(memory=None,\n",
              "         steps=[('standardscaler',\n",
              "                 StandardScaler(copy=True, with_mean=True, with_std=True)),\n",
              "                ('sgdregressor',\n",
              "                 SGDRegressor(alpha=0.0001, average=False, early_stopping=False,\n",
              "                              epsilon=0.1, eta0=0.01, fit_intercept=True,\n",
              "                              l1_ratio=0.15, learning_rate='invscaling',\n",
              "                              loss='squared_loss', max_iter=1000,\n",
              "                              n_iter_no_change=5, penalty='l2', power_t=0.25,\n",
              "                              random_state=None, shuffle=True, tol=0.001,\n",
              "                              validation_fraction=0.1, verbose=0,\n",
              "                              warm_start=False))],\n",
              "         verbose=False)"
            ]
          },
          "metadata": {
            "tags": []
          },
          "execution_count": 112
        }
      ]
    }
  ]
}