{
  "nbformat": 4,
  "nbformat_minor": 0,
  "metadata": {
    "colab": {
      "name": "Day5__Classification_Evaluation.ipynb",
      "provenance": [],
      "collapsed_sections": []
    },
    "kernelspec": {
      "display_name": "Python 3",
      "language": "python",
      "name": "python3"
    },
    "language_info": {
      "codemirror_mode": {
        "name": "ipython",
        "version": 3
      },
      "file_extension": ".py",
      "mimetype": "text/x-python",
      "name": "python",
      "nbconvert_exporter": "python",
      "pygments_lexer": "ipython3",
      "version": "3.8.8"
    }
  },
  "cells": [
    {
      "cell_type": "markdown",
      "metadata": {
        "id": "OHeN3ilmZapM"
      },
      "source": [
        "# Classification Evaluation\n"
      ]
    },
    {
      "cell_type": "markdown",
      "metadata": {
        "id": "pMm2jZ7WN-Js"
      },
      "source": [
        "# Today's topics\n",
        "\n",
        "1.   Regularization with Logistic Regression\n",
        "2.   Model Evaluation w/ Classification\n",
        "\n"
      ]
    },
    {
      "cell_type": "markdown",
      "metadata": {
        "id": "0UdZs3yaEVRM"
      },
      "source": [
        "# Review: Regularization in Linear Regression\n",
        "\n",
        "Remember: the goal of regularization is to minimize the loss function (minimize the error of our predicted values vs. the actual values) Linear regression uses lasso and ridge regularization. So what about logistic regression?"
      ]
    },
    {
      "cell_type": "markdown",
      "metadata": {
        "id": "I4HR6-ABEpek"
      },
      "source": [
        "# Regularization with Logistic Regression\n",
        "\n",
        "We can do a similar process to linear regression regularization by adding a penalty to our loss function that penalizes extreme values. The result is the same—shrink parameters that contain these extremeties towards zero.\n",
        "\n",
        "Let's see this in action!"
      ]
    },
    {
      "cell_type": "code",
      "metadata": {
        "id": "tf_XybS0LiUb"
      },
      "source": [
        "import pandas as pd\n",
        "import numpy as np\n",
        "import matplotlib.pyplot as plt\n",
        "%matplotlib inline\n",
        "\n",
        "url = 'https://drive.google.com/uc?id=1oakZCv7g3mlmCSdv9J8kdSaqO5_6dIOw'\n",
        "dataset = pd.read_csv(url)\n"
      ],
      "execution_count": null,
      "outputs": []
    },
    {
      "cell_type": "code",
      "metadata": {
        "id": "JvQRuy81Mp1p"
      },
      "source": [
        "from sklearn.model_selection import train_test_split\n",
        "\n",
        "X = dataset.iloc[:, :-1].values\n",
        "y = dataset.iloc[:, 1].values\n",
        "\n",
        "X_train, X_test, y_train, y_test = train_test_split(X, y, test_size=0.2, random_state=10)"
      ],
      "execution_count": null,
      "outputs": []
    },
    {
      "cell_type": "code",
      "metadata": {
        "id": "BS6J8RCSPSWV",
        "colab": {
          "base_uri": "https://localhost:8080/",
          "height": 359
        },
        "outputId": "cdb711fc-d090-4644-af48-a06ee33d760a"
      },
      "source": [
        "dataset.head(10)"
      ],
      "execution_count": null,
      "outputs": [
        {
          "output_type": "execute_result",
          "data": {
            "text/html": [
              "<div>\n",
              "<style scoped>\n",
              "    .dataframe tbody tr th:only-of-type {\n",
              "        vertical-align: middle;\n",
              "    }\n",
              "\n",
              "    .dataframe tbody tr th {\n",
              "        vertical-align: top;\n",
              "    }\n",
              "\n",
              "    .dataframe thead th {\n",
              "        text-align: right;\n",
              "    }\n",
              "</style>\n",
              "<table border=\"1\" class=\"dataframe\">\n",
              "  <thead>\n",
              "    <tr style=\"text-align: right;\">\n",
              "      <th></th>\n",
              "      <th>Hours</th>\n",
              "      <th>Scores</th>\n",
              "    </tr>\n",
              "  </thead>\n",
              "  <tbody>\n",
              "    <tr>\n",
              "      <th>0</th>\n",
              "      <td>2.5</td>\n",
              "      <td>21</td>\n",
              "    </tr>\n",
              "    <tr>\n",
              "      <th>1</th>\n",
              "      <td>5.1</td>\n",
              "      <td>47</td>\n",
              "    </tr>\n",
              "    <tr>\n",
              "      <th>2</th>\n",
              "      <td>3.2</td>\n",
              "      <td>27</td>\n",
              "    </tr>\n",
              "    <tr>\n",
              "      <th>3</th>\n",
              "      <td>8.5</td>\n",
              "      <td>75</td>\n",
              "    </tr>\n",
              "    <tr>\n",
              "      <th>4</th>\n",
              "      <td>3.5</td>\n",
              "      <td>30</td>\n",
              "    </tr>\n",
              "    <tr>\n",
              "      <th>5</th>\n",
              "      <td>1.5</td>\n",
              "      <td>20</td>\n",
              "    </tr>\n",
              "    <tr>\n",
              "      <th>6</th>\n",
              "      <td>9.2</td>\n",
              "      <td>88</td>\n",
              "    </tr>\n",
              "    <tr>\n",
              "      <th>7</th>\n",
              "      <td>5.5</td>\n",
              "      <td>60</td>\n",
              "    </tr>\n",
              "    <tr>\n",
              "      <th>8</th>\n",
              "      <td>8.3</td>\n",
              "      <td>81</td>\n",
              "    </tr>\n",
              "    <tr>\n",
              "      <th>9</th>\n",
              "      <td>2.7</td>\n",
              "      <td>25</td>\n",
              "    </tr>\n",
              "  </tbody>\n",
              "</table>\n",
              "</div>"
            ],
            "text/plain": [
              "   Hours  Scores\n",
              "0    2.5      21\n",
              "1    5.1      47\n",
              "2    3.2      27\n",
              "3    8.5      75\n",
              "4    3.5      30\n",
              "5    1.5      20\n",
              "6    9.2      88\n",
              "7    5.5      60\n",
              "8    8.3      81\n",
              "9    2.7      25"
            ]
          },
          "metadata": {
            "tags": []
          },
          "execution_count": 19
        }
      ]
    },
    {
      "cell_type": "markdown",
      "metadata": {
        "id": "XF8jAXjmQBiI"
      },
      "source": [
        "So we've loaded in and looked at our dataset, so let's do some logistic regression!"
      ]
    },
    {
      "cell_type": "code",
      "metadata": {
        "colab": {
          "base_uri": "https://localhost:8080/",
          "height": 279
        },
        "id": "2CrbDZX7M3qx",
        "outputId": "3ade4c5b-448d-4267-9425-0d2d79329878"
      },
      "source": [
        "from sklearn.linear_model import LogisticRegression as lr\n",
        "\n",
        "lr_l1 = [] #l1 regularization\n",
        "lr_l2 = [] #l2 regularization\n",
        "c_list = [i for i in range(1,101)]\n",
        "\n",
        "for i in range(1,101):\n",
        "  c = i/100 # c is just 1 / lambda\n",
        "\n",
        "  logreg_l1 = lr(C=c, penalty='l1',solver='liblinear',max_iter=1000)\n",
        "  logreg_l1.fit(X_train, y_train)\n",
        "  lr_l1.append(logreg_l1.coef_[0])\n",
        "\n",
        "  logreg_l2 = lr(C=c, penalty='l2',max_iter=1000)\n",
        "  logreg_l2.fit(X_train, y_train)\n",
        "  lr_l2.append(logreg_l2.coef_[0])\n",
        "\n",
        "plt.plot(c_list, lr_l1, color='red', lw=2)\n",
        "plt.plot(c_list, lr_l2, color='blue', lw=2)\n",
        "plt.xlabel('Values for 1/lambda (c)')\n",
        "plt.ylabel('Coefficients')\n",
        "plt.show()\n"
      ],
      "execution_count": null,
      "outputs": [
        {
          "output_type": "display_data",
          "data": {
            "image/png": "[encoded data removed]",
            "text/plain": [
              "<Figure size 432x288 with 1 Axes>"
            ]
          },
          "metadata": {
            "tags": [],
            "needs_background": "light"
          }
        }
      ]
    },
    {
      "cell_type": "markdown",
      "metadata": {
        "id": "MHMMSCilPyrE"
      },
      "source": [
        "**So what happens as we increase our value for c (decrease lambda)?**\n",
        "\n",
        "As the value for c is increased, the coefficients decrease. The increase of c also indicates weaker regularization, and inversely, smaller c values indicate more constraint on the model."
      ]
    },
    {
      "cell_type": "markdown",
      "metadata": {
        "id": "-8p3577jQd15"
      },
      "source": [
        "#Classification\n",
        "\n",
        "## What is it?\n",
        "Classification is the process of grouping data points into certain pre-defined clusters (determined by the class label attribute).\n",
        "\n",
        "## Steps for classification\n",
        "1. Model Construction - Class label attributes (what are our different categories?)\n",
        "2. Model Selection - How is the accuracy of our model in predicting which class a datapoint is in?\n",
        "3. Model Usage - If our model is acceptable, predict the classification of new data points!"
      ]
    },
    {
      "cell_type": "markdown",
      "metadata": {
        "id": "HUrsOC2cUKih"
      },
      "source": [
        "## Classification Model Evaluation\n",
        "\n",
        "We can evaluate our classification models in several ways. A common method is by using a validation set to test accuracy rather than the training set. There is also: holdout method, random subsampling, cross-validation.\n",
        "\n",
        "### Holdout method\n",
        "Randomly partition the dataset into 2 independent sets for training and validating our model\n",
        "\n",
        "### Random Subsampling\n",
        "Randomly splitting our dataset into k subsets for training and validation. This is basically like doing the holdout method a k number of times. The accuracy becomes the average of the accuracies obtained from the different subsets.\n",
        "\n",
        "### Cross validation (kfold)\n",
        "Randomly partition the data into k mutually exclusive subsets all around the same size. Each iteration, choose one set as the test and the rest as training sets. "
      ]
    },
    {
      "cell_type": "markdown",
      "metadata": {
        "id": "sm_ubJo2VZ0e"
      },
      "source": [
        "Let's try out some classification with code!"
      ]
    },
    {
      "cell_type": "code",
      "metadata": {
        "colab": {
          "base_uri": "https://localhost:8080/",
          "height": 359
        },
        "id": "ojnpnkdoVcNX",
        "outputId": "28be2ade-af7a-4d5b-90c9-2f2940593a93"
      },
      "source": [
        "dataset = pd.read_csv(\"https://drive.google.com/uc?id=1fcd53Ksu7Kn-qF2UOogcd27RRn6iCzFP\")\n",
        "dataset.head(10)"
      ],
      "execution_count": null,
      "outputs": [
        {
          "output_type": "execute_result",
          "data": {
            "text/html": [
              "<div>\n",
              "<style scoped>\n",
              "    .dataframe tbody tr th:only-of-type {\n",
              "        vertical-align: middle;\n",
              "    }\n",
              "\n",
              "    .dataframe tbody tr th {\n",
              "        vertical-align: top;\n",
              "    }\n",
              "\n",
              "    .dataframe thead th {\n",
              "        text-align: right;\n",
              "    }\n",
              "</style>\n",
              "<table border=\"1\" class=\"dataframe\">\n",
              "  <thead>\n",
              "    <tr style=\"text-align: right;\">\n",
              "      <th></th>\n",
              "      <th>Midterm Grade</th>\n",
              "      <th>Student Type</th>\n",
              "    </tr>\n",
              "  </thead>\n",
              "  <tbody>\n",
              "    <tr>\n",
              "      <th>0</th>\n",
              "      <td>95</td>\n",
              "      <td>A</td>\n",
              "    </tr>\n",
              "    <tr>\n",
              "      <th>1</th>\n",
              "      <td>78</td>\n",
              "      <td>B</td>\n",
              "    </tr>\n",
              "    <tr>\n",
              "      <th>2</th>\n",
              "      <td>75</td>\n",
              "      <td>C</td>\n",
              "    </tr>\n",
              "    <tr>\n",
              "      <th>3</th>\n",
              "      <td>70</td>\n",
              "      <td>D</td>\n",
              "    </tr>\n",
              "    <tr>\n",
              "      <th>4</th>\n",
              "      <td>88</td>\n",
              "      <td>A</td>\n",
              "    </tr>\n",
              "    <tr>\n",
              "      <th>5</th>\n",
              "      <td>40</td>\n",
              "      <td>D</td>\n",
              "    </tr>\n",
              "    <tr>\n",
              "      <th>6</th>\n",
              "      <td>100</td>\n",
              "      <td>A</td>\n",
              "    </tr>\n",
              "    <tr>\n",
              "      <th>7</th>\n",
              "      <td>80</td>\n",
              "      <td>C</td>\n",
              "    </tr>\n",
              "    <tr>\n",
              "      <th>8</th>\n",
              "      <td>80</td>\n",
              "      <td>B</td>\n",
              "    </tr>\n",
              "    <tr>\n",
              "      <th>9</th>\n",
              "      <td>20</td>\n",
              "      <td>D</td>\n",
              "    </tr>\n",
              "  </tbody>\n",
              "</table>\n",
              "</div>"
            ],
            "text/plain": [
              "   Midterm Grade Student Type\n",
              "0             95            A\n",
              "1             78            B\n",
              "2             75            C\n",
              "3             70            D\n",
              "4             88            A\n",
              "5             40            D\n",
              "6            100            A\n",
              "7             80            C\n",
              "8             80            B\n",
              "9             20            D"
            ]
          },
          "metadata": {
            "tags": []
          },
          "execution_count": 21
        }
      ]
    },
    {
      "cell_type": "markdown",
      "metadata": {
        "id": "q1-W54msaptn"
      },
      "source": [
        "We can group our data based on the class labels!"
      ]
    },
    {
      "cell_type": "code",
      "metadata": {
        "colab": {
          "base_uri": "https://localhost:8080/"
        },
        "id": "vgN6iS-7atRF",
        "outputId": "68ef9fa8-7908-41cf-84f8-0d5d26dd61fd"
      },
      "source": [
        "print(dataset.groupby('Student Type').size())"
      ],
      "execution_count": null,
      "outputs": [
        {
          "output_type": "stream",
          "text": [
            "Student Type\n",
            "A    6\n",
            "B    6\n",
            "C    4\n",
            "D    5\n",
            "F    4\n",
            "dtype: int64\n"
          ],
          "name": "stdout"
        }
      ]
    },
    {
      "cell_type": "code",
      "metadata": {
        "id": "MSGlJdVKa9km"
      },
      "source": [
        "X = dataset.iloc[:, :-1].values\n",
        "y = dataset.iloc[:, 1].values\n",
        "X_train, X_test, y_train, y_test = train_test_split(X, y, test_size=0.25, random_state=10)"
      ],
      "execution_count": null,
      "outputs": []
    },
    {
      "cell_type": "code",
      "metadata": {
        "colab": {
          "base_uri": "https://localhost:8080/"
        },
        "id": "KbtXi0D6bBRw",
        "outputId": "5f3cf0aa-e1b0-488a-a949-2a92f9e96ed7"
      },
      "source": [
        "from sklearn.neighbors import KNeighborsClassifier # we will learn about this later but it's a model we can use for classification\n",
        "\n",
        "knn = KNeighborsClassifier()\n",
        "knn.fit(X_train, y_train)\n",
        "\n",
        "print(knn.score(X_train, y_train))\n",
        "print(knn.score(X_test, y_test))"
      ],
      "execution_count": null,
      "outputs": [
        {
          "output_type": "stream",
          "text": [
            "0.6666666666666666\n",
            "0.42857142857142855\n"
          ],
          "name": "stdout"
        }
      ]
    },
    {
      "cell_type": "markdown",
      "metadata": {
        "id": "IjEfIDtycpnf"
      },
      "source": [
        "Let's compare the results of our classification prediction!"
      ]
    },
    {
      "cell_type": "code",
      "metadata": {
        "colab": {
          "base_uri": "https://localhost:8080/"
        },
        "id": "81SlgaBCbqdv",
        "outputId": "41db7314-cbf3-4185-f438-0e4fa6563f19"
      },
      "source": [
        "predictions = knn.predict(X_test)\n",
        "\n",
        "print(predictions)\n",
        "print(y_test)"
      ],
      "execution_count": null,
      "outputs": [
        {
          "output_type": "stream",
          "text": [
            "['F' 'B' 'C' 'C' 'A' 'F' 'C']\n",
            "['D' 'B' 'D' 'C' 'B' 'F' 'B']\n"
          ],
          "name": "stdout"
        }
      ]
    },
    {
      "cell_type": "markdown",
      "metadata": {
        "id": "R-r0cNKkVdFc"
      },
      "source": [
        "# Issues with Classification\n",
        "\n",
        "Classification will not always be correct, so we can partition the results into 4 categories.\n",
        "\n",
        "1. True positives (classified as True correctly)\n",
        "2. True negatives (classified as False correctly)\n",
        "3. False positives (classified as True when it is really False)\n",
        "4. False negatives (classified as False when it is really True)\n",
        "\n",
        "**Let's take a look at an example!**\n",
        "\n",
        "A patient has covid but gets a result saying they are negative for Covid.\n",
        "\n",
        "An innocent civilian is not identified as a criminal by an AI face monitoring program.\n",
        "\n",
        "An image analysis technology identifies a red blood cell as a red blood cell. \n",
        "\n",
        "A pregnancy test comes back as positive when the patient is not pregnant. \n"
      ]
    },
    {
      "cell_type": "markdown",
      "metadata": {
        "id": "-i5P4FCZW5dg"
      },
      "source": [
        "We can represent this in a confusion matrix/with an ROC curve\n",
        "\n",
        "Confusion Matrix Format:\n",
        "\n",
        "> TP    FN\n",
        "\n",
        "> FP    TN\n",
        "\n"
      ]
    },
    {
      "cell_type": "code",
      "metadata": {
        "colab": {
          "base_uri": "https://localhost:8080/"
        },
        "id": "FSDibDYTW3nS",
        "outputId": "735f1724-f032-4a63-865c-cca3c351c704"
      },
      "source": [
        "from sklearn.metrics import confusion_matrix\n",
        "\n",
        "print(confusion_matrix(y_test, predictions))"
      ],
      "execution_count": null,
      "outputs": [
        {
          "output_type": "stream",
          "text": [
            "[[0 0 0 0 0]\n",
            " [1 1 1 0 0]\n",
            " [0 0 1 0 0]\n",
            " [0 0 1 0 1]\n",
            " [0 0 0 0 1]]\n"
          ],
          "name": "stdout"
        }
      ]
    },
    {
      "cell_type": "markdown",
      "metadata": {
        "id": "lPV-t2GRfWlk"
      },
      "source": [
        "**Why is our confusion matrix 5x5?**\n",
        "\n",
        "Our confusion matrix is 5x5 because there are five different student types. Since there are values of A, B, C, D, and F, a 5x5 confusion matrix is needed to represent these values."
      ]
    },
    {
      "cell_type": "markdown",
      "metadata": {
        "id": "mU1SzHYeXUNd"
      },
      "source": [
        "Accuracy = (TP + TN) / all\n",
        "\n",
        "Error rate = (FP + FN) / all\n",
        "\n",
        "Sensitivity = TP / (TP + FP)\n",
        "\n",
        "Specificity = TN / (TN + FN)"
      ]
    },
    {
      "cell_type": "code",
      "metadata": {
        "colab": {
          "base_uri": "https://localhost:8080/"
        },
        "id": "wuPJWyiffdSR",
        "outputId": "35c7dd15-8226-4ef1-ea4f-19d23ada1288"
      },
      "source": [
        "from sklearn.metrics import classification_report\n",
        "\n",
        "print(classification_report(y_test, predictions, target_names=['A','B','C','D','F']))"
      ],
      "execution_count": null,
      "outputs": [
        {
          "output_type": "stream",
          "text": [
            "              precision    recall  f1-score   support\n",
            "\n",
            "           A       0.00      0.00      0.00         0\n",
            "           B       1.00      0.33      0.50         3\n",
            "           C       0.33      1.00      0.50         1\n",
            "           D       0.00      0.00      0.00         2\n",
            "           F       0.50      1.00      0.67         1\n",
            "\n",
            "    accuracy                           0.43         7\n",
            "   macro avg       0.37      0.47      0.33         7\n",
            "weighted avg       0.55      0.43      0.38         7\n",
            "\n"
          ],
          "name": "stdout"
        },
        {
          "output_type": "stream",
          "text": [
            "/usr/local/lib/python3.7/dist-packages/sklearn/metrics/_classification.py:1272: UndefinedMetricWarning: Precision and F-score are ill-defined and being set to 0.0 in labels with no predicted samples. Use `zero_division` parameter to control this behavior.\n",
            "  _warn_prf(average, modifier, msg_start, len(result))\n",
            "/usr/local/lib/python3.7/dist-packages/sklearn/metrics/_classification.py:1272: UndefinedMetricWarning: Recall and F-score are ill-defined and being set to 0.0 in labels with no true samples. Use `zero_division` parameter to control this behavior.\n",
            "  _warn_prf(average, modifier, msg_start, len(result))\n"
          ],
          "name": "stderr"
        }
      ]
    }
  ]
}