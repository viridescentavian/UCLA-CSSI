{
  "nbformat": 4,
  "nbformat_minor": 0,
  "metadata": {
    "colab": {
      "name": "Day4_Logistic_Regression.ipynb",
      "provenance": [],
      "collapsed_sections": []
    },
    "kernelspec": {
      "display_name": "Python 3",
      "language": "python",
      "name": "python3"
    },
    "language_info": {
      "codemirror_mode": {
        "name": "ipython",
        "version": 3
      },
      "file_extension": ".py",
      "mimetype": "text/x-python",
      "name": "python",
      "nbconvert_exporter": "python",
      "pygments_lexer": "ipython3",
      "version": "3.8.8"
    }
  },
  "cells": [
    {
      "cell_type": "markdown",
      "metadata": {
        "id": "sEj2KgZEngiL"
      },
      "source": [
        "# Day 4 — Logistic Regression\n",
        "\n",
        "This notebook will guide you through implementing two logistic regression models:\n",
        "\n",
        "1. Classifying the species of iris flowers (binary classification)\n",
        "2. Classifying handwritten digits (multi-class classification)"
      ]
    },
    {
      "cell_type": "markdown",
      "metadata": {
        "id": "xyjyly5outAC"
      },
      "source": [
        "## Task 1. Iris flower species\n",
        "\n",
        "Given information about a flower's petals, can you determine what species it belongs to? In this first task, we will attempt to classify between two species of iris flowers.\n",
        "\n",
        "1. [**Iris versicolor**](https://en.wikipedia.org/wiki/Iris_versicolor) is a species of irises native to Britain and Ireland.\n",
        "\n",
        "  ![Iris-Versicolor](https://upload.wikimedia.org/wikipedia/commons/thumb/2/27/Blue_Flag%2C_Ottawa.jpg/440px-Blue_Flag%2C_Ottawa.jpg)\n",
        "\n",
        "2. [**Iris-Virginica**](https://en.wikipedia.org/wiki/Iris_virginica) is a species of irises native to North America.\n",
        "\n",
        "  ![Iris virginica](https://upload.wikimedia.org/wikipedia/commons/thumb/f/f8/Iris_virginica_2.jpg/440px-Iris_virginica_2.jpg)\n",
        "\n",
        "First, let's import the libraries we will be needing."
      ]
    },
    {
      "cell_type": "code",
      "metadata": {
        "id": "tkquU3p53YrW"
      },
      "source": [
        "from google.colab import drive\n",
        "import matplotlib.pyplot as plt\n",
        "import numpy as np\n",
        "import pandas as pd\n",
        "from sklearn.linear_model import LogisticRegression\n",
        "from sklearn.model_selection import train_test_split"
      ],
      "execution_count": null,
      "outputs": []
    },
    {
      "cell_type": "markdown",
      "metadata": {
        "id": "U6tza26kzPWT"
      },
      "source": [
        "### Step 1.1. Data Exploration\n",
        "\n",
        "The dataset we will be using is a subset of the [Iris flower data set](https://en.wikipedia.org/wiki/Iris_flower_data_set), which was created by statistician Ronald Fisher in 1936."
      ]
    },
    {
      "cell_type": "code",
      "metadata": {
        "colab": {
          "base_uri": "https://localhost:8080/",
          "height": 419
        },
        "id": "p_b81bOa0maW",
        "outputId": "005616ad-535f-494a-d0cd-9d3c5afbcaf5"
      },
      "source": [
        "data = pd.read_csv('https://drive.google.com/uc?id=1Mf0r4u3ff0FlA6n2TKuSOtBs0bvvPThT')\n",
        "data"
      ],
      "execution_count": null,
      "outputs": [
        {
          "output_type": "execute_result",
          "data": {
            "text/html": [
              "<div>\n",
              "<style scoped>\n",
              "    .dataframe tbody tr th:only-of-type {\n",
              "        vertical-align: middle;\n",
              "    }\n",
              "\n",
              "    .dataframe tbody tr th {\n",
              "        vertical-align: top;\n",
              "    }\n",
              "\n",
              "    .dataframe thead th {\n",
              "        text-align: right;\n",
              "    }\n",
              "</style>\n",
              "<table border=\"1\" class=\"dataframe\">\n",
              "  <thead>\n",
              "    <tr style=\"text-align: right;\">\n",
              "      <th></th>\n",
              "      <th>petal_length</th>\n",
              "      <th>petal_width</th>\n",
              "      <th>species</th>\n",
              "    </tr>\n",
              "  </thead>\n",
              "  <tbody>\n",
              "    <tr>\n",
              "      <th>0</th>\n",
              "      <td>4.7</td>\n",
              "      <td>1.4</td>\n",
              "      <td>0</td>\n",
              "    </tr>\n",
              "    <tr>\n",
              "      <th>1</th>\n",
              "      <td>4.5</td>\n",
              "      <td>1.5</td>\n",
              "      <td>0</td>\n",
              "    </tr>\n",
              "    <tr>\n",
              "      <th>2</th>\n",
              "      <td>4.9</td>\n",
              "      <td>1.5</td>\n",
              "      <td>0</td>\n",
              "    </tr>\n",
              "    <tr>\n",
              "      <th>3</th>\n",
              "      <td>4.0</td>\n",
              "      <td>1.3</td>\n",
              "      <td>0</td>\n",
              "    </tr>\n",
              "    <tr>\n",
              "      <th>4</th>\n",
              "      <td>4.6</td>\n",
              "      <td>1.5</td>\n",
              "      <td>0</td>\n",
              "    </tr>\n",
              "    <tr>\n",
              "      <th>...</th>\n",
              "      <td>...</td>\n",
              "      <td>...</td>\n",
              "      <td>...</td>\n",
              "    </tr>\n",
              "    <tr>\n",
              "      <th>95</th>\n",
              "      <td>5.2</td>\n",
              "      <td>2.3</td>\n",
              "      <td>1</td>\n",
              "    </tr>\n",
              "    <tr>\n",
              "      <th>96</th>\n",
              "      <td>5.0</td>\n",
              "      <td>1.9</td>\n",
              "      <td>1</td>\n",
              "    </tr>\n",
              "    <tr>\n",
              "      <th>97</th>\n",
              "      <td>5.2</td>\n",
              "      <td>2.0</td>\n",
              "      <td>1</td>\n",
              "    </tr>\n",
              "    <tr>\n",
              "      <th>98</th>\n",
              "      <td>5.4</td>\n",
              "      <td>2.3</td>\n",
              "      <td>1</td>\n",
              "    </tr>\n",
              "    <tr>\n",
              "      <th>99</th>\n",
              "      <td>5.1</td>\n",
              "      <td>1.8</td>\n",
              "      <td>1</td>\n",
              "    </tr>\n",
              "  </tbody>\n",
              "</table>\n",
              "<p>100 rows × 3 columns</p>\n",
              "</div>"
            ],
            "text/plain": [
              "    petal_length  petal_width  species\n",
              "0            4.7          1.4        0\n",
              "1            4.5          1.5        0\n",
              "2            4.9          1.5        0\n",
              "3            4.0          1.3        0\n",
              "4            4.6          1.5        0\n",
              "..           ...          ...      ...\n",
              "95           5.2          2.3        1\n",
              "96           5.0          1.9        1\n",
              "97           5.2          2.0        1\n",
              "98           5.4          2.3        1\n",
              "99           5.1          1.8        1\n",
              "\n",
              "[100 rows x 3 columns]"
            ]
          },
          "metadata": {
            "tags": []
          },
          "execution_count": 2
        }
      ]
    },
    {
      "cell_type": "markdown",
      "metadata": {
        "id": "Aw-zUxgb4GRq"
      },
      "source": [
        "Take some time to look through the dataset.\n",
        "\n",
        "**Questions:**\n",
        "\n",
        "1. How many flowers are in the dataset?\n",
        "2. What is the mean length/width of the flowers? What about the median length/width?\n",
        "3. *Bonus:* What is the mean length of each species? Do you notice any differences?\n",
        "\n",
        "**Answers**\n",
        "1. There are 100 flowers in the dataset.\n",
        "2. The mean length and width are 4.906 cm and 1.676 cm, respectively. The median length and width are 4.900 cm and 1.600 cm, respectively.\n",
        "3. The mean length of versicolor petals is 4.260 cm, whereas the mean length of the virgicana petals is 5.552 cm. This demonstrates that versicolor petals tend to be shorter than virgicana petals.\n",
        "\n",
        "Note that a species of 0 corresponds to iris versicolor, and a species of 1 corresponds to iris virgicana. Also, all lengths are in centimeters."
      ]
    },
    {
      "cell_type": "code",
      "metadata": {
        "colab": {
          "base_uri": "https://localhost:8080/"
        },
        "id": "Vjt-4Jav5VLT",
        "outputId": "16e92083-c9b4-4402-f0e1-13806339b68f"
      },
      "source": [
        "\"\"\"\n",
        "Write some code to answer the above questions!\n",
        "\"\"\"\n",
        "\n",
        "# START CODE HERE\n",
        "\n",
        "# Note: `data.describe()` also works!\n",
        "\n",
        "print(f'# of flowers: {len(data)}')\n",
        "print(f'mean length: {data.petal_length.mean():.3f}')\n",
        "print(f'median length: {data.petal_length.median():.3f}')\n",
        "print(f'mean width: {data.petal_width.mean():.3f}')\n",
        "print(f'median width: {data.petal_width.median():.3f}')\n",
        "\n",
        "data_versicolor = data[data.species == 0]\n",
        "data_virgicana = data[data.species == 1]\n",
        "\n",
        "print(f'versicolor mean length: {data_versicolor.petal_length.mean():.3f}')\n",
        "print(f'virgicana mean length: {data_virgicana.petal_length.mean():.3f}')\n",
        "\n",
        "# Answer to 3: The mean length of iris versicolor petals is 4.26 cm, and the\n",
        "# mean length of iris virgicana petals is 5.552 cm. It seems that iris\n",
        "# versicolor tends to have shorter petals than iris virgicana petals.\n",
        "\n",
        "# END CODE HERE"
      ],
      "execution_count": null,
      "outputs": [
        {
          "output_type": "stream",
          "text": [
            "# of flowers: 100\n",
            "mean length: 4.906\n",
            "median length: 4.900\n",
            "mean width: 1.676\n",
            "median width: 1.600\n",
            "versicolor mean length: 4.260\n",
            "virgicana mean length: 5.552\n"
          ],
          "name": "stdout"
        }
      ]
    },
    {
      "cell_type": "markdown",
      "metadata": {
        "id": "8l_E3lWx97N5"
      },
      "source": [
        "Finally, let's try to visualize our data. To do this, we can use matplotlib's `plt.scatter()` to create a scatterplot. This function accepts three main arguments:\n",
        "\n",
        "```\n",
        "plt.scatter(x, y, c=colors)\n",
        "```\n",
        "\n",
        "1. `x` is a list/array/series containing the x-coordinate of the points you want to plot.\n",
        "2. `y` is a list/array/series containing the y-coordinate of the points you want to plot.\n",
        "3. `colors` is a list/array/series that determines the color of each point.\n",
        "\n",
        "**Question:** What might be a good way of visually dividing the data? How do you\n",
        "think a logistic regression model might divide the data?\n",
        "\n",
        "**Answers**: A good way to visually divide the data would be to use a linear trend line that separates data points of the two flowers. A logistic regression model would actually be a better representation of dividing the data, since it will account for the jump gap between the data points, unlike the linear model."
      ]
    },
    {
      "cell_type": "code",
      "metadata": {
        "colab": {
          "base_uri": "https://localhost:8080/",
          "height": 295
        },
        "id": "FS0yyDnZ_vG-",
        "outputId": "07779950-1d00-4980-fe58-112a8abd1a51"
      },
      "source": [
        "\"\"\"\n",
        "Create a scatterplot of petal length vs. petal width, with the points being\n",
        "colored based on the iris species.\n",
        "\"\"\"\n",
        "\n",
        "# START CODE HERE\n",
        "\n",
        "plt.scatter(\n",
        "    data.petal_length, data.petal_width, c=data.species, edgecolors='black'\n",
        ")\n",
        "plt.xlabel('Petal length (cm)')\n",
        "plt.ylabel('Petal width (cm)')\n",
        "plt.title('Iris species by petal size')\n",
        "plt.show()\n",
        "\n",
        "# END CODE HERE"
      ],
      "execution_count": null,
      "outputs": [
        {
          "output_type": "display_data",
          "data": {
            "image/png": "[encoded data removed]",
            "text/plain": [
              "<Figure size 432x288 with 1 Axes>"
            ]
          },
          "metadata": {
            "tags": [],
            "needs_background": "light"
          }
        }
      ]
    },
    {
      "cell_type": "markdown",
      "metadata": {
        "id": "jTSU5oR_7en0"
      },
      "source": [
        "### Step 1.2. Developing a Binary Classification Model\n",
        "\n",
        "Now that we have taken a look at the data, we can move on to developing a classification model. Recall our goal from earlier: predict the species of an iris using information about the size of its petals. First, we need to split our dataset into inputs and outputs.\n",
        "\n",
        "**Questions:**\n",
        "\n",
        "1. Which columns of our dataset correspond to the *inputs* (predictors) to our model?\n",
        "2. Which columns of our dataset correspond to the *outputs* (response) of our model?\n",
        "\n",
        "**Answers:**\n",
        "\n",
        "1. `petal_length` and `petal_width` would be the columns that correspond to the predictors of our model.\n",
        "2. `species` would be the column that corresponds to the reponse of our model."
      ]
    },
    {
      "cell_type": "code",
      "metadata": {
        "id": "abH1kqlhiupL"
      },
      "source": [
        "\"\"\"\n",
        "Create a variable called `X` that stores the input attributes, and a variable\n",
        "called `y` that stores the output attributes.\n",
        "\n",
        "X.shape should be (100, 2)\n",
        "y.shape should be (100,)\n",
        "\"\"\"\n",
        "\n",
        "# START CODE HERE\n",
        "\n",
        "X = data.loc[:, ['petal_length', 'petal_width']].to_numpy()\n",
        "y = data['species']\n",
        "\n",
        "# X = data['petal_length','petal_width'].to_numpy()\n",
        "\n",
        "# END CODE HERE"
      ],
      "execution_count": null,
      "outputs": []
    },
    {
      "cell_type": "code",
      "metadata": {
        "id": "Y9Gthlpt9rd1"
      },
      "source": [
        "X_train, X_test, y_train, y_test = train_test_split(X, y, test_size=0.33)"
      ],
      "execution_count": null,
      "outputs": []
    },
    {
      "cell_type": "markdown",
      "metadata": {
        "id": "oAHD2VcXA550"
      },
      "source": [
        "We will be using scikit-learn's `LogisticRegression`  class. You can find the documentation and example usage [here](https://scikit-learn.org/stable/modules/generated/sklearn.linear_model.LogisticRegression.html). Run the following cells to train and evaluate this model on our dataset.\n",
        "\n",
        "**Questions:**\n",
        "\n",
        "1. How well does your model perform on the training set?\n",
        "2. How well does your model perform on the testing set? Did it to better or\n",
        "worse compared to the training set? Is the result what you expected?\n",
        "\n",
        "**Answers:**\n",
        "\n",
        "1. The model performed with an accuracy of 0.9403 on the training set.\n",
        "2. The model performed with an accuracy of 0.9394 on the testing set. It did worse in comparison to the training set, which I did not expect. I was expecting the testing set to do better, since the model was already trained."
      ]
    },
    {
      "cell_type": "code",
      "metadata": {
        "colab": {
          "base_uri": "https://localhost:8080/"
        },
        "id": "21L9dilCBTo4",
        "outputId": "438f1985-bc18-48cd-f547-cb7d5ece6d21"
      },
      "source": [
        "\"\"\"\n",
        "Create a new logistic regression model and fit it to the TRAINING dataset.\n",
        "\"\"\"\n",
        "\n",
        "# START CODE HERE\n",
        "\n",
        "model = LogisticRegression()\n",
        "model.fit(X_train, y_train)\n",
        "\n",
        "# END CODE HERE"
      ],
      "execution_count": null,
      "outputs": [
        {
          "output_type": "execute_result",
          "data": {
            "text/plain": [
              "LogisticRegression(C=1.0, class_weight=None, dual=False, fit_intercept=True,\n",
              "                   intercept_scaling=1, l1_ratio=None, max_iter=100,\n",
              "                   multi_class='auto', n_jobs=None, penalty='l2',\n",
              "                   random_state=None, solver='lbfgs', tol=0.0001, verbose=0,\n",
              "                   warm_start=False)"
            ]
          },
          "metadata": {
            "tags": []
          },
          "execution_count": 7
        }
      ]
    },
    {
      "cell_type": "code",
      "metadata": {
        "colab": {
          "base_uri": "https://localhost:8080/"
        },
        "id": "hRFj30QRBmya",
        "outputId": "3c526a28-01cb-45bd-ff6c-569329688ec3"
      },
      "source": [
        "\"\"\"\n",
        "Check the accuracy of the model on the training and testing sets.\n",
        "\"\"\"\n",
        "\n",
        "# START CODE HERE\n",
        "\n",
        "print(f'Training accuracy: {model.score(X_train, y_train)}')\n",
        "print(f'Testing accuracy: {model.score(X_test, y_test)}')\n",
        "\n",
        "# END CODE HERE"
      ],
      "execution_count": null,
      "outputs": [
        {
          "output_type": "stream",
          "text": [
            "Training accuracy: 0.9253731343283582\n",
            "Testing accuracy: 0.9393939393939394\n"
          ],
          "name": "stdout"
        }
      ]
    },
    {
      "cell_type": "markdown",
      "metadata": {
        "id": "Nrp4a2COCXOe"
      },
      "source": [
        "Congratulations! You have successfully trained a logistic regression model. Finally, let's try to visualize what exactly our model is doing by adding the decision boundary to our scatterplot from earlier."
      ]
    },
    {
      "cell_type": "code",
      "metadata": {
        "colab": {
          "base_uri": "https://localhost:8080/",
          "height": 295
        },
        "id": "71j-8jswCmaR",
        "outputId": "aa026c88-eee8-44e1-cc96-3821afa8fd2e"
      },
      "source": [
        "def plot_decision_boundary(model, xmin, xmax):\n",
        "  c1, c2 = model.coef_[0]\n",
        "  b = model.intercept_\n",
        "  x_values = np.array([xmin, xmax])\n",
        "  y_values = -(c1 * x_values + b) / c2\n",
        "  plt.plot(x_values, y_values, linestyle=\"dashed\")\n",
        "\n",
        "plot_decision_boundary(model, 3, 7)\n",
        "\n",
        "\"\"\"\n",
        "Use the code from earlier to create a scatterplot with axis labels and a title.\n",
        "\"\"\"\n",
        "\n",
        "# START CODE HERE\n",
        "\n",
        "plt.scatter(X_test[:,0], X_test[:,1], c=y_test, edgecolors='k')\n",
        "plt.xlabel('Petal length')\n",
        "plt.ylabel('Petal width')\n",
        "plt.title('Iris species by petal size (with model decision boundary)')\n",
        "\n",
        "# END CODE HERE\n",
        "\n",
        "plt.show()"
      ],
      "execution_count": null,
      "outputs": [
        {
          "output_type": "display_data",
          "data": {
            "image/png": "[encoded data removed]",
            "text/plain": [
              "<Figure size 432x288 with 1 Axes>"
            ]
          },
          "metadata": {
            "tags": [],
            "needs_background": "light"
          }
        }
      ]
    },
    {
      "cell_type": "markdown",
      "metadata": {
        "id": "RkyKrTvkD7Sk"
      },
      "source": [
        "## Task 2. Handwritten Digit Classification"
      ]
    },
    {
      "cell_type": "markdown",
      "metadata": {
        "id": "TGcR_diIEVIQ"
      },
      "source": [
        "Next, let's try something slightly more difficult. Given the pixel values of an image containing a handwritten digit, we want to try to identify which digit is in the image. This kind of task is known as **image classification**, and a lot of machine learning research has been devoted to similar tasks.\n",
        "\n",
        "First, we will load in the data. The scikit-learn library already has this dataset built in, so you only need to run the following code."
      ]
    },
    {
      "cell_type": "code",
      "metadata": {
        "id": "3Ga9h_BGmL9D"
      },
      "source": [
        "# Import function\n",
        "from sklearn.datasets import load_digits\n",
        "\n",
        "# Load data\n",
        "digits = load_digits()\n",
        "X = digits.data\n",
        "y = digits.target\n",
        "\n",
        "# Create train and test set\n",
        "X_train, X_test, y_train, y_test = train_test_split(X, y, test_size=0.33)"
      ],
      "execution_count": null,
      "outputs": []
    },
    {
      "cell_type": "markdown",
      "metadata": {
        "id": "NHtYoZ8XFzv8"
      },
      "source": [
        "This dataset contains 1797 images with a resolution of 8 pixels by 8 pixels. The format of the dataset is as follows:\n",
        "\n",
        "* `X` is a 2-dimensional NumPy array with dimensions 1797x64. Each row is a length 64 vector corresponding to an image. The length of 64 comes from squashing the 8x8 image resolution into a 1-dimensional vector.\n",
        "\n",
        "* `y` is a 1-dimensional NumPy array with length 1797. Each entry of `y` gives the value of the digit contained in the corresponding image from `X`.\n",
        "\n",
        "Like before, let's start by exploring our data.\n",
        "\n",
        "**Questions:**\n",
        "\n",
        "1. How do you think an 8 pixel by 8 pixel image was squashed down into a length 64 vector?\n",
        "2. Run the below cell several times, changing the value of `index` each time. How well are you able to identify the handwritten digit? How well do you think a logistic regression model would be at identifying the handwritten digit?\n",
        "\n",
        "**Answers:**\n",
        "\n",
        "1. I think an 8x8 image was squashed into a length 64 by turning into a 2D array. This would allow the 2-dimensional image to be reprensentated as a 1-dimensional length of data.\n",
        "2. I was able to identify the digit, although some were more difficult than others due to their strange shape. I think the logistic regression model would be worse at identifying the handwritten digit, since handwriting varies much more than an 8x8 pixel image."
      ]
    },
    {
      "cell_type": "code",
      "metadata": {
        "colab": {
          "base_uri": "https://localhost:8080/",
          "height": 282
        },
        "id": "U5OJV_L1IICB",
        "outputId": "76640336-83e6-4058-f195-394725b88aa0"
      },
      "source": [
        "index = 100\n",
        "\n",
        "# Here, we use `np.reshape` to convert the length 64 vector into an 8x8 matrix.\n",
        "image = X[index]\n",
        "reshaped_image = np.reshape(image, (8, 8))\n",
        "\n",
        "label = y[index]\n",
        "print('Digit:', label)\n",
        "\n",
        "plt.imshow(reshaped_image, cmap='gray')\n",
        "plt.show()"
      ],
      "execution_count": null,
      "outputs": [
        {
          "output_type": "stream",
          "text": [
            "Digit: 4\n"
          ],
          "name": "stdout"
        },
        {
          "output_type": "display_data",
          "data": {
            "image/png": "[encoded data removed]",
            "text/plain": [
              "<Figure size 432x288 with 1 Axes>"
            ]
          },
          "metadata": {
            "tags": [],
            "needs_background": "light"
          }
        }
      ]
    },
    {
      "cell_type": "markdown",
      "metadata": {
        "id": "1IJY8HyPJBtC"
      },
      "source": [
        "Now, create a logistic regression model as before, and fit it to the training set. You will want to set the\n",
        "`max_iter` parameter of `LogisticRegression` to 5000 to prevent scikit-learn from giving an error message about the number of iterations. Feel free to change `max_iter` to something else, and see if anything happens!"
      ]
    },
    {
      "cell_type": "code",
      "metadata": {
        "colab": {
          "base_uri": "https://localhost:8080/"
        },
        "id": "ApUu-w-NonZo",
        "outputId": "ae2ab64e-09e3-4f50-f3b6-0a43ee201d1f"
      },
      "source": [
        "\"\"\"\n",
        "Create a model as before, and fit it to the training set.\n",
        "\"\"\"\n",
        "\n",
        "# START CODE HERE\n",
        "\n",
        "model = LogisticRegression(max_iter=5000)\n",
        "model.fit(X_train, y_train)\n",
        "\n",
        "# END CODE HERE"
      ],
      "execution_count": null,
      "outputs": [
        {
          "output_type": "execute_result",
          "data": {
            "text/plain": [
              "LogisticRegression(C=1.0, class_weight=None, dual=False, fit_intercept=True,\n",
              "                   intercept_scaling=1, l1_ratio=None, max_iter=5000,\n",
              "                   multi_class='auto', n_jobs=None, penalty='l2',\n",
              "                   random_state=None, solver='lbfgs', tol=0.0001, verbose=0,\n",
              "                   warm_start=False)"
            ]
          },
          "metadata": {
            "tags": []
          },
          "execution_count": 12
        }
      ]
    },
    {
      "cell_type": "code",
      "metadata": {
        "colab": {
          "base_uri": "https://localhost:8080/"
        },
        "id": "knX4QTdGozyF",
        "outputId": "41dabf0e-a8e3-475a-d909-246a7362626e"
      },
      "source": [
        "\"\"\"\n",
        "Check the accuracy of the model on the training and testing sets.\n",
        "\"\"\"\n",
        "\n",
        "# START CODE HERE\n",
        "\n",
        "print(f'Training accuracy: {model.score(X_train, y_train)}')\n",
        "print(f'Testing accuracy: {model.score(X_test, y_test)}')\n",
        "\n",
        "# END CODE HERE"
      ],
      "execution_count": null,
      "outputs": [
        {
          "output_type": "stream",
          "text": [
            "Training accuracy: 1.0\n",
            "Testing accuracy: 0.9764309764309764\n"
          ],
          "name": "stdout"
        }
      ]
    },
    {
      "cell_type": "markdown",
      "metadata": {
        "id": "brUBiagBJ-Kt"
      },
      "source": [
        "Nice job! Did the model perform as you expected it to? For fun, we can test our model on some individual samples. Again, feel free to change the `index` variable's value to try other images.\n",
        "\n",
        "**Question:** Do you suspect the model would have performed better if we used a larger image resolution? Why or why not?\n",
        "\n",
        "**Answer:** I think the model would have performed better with a large image resolution because the data would have provided more points to analyze. As a result, the shape of the image would be more clear and incorrect analysis would have less effect on the overall outcome."
      ]
    },
    {
      "cell_type": "code",
      "metadata": {
        "colab": {
          "base_uri": "https://localhost:8080/",
          "height": 299
        },
        "id": "zjISzW0UpDfA",
        "outputId": "34b666aa-9de7-46b0-ff70-0e3f80119fc0"
      },
      "source": [
        "index = 500\n",
        "\n",
        "# Here, we use `np.reshape` to convert the length 64 vector into an 8x8 matrix.\n",
        "image = X_test[index]\n",
        "reshaped_image = np.reshape(image, (8, 8))\n",
        "\n",
        "label = y_test[index]\n",
        "print('Correct digit:', label)\n",
        "\n",
        "prediction = model.predict([image])[0]\n",
        "print('Model prediction:', prediction)\n",
        "\n",
        "plt.imshow(reshaped_image, cmap='gray')\n",
        "plt.show()"
      ],
      "execution_count": null,
      "outputs": [
        {
          "output_type": "stream",
          "text": [
            "Correct digit: 8\n",
            "Model prediction: 8\n"
          ],
          "name": "stdout"
        },
        {
          "output_type": "display_data",
          "data": {
            "image/png": "[encoded data removed]",
            "text/plain": [
              "<Figure size 432x288 with 1 Axes>"
            ]
          },
          "metadata": {
            "tags": [],
            "needs_background": "light"
          }
        }
      ]
    }
  ]
}